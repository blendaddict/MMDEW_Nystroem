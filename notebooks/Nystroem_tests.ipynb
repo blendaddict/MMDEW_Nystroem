{
 "cells": [
  {
   "cell_type": "code",
   "execution_count": 27,
   "metadata": {
    "collapsed": true,
    "ExecuteTime": {
     "end_time": "2023-07-23T21:10:30.544647123Z",
     "start_time": "2023-07-23T21:10:30.503389800Z"
    }
   },
   "outputs": [],
   "source": [
    "import numpy as np\n",
    "\n",
    "\n",
    "j = np.ones(10) + 1\n"
   ]
  },
  {
   "cell_type": "code",
   "execution_count": 28,
   "outputs": [],
   "source": [
    "import math\n",
    "import numpy.linalg as la\n",
    "from sklearn import metrics\n",
    "\n",
    "def get_alpha( XX, X_mn, n):\n",
    "    return 1 / n * la.pinv(XX) @ X_mn @ np.ones((n, 1))\n",
    "\n",
    "def get_bucket_content(X, m=0):\n",
    "    n = len(X)\n",
    "    X = X.reshape(1, -1)\n",
    "    if m == 0:\n",
    "        m = round(math.sqrt(n))\n",
    "    m_idx = np.random.default_rng().integers(n, size=m)\n",
    "    X_tilde = X[m_idx]\n",
    "    X_mn = metrics.pairwise.rbf_kernel(X_tilde, X)\n",
    "    alpha = get_alpha(X, X_mn, n)\n",
    "    return X_tilde, alpha, m"
   ],
   "metadata": {
    "collapsed": false,
    "ExecuteTime": {
     "end_time": "2023-07-23T21:10:30.901191964Z",
     "start_time": "2023-07-23T21:10:30.892591620Z"
    }
   }
  },
  {
   "cell_type": "code",
   "execution_count": 29,
   "outputs": [
    {
     "name": "stdout",
     "output_type": "stream",
     "text": [
      "[1]\n"
     ]
    }
   ],
   "source": [
    "X = np.array([1])\n",
    "print(X)"
   ],
   "metadata": {
    "collapsed": false,
    "ExecuteTime": {
     "end_time": "2023-07-23T21:10:31.352977910Z",
     "start_time": "2023-07-23T21:10:31.342933020Z"
    }
   }
  },
  {
   "cell_type": "code",
   "execution_count": 30,
   "outputs": [
    {
     "data": {
      "text/plain": "(array([[1]]), array([[1.]]), 1)"
     },
     "execution_count": 30,
     "metadata": {},
     "output_type": "execute_result"
    }
   ],
   "source": [
    "get_bucket_content( X)"
   ],
   "metadata": {
    "collapsed": false,
    "ExecuteTime": {
     "end_time": "2023-07-23T21:10:31.799603234Z",
     "start_time": "2023-07-23T21:10:31.776352025Z"
    }
   }
  },
  {
   "cell_type": "code",
   "execution_count": 31,
   "outputs": [
    {
     "data": {
      "text/plain": "array([1, 2])"
     },
     "execution_count": 31,
     "metadata": {},
     "output_type": "execute_result"
    }
   ],
   "source": [
    "kl = np.array([1,2])\n",
    "kl.shape\n",
    "kl"
   ],
   "metadata": {
    "collapsed": false,
    "ExecuteTime": {
     "end_time": "2023-07-23T21:10:32.178570033Z",
     "start_time": "2023-07-23T21:10:32.159125115Z"
    }
   }
  },
  {
   "cell_type": "code",
   "execution_count": 32,
   "outputs": [
    {
     "data": {
      "text/plain": "(1, 2)"
     },
     "execution_count": 32,
     "metadata": {},
     "output_type": "execute_result"
    }
   ],
   "source": [
    "kl = np.array([1,2])\n",
    "kl = np.array([kl])\n",
    "kl.shape"
   ],
   "metadata": {
    "collapsed": false,
    "ExecuteTime": {
     "end_time": "2023-07-23T21:10:32.696837529Z",
     "start_time": "2023-07-23T21:10:32.678110705Z"
    }
   }
  },
  {
   "cell_type": "code",
   "execution_count": 33,
   "outputs": [
    {
     "data": {
      "text/plain": "array([[1, 2]])"
     },
     "execution_count": 33,
     "metadata": {},
     "output_type": "execute_result"
    }
   ],
   "source": [
    "kl\n"
   ],
   "metadata": {
    "collapsed": false,
    "ExecuteTime": {
     "end_time": "2023-07-23T21:10:33.074967430Z",
     "start_time": "2023-07-23T21:10:33.071161066Z"
    }
   }
  },
  {
   "cell_type": "code",
   "execution_count": 34,
   "outputs": [],
   "source": [
    "A = [[6, 7],\n",
    "      [8, 9]]\n",
    "\n",
    "B = [[1],[0]]\n"
   ],
   "metadata": {
    "collapsed": false,
    "ExecuteTime": {
     "end_time": "2023-07-23T21:10:33.415851717Z",
     "start_time": "2023-07-23T21:10:33.403187294Z"
    }
   }
  },
  {
   "cell_type": "code",
   "execution_count": 35,
   "outputs": [
    {
     "name": "stdout",
     "output_type": "stream",
     "text": [
      "[[6]\n",
      " [8]]\n",
      "[6 8]\n"
     ]
    }
   ],
   "source": [
    "kek = np.array(A) @ np.array(B)\n",
    "print(kek)\n",
    "print(kek.flatten())"
   ],
   "metadata": {
    "collapsed": false,
    "ExecuteTime": {
     "end_time": "2023-07-23T21:10:34.008172110Z",
     "start_time": "2023-07-23T21:10:34.004474976Z"
    }
   }
  },
  {
   "cell_type": "code",
   "execution_count": 36,
   "outputs": [
    {
     "name": "stdout",
     "output_type": "stream",
     "text": [
      "[2 4 6]\n",
      "[[1.00000000e+00 1.11022302e-16]\n",
      " [1.11022302e-16 1.00000000e+00]]\n"
     ]
    }
   ],
   "source": [
    "import numpy.linalg as la\n",
    "threeByTwoMatrix = np.array([[1, 0] ,[0,1], [1,1]])\n",
    "vector = np.array([2,4])\n",
    "print(threeByTwoMatrix @ vector)\n",
    "print(la.pinv(threeByTwoMatrix) @ threeByTwoMatrix)"
   ],
   "metadata": {
    "collapsed": false,
    "ExecuteTime": {
     "end_time": "2023-07-23T21:10:34.500642084Z",
     "start_time": "2023-07-23T21:10:34.494860045Z"
    }
   }
  },
  {
   "cell_type": "code",
   "execution_count": 60,
   "outputs": [
    {
     "name": "stdout",
     "output_type": "stream",
     "text": [
      "[[0.60653066 0.00150344]\n",
      " [0.13533528 0.36787944]]\n"
     ]
    },
    {
     "data": {
      "text/plain": "array([1, 2, 2, 3, 4])"
     },
     "execution_count": 60,
     "metadata": {},
     "output_type": "execute_result"
    }
   ],
   "source": [
    "def k(x, y):\n",
    "    return metrics.pairwise.rbf_kernel(x,y)\n",
    "\n",
    "first , second = [[1,2],[3,3]], [[1,3],[4,4]]\n",
    "\n",
    "M = k(first,second)\n",
    "print(M)\n",
    "a = np.array([1])\n",
    "b = np.array([2,2,3,4])\n",
    "np.concatenate((a,b))"
   ],
   "metadata": {
    "collapsed": false,
    "ExecuteTime": {
     "end_time": "2023-07-23T22:12:02.884753252Z",
     "start_time": "2023-07-23T22:12:02.840391777Z"
    }
   }
  },
  {
   "cell_type": "code",
   "execution_count": 67,
   "outputs": [
    {
     "data": {
      "text/plain": "array([[0.5, 0. ],\n       [0. , 0.5]])"
     },
     "execution_count": 67,
     "metadata": {},
     "output_type": "execute_result"
    }
   ],
   "source": [
    "A = np.array([[1,0],[0,1]])\n",
    "A @ (.5 * A)"
   ],
   "metadata": {
    "collapsed": false,
    "ExecuteTime": {
     "end_time": "2023-07-23T22:23:06.408623434Z",
     "start_time": "2023-07-23T22:23:06.366239220Z"
    }
   }
  }
 ],
 "metadata": {
  "kernelspec": {
   "display_name": "Python 3",
   "language": "python",
   "name": "python3"
  },
  "language_info": {
   "codemirror_mode": {
    "name": "ipython",
    "version": 2
   },
   "file_extension": ".py",
   "mimetype": "text/x-python",
   "name": "python",
   "nbconvert_exporter": "python",
   "pygments_lexer": "ipython2",
   "version": "2.7.6"
  }
 },
 "nbformat": 4,
 "nbformat_minor": 0
}
