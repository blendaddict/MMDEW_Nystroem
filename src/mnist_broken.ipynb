{
 "cells": [
  {
   "cell_type": "code",
   "execution_count": 21,
   "metadata": {
    "ExecuteTime": {
     "end_time": "2023-09-08T12:22:10.156534Z",
     "start_time": "2023-09-08T12:22:10.136461Z"
    },
    "collapsed": true
   },
   "outputs": [],
   "source": [
    "from data import MNIST\n",
    "from mmdew_adapter import MMDEWAdapter\n",
    "from mmdew.mmd import MMD\n",
    "import matplotlib.pyplot as plt"
   ]
  },
  {
   "cell_type": "code",
   "execution_count": 22,
   "metadata": {
    "ExecuteTime": {
     "end_time": "2023-09-08T12:22:11.587718Z",
     "start_time": "2023-09-08T12:22:10.147037Z"
    },
    "collapsed": false
   },
   "outputs": [],
   "source": [
    "from sklearn import preprocessing\n",
    "import numpy as np\n",
    "def preprocess(x):\n",
    "    return preprocessing.minmax_scale(x)\n",
    "mnist = MNIST(preprocess=preprocess)"
   ]
  },
  {
   "cell_type": "code",
   "execution_count": 23,
   "metadata": {
    "ExecuteTime": {
     "end_time": "2023-09-08T12:22:11.591306Z",
     "start_time": "2023-09-08T12:22:11.589270Z"
    },
    "collapsed": false
   },
   "outputs": [
    {
     "name": "stdout",
     "output_type": "stream",
     "text": [
      "[7141, 14017, 20841, 27831, 34734, 41692, 48985, 55810, 63687]\n"
     ]
    }
   ],
   "source": [
    "\n",
    "cps = mnist._change_points\n",
    "true_cps = [i for i, x in enumerate(cps) if x]\n",
    "fst_cps = true_cps[0]\n",
    "snd_cps = true_cps[1]\n",
    "thrd_cps = true_cps[2]\n",
    "fst_cps\n",
    "print(true_cps)"
   ]
  },
  {
   "cell_type": "markdown",
   "metadata": {},
   "source": [
    "I have been getting weird values for my mmd between different classes. Lets just try it with conventional mmd"
   ]
  },
  {
   "cell_type": "code",
   "execution_count": 24,
   "metadata": {},
   "outputs": [
    {
     "name": "stdout",
     "output_type": "stream",
     "text": [
      "0.00028548701497014363\n",
      "7141\n",
      "6876\n"
     ]
    }
   ],
   "source": [
    "mymmd = MMD(1)\n",
    "X = []\n",
    "Y = []\n",
    "for i in range(snd_cps):\n",
    "    if i < fst_cps:\n",
    "        next_sample, _, is_change = mnist.next_sample()\n",
    "        X.append(next_sample)\n",
    "    else:\n",
    "        next_sample, _, is_change = mnist.next_sample()\n",
    "        Y.append(next_sample)\n",
    "X = np.array(X).reshape(fst_cps, -1)\n",
    "Y = np.array(Y).reshape(snd_cps - fst_cps, -1)\n",
    "\n",
    "print(mymmd.mmd(X,Y))\n",
    "print(len(X))\n",
    "print(len(Y))"
   ]
  },
  {
   "cell_type": "markdown",
   "metadata": {},
   "source": [
    "## Sample of first dataset"
   ]
  },
  {
   "cell_type": "code",
   "execution_count": 25,
   "metadata": {},
   "outputs": [
    {
     "data": {
      "image/png": "[encoded data removed]",
      "text/plain": [
       "<Figure size 640x480 with 1 Axes>"
      ]
     },
     "metadata": {},
     "output_type": "display_data"
    }
   ],
   "source": [
    "image = X[0].reshape(28, 28)\n",
    "plt.imshow(image, cmap='gray')\n",
    "plt.axis('off')  # Turn off axis numbers\n",
    "plt.show()"
   ]
  },
  {
   "cell_type": "markdown",
   "metadata": {},
   "source": [
    "## Sample of second dataset"
   ]
  },
  {
   "cell_type": "code",
   "execution_count": 26,
   "metadata": {},
   "outputs": [
    {
     "data": {
      "image/png": "[encoded data removed]",
      "text/plain": [
       "<Figure size 640x480 with 1 Axes>"
      ]
     },
     "metadata": {},
     "output_type": "display_data"
    }
   ],
   "source": [
    "image = Y[0].reshape(28, 28)\n",
    "plt.imshow(image, cmap='gray')\n",
    "plt.axis('off')  # Turn off axis numbers\n",
    "plt.show()"
   ]
  },
  {
   "cell_type": "code",
   "execution_count": null,
   "metadata": {},
   "outputs": [],
   "source": []
  }
 ],
 "metadata": {
  "kernelspec": {
   "display_name": "Python 3",
   "language": "python",
   "name": "python3"
  },
  "language_info": {
   "codemirror_mode": {
    "name": "ipython",
    "version": 3
   },
   "file_extension": ".py",
   "mimetype": "text/x-python",
   "name": "python",
   "nbconvert_exporter": "python",
   "pygments_lexer": "ipython3",
   "version": "3.10.10"
  }
 },
 "nbformat": 4,
 "nbformat_minor": 0
}
