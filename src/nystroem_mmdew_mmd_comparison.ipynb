{
 "cells": [
  {
   "cell_type": "code",
   "execution_count": 10,
   "metadata": {
    "collapsed": true,
    "ExecuteTime": {
     "end_time": "2023-08-09T19:43:35.085213787Z",
     "start_time": "2023-08-09T19:43:35.043431271Z"
    }
   },
   "outputs": [],
   "source": [
    "import numpy as np\n",
    "import pandas as pd\n",
    "from mmdew.bucket_stream2 import BucketStream\n",
    "from mmdew.bucket_stream_old import BucketStream as OldBucketStream\n",
    "\n",
    "\n",
    "np.random.seed(seed=42)\n",
    "\n",
    "bs_ss = BucketStream(gamma=1)\n",
    "bs_no_ss = BucketStream(gamma=1, apply_subsampling=False)\n"
   ]
  },
  {
   "cell_type": "code",
   "execution_count": 11,
   "outputs": [
    {
     "ename": "ValueError",
     "evalue": "Found array with dim 3. check_pairwise_arrays expected <= 2.",
     "output_type": "error",
     "traceback": [
      "\u001B[0;31m---------------------------------------------------------------------------\u001B[0m",
      "\u001B[0;31mValueError\u001B[0m                                Traceback (most recent call last)",
      "Cell \u001B[0;32mIn[11], line 15\u001B[0m\n\u001B[1;32m     13\u001B[0m Y \u001B[38;5;241m=\u001B[39m [[\u001B[38;5;241m2\u001B[39m]]\n\u001B[1;32m     14\u001B[0m \u001B[38;5;28;01mfor\u001B[39;00m i \u001B[38;5;129;01min\u001B[39;00m \u001B[38;5;28mrange\u001B[39m(\u001B[38;5;241m0\u001B[39m,limit):\n\u001B[0;32m---> 15\u001B[0m     \u001B[43mbs_ss\u001B[49m\u001B[38;5;241;43m.\u001B[39;49m\u001B[43minsert_no_cut\u001B[49m\u001B[43m(\u001B[49m\u001B[43m[\u001B[49m\u001B[43mX\u001B[49m\u001B[43m[\u001B[49m\u001B[38;5;241;43m0\u001B[39;49m\u001B[43m]\u001B[49m\u001B[43m]\u001B[49m\u001B[43m)\u001B[49m\n\u001B[1;32m     16\u001B[0m     bs_no_ss\u001B[38;5;241m.\u001B[39minsert_no_cut([X[\u001B[38;5;241m0\u001B[39m]])\n\u001B[1;32m     17\u001B[0m     bs_old\u001B[38;5;241m.\u001B[39minsert_no_cut([X[\u001B[38;5;241m0\u001B[39m]])\n",
      "File \u001B[0;32m~/MMDEW_Nystroem/src/mmdew/bucket_stream2.py:45\u001B[0m, in \u001B[0;36mBucketStream.insert_no_cut\u001B[0;34m(self, element)\u001B[0m\n\u001B[1;32m     36\u001B[0m \u001B[38;5;28;01mdef\u001B[39;00m \u001B[38;5;21minsert_no_cut\u001B[39m(\u001B[38;5;28mself\u001B[39m, element):\n\u001B[1;32m     37\u001B[0m     \u001B[38;5;28mself\u001B[39m\u001B[38;5;241m.\u001B[39mbuckets \u001B[38;5;241m+\u001B[39m\u001B[38;5;241m=\u001B[39m [\n\u001B[1;32m     38\u001B[0m         Bucket(\n\u001B[1;32m     39\u001B[0m             elements\u001B[38;5;241m=\u001B[39mnp\u001B[38;5;241m.\u001B[39marray([element]),\n\u001B[0;32m   (...)\u001B[0m\n\u001B[1;32m     43\u001B[0m         )\n\u001B[1;32m     44\u001B[0m     ]\n\u001B[0;32m---> 45\u001B[0m     \u001B[38;5;28;43mself\u001B[39;49m\u001B[38;5;241;43m.\u001B[39;49m\u001B[43m_merge\u001B[49m\u001B[43m(\u001B[49m\u001B[43m)\u001B[49m\n",
      "File \u001B[0;32m~/MMDEW_Nystroem/src/mmdew/bucket_stream2.py:172\u001B[0m, in \u001B[0;36mBucketStream._merge\u001B[0;34m(self)\u001B[0m\n\u001B[1;32m    170\u001B[0m previous \u001B[38;5;241m=\u001B[39m \u001B[38;5;28mself\u001B[39m\u001B[38;5;241m.\u001B[39mbuckets[\u001B[38;5;241m-\u001B[39m\u001B[38;5;241m2\u001B[39m]\n\u001B[1;32m    171\u001B[0m \u001B[38;5;28;01mif\u001B[39;00m previous\u001B[38;5;241m.\u001B[39muncompressed_capacity \u001B[38;5;241m==\u001B[39m current\u001B[38;5;241m.\u001B[39muncompressed_capacity:\n\u001B[0;32m--> 172\u001B[0m     \u001B[38;5;28mself\u001B[39m\u001B[38;5;241m.\u001B[39mbuckets \u001B[38;5;241m=\u001B[39m \u001B[38;5;28mself\u001B[39m\u001B[38;5;241m.\u001B[39mbuckets[:\u001B[38;5;241m-\u001B[39m\u001B[38;5;241m2\u001B[39m] \u001B[38;5;241m+\u001B[39m [\u001B[38;5;28;43mself\u001B[39;49m\u001B[38;5;241;43m.\u001B[39;49m\u001B[43mmerge_buckets\u001B[49m\u001B[43m(\u001B[49m\u001B[38;5;28;43mself\u001B[39;49m\u001B[38;5;241;43m.\u001B[39;49m\u001B[43mbuckets\u001B[49m\u001B[43m[\u001B[49m\u001B[38;5;241;43m-\u001B[39;49m\u001B[38;5;241;43m2\u001B[39;49m\u001B[43m:\u001B[49m\u001B[43m]\u001B[49m\u001B[43m)\u001B[49m]\n\u001B[1;32m    173\u001B[0m     \u001B[38;5;28mself\u001B[39m\u001B[38;5;241m.\u001B[39m_merge()\n",
      "File \u001B[0;32m~/MMDEW_Nystroem/src/mmdew/bucket_stream2.py:137\u001B[0m, in \u001B[0;36mBucketStream.merge_buckets\u001B[0;34m(self, bucket_list)\u001B[0m\n\u001B[1;32m    135\u001B[0m combined_uncompressed_capacity \u001B[38;5;241m=\u001B[39m current\u001B[38;5;241m.\u001B[39muncompressed_capacity \u001B[38;5;241m+\u001B[39m previous\u001B[38;5;241m.\u001B[39muncompressed_capacity\n\u001B[1;32m    136\u001B[0m joined_weights \u001B[38;5;241m=\u001B[39m np\u001B[38;5;241m.\u001B[39mconcatenate((current_weights, previous_weights))\n\u001B[0;32m--> 137\u001B[0m K_z \u001B[38;5;241m=\u001B[39m \u001B[38;5;28;43mself\u001B[39;49m\u001B[38;5;241;43m.\u001B[39;49m\u001B[43mk\u001B[49m\u001B[43m(\u001B[49m\u001B[43msubsample\u001B[49m\u001B[43m,\u001B[49m\u001B[43m \u001B[49m\u001B[43mjoined_elements\u001B[49m\u001B[43m)\u001B[49m\n\u001B[1;32m    141\u001B[0m \u001B[38;5;66;03m#K_m = np.zeros((m, m))  # initialize the kernel matrix with zeros\u001B[39;00m\n\u001B[1;32m    142\u001B[0m \u001B[38;5;66;03m#for i in range(m):\u001B[39;00m\n\u001B[1;32m    143\u001B[0m     \u001B[38;5;66;03m#for j in range(m):\u001B[39;00m\n\u001B[1;32m    144\u001B[0m         \u001B[38;5;66;03m# reshape to 2D array as rbf_kernel expects 2D array\u001B[39;00m\n\u001B[1;32m    146\u001B[0m K_m \u001B[38;5;241m=\u001B[39m \u001B[38;5;28mself\u001B[39m\u001B[38;5;241m.\u001B[39mk(subsample, subsample)\n",
      "File \u001B[0;32m~/MMDEW_Nystroem/src/mmdew/bucket_stream2.py:50\u001B[0m, in \u001B[0;36mBucketStream.k\u001B[0;34m(self, x, y)\u001B[0m\n\u001B[1;32m     37\u001B[0m     self.buckets += [\n\u001B[1;32m     38\u001B[0m         Bucket(\n\u001B[1;32m     39\u001B[0m             elements=np.array([element]),\n\u001B[0;32m   (...)\u001B[0m\n\u001B[1;32m     43\u001B[0m         )\n\u001B[1;32m     44\u001B[0m     ]\n\u001B[1;32m     45\u001B[0m     self._merge()\n\u001B[1;32m     48\u001B[0m def k(self, x, y):\n\u001B[1;32m     49\u001B[0m \n\u001B[0;32m---> 50\u001B[0m     #return metrics.pairwise.rbf_kernel(x,y, gamma=self.gamma)\n\u001B[1;32m     51\u001B[0m     return metrics.pairwise.linear_kernel(x,y )\n\u001B[1;32m     52\u001B[0m     #squared_norm = np.dot(x, x) - 2 * np.dot(x, y) + np.dot(y, y)\n\u001B[1;32m     53\u001B[0m     #return np.exp(-self.gamma * squared_norm)\n\u001B[1;32m     54\u001B[0m \n\u001B[1;32m     55\u001B[0m #ToDo: Delete function\n",
      "File \u001B[0;32m~/MMDEW_Nystroem/mmdew-nystroem/lib/python3.10/site-packages/sklearn/metrics/pairwise.py:1310\u001B[0m, in \u001B[0;36mrbf_kernel\u001B[0;34m(X, Y, gamma)\u001B[0m\n\u001B[1;32m   1285\u001B[0m \u001B[38;5;28;01mdef\u001B[39;00m \u001B[38;5;21mrbf_kernel\u001B[39m(X, Y\u001B[38;5;241m=\u001B[39m\u001B[38;5;28;01mNone\u001B[39;00m, gamma\u001B[38;5;241m=\u001B[39m\u001B[38;5;28;01mNone\u001B[39;00m):\n\u001B[1;32m   1286\u001B[0m \u001B[38;5;250m    \u001B[39m\u001B[38;5;124;03m\"\"\"Compute the rbf (gaussian) kernel between X and Y.\u001B[39;00m\n\u001B[1;32m   1287\u001B[0m \n\u001B[1;32m   1288\u001B[0m \u001B[38;5;124;03m        K(x, y) = exp(-gamma ||x-y||^2)\u001B[39;00m\n\u001B[0;32m   (...)\u001B[0m\n\u001B[1;32m   1308\u001B[0m \u001B[38;5;124;03m        The RBF kernel.\u001B[39;00m\n\u001B[1;32m   1309\u001B[0m \u001B[38;5;124;03m    \"\"\"\u001B[39;00m\n\u001B[0;32m-> 1310\u001B[0m     X, Y \u001B[38;5;241m=\u001B[39m \u001B[43mcheck_pairwise_arrays\u001B[49m\u001B[43m(\u001B[49m\u001B[43mX\u001B[49m\u001B[43m,\u001B[49m\u001B[43m \u001B[49m\u001B[43mY\u001B[49m\u001B[43m)\u001B[49m\n\u001B[1;32m   1311\u001B[0m     \u001B[38;5;28;01mif\u001B[39;00m gamma \u001B[38;5;129;01mis\u001B[39;00m \u001B[38;5;28;01mNone\u001B[39;00m:\n\u001B[1;32m   1312\u001B[0m         gamma \u001B[38;5;241m=\u001B[39m \u001B[38;5;241m1.0\u001B[39m \u001B[38;5;241m/\u001B[39m X\u001B[38;5;241m.\u001B[39mshape[\u001B[38;5;241m1\u001B[39m]\n",
      "File \u001B[0;32m~/MMDEW_Nystroem/mmdew-nystroem/lib/python3.10/site-packages/sklearn/metrics/pairwise.py:155\u001B[0m, in \u001B[0;36mcheck_pairwise_arrays\u001B[0;34m(X, Y, precomputed, dtype, accept_sparse, force_all_finite, copy)\u001B[0m\n\u001B[1;32m    146\u001B[0m     X \u001B[38;5;241m=\u001B[39m Y \u001B[38;5;241m=\u001B[39m check_array(\n\u001B[1;32m    147\u001B[0m         X,\n\u001B[1;32m    148\u001B[0m         accept_sparse\u001B[38;5;241m=\u001B[39maccept_sparse,\n\u001B[0;32m   (...)\u001B[0m\n\u001B[1;32m    152\u001B[0m         estimator\u001B[38;5;241m=\u001B[39mestimator,\n\u001B[1;32m    153\u001B[0m     )\n\u001B[1;32m    154\u001B[0m \u001B[38;5;28;01melse\u001B[39;00m:\n\u001B[0;32m--> 155\u001B[0m     X \u001B[38;5;241m=\u001B[39m \u001B[43mcheck_array\u001B[49m\u001B[43m(\u001B[49m\n\u001B[1;32m    156\u001B[0m \u001B[43m        \u001B[49m\u001B[43mX\u001B[49m\u001B[43m,\u001B[49m\n\u001B[1;32m    157\u001B[0m \u001B[43m        \u001B[49m\u001B[43maccept_sparse\u001B[49m\u001B[38;5;241;43m=\u001B[39;49m\u001B[43maccept_sparse\u001B[49m\u001B[43m,\u001B[49m\n\u001B[1;32m    158\u001B[0m \u001B[43m        \u001B[49m\u001B[43mdtype\u001B[49m\u001B[38;5;241;43m=\u001B[39;49m\u001B[43mdtype\u001B[49m\u001B[43m,\u001B[49m\n\u001B[1;32m    159\u001B[0m \u001B[43m        \u001B[49m\u001B[43mcopy\u001B[49m\u001B[38;5;241;43m=\u001B[39;49m\u001B[43mcopy\u001B[49m\u001B[43m,\u001B[49m\n\u001B[1;32m    160\u001B[0m \u001B[43m        \u001B[49m\u001B[43mforce_all_finite\u001B[49m\u001B[38;5;241;43m=\u001B[39;49m\u001B[43mforce_all_finite\u001B[49m\u001B[43m,\u001B[49m\n\u001B[1;32m    161\u001B[0m \u001B[43m        \u001B[49m\u001B[43mestimator\u001B[49m\u001B[38;5;241;43m=\u001B[39;49m\u001B[43mestimator\u001B[49m\u001B[43m,\u001B[49m\n\u001B[1;32m    162\u001B[0m \u001B[43m    \u001B[49m\u001B[43m)\u001B[49m\n\u001B[1;32m    163\u001B[0m     Y \u001B[38;5;241m=\u001B[39m check_array(\n\u001B[1;32m    164\u001B[0m         Y,\n\u001B[1;32m    165\u001B[0m         accept_sparse\u001B[38;5;241m=\u001B[39maccept_sparse,\n\u001B[0;32m   (...)\u001B[0m\n\u001B[1;32m    169\u001B[0m         estimator\u001B[38;5;241m=\u001B[39mestimator,\n\u001B[1;32m    170\u001B[0m     )\n\u001B[1;32m    172\u001B[0m \u001B[38;5;28;01mif\u001B[39;00m precomputed:\n",
      "File \u001B[0;32m~/MMDEW_Nystroem/mmdew-nystroem/lib/python3.10/site-packages/sklearn/utils/validation.py:915\u001B[0m, in \u001B[0;36mcheck_array\u001B[0;34m(array, accept_sparse, accept_large_sparse, dtype, order, copy, force_all_finite, ensure_2d, allow_nd, ensure_min_samples, ensure_min_features, estimator, input_name)\u001B[0m\n\u001B[1;32m    910\u001B[0m     \u001B[38;5;28;01mraise\u001B[39;00m \u001B[38;5;167;01mValueError\u001B[39;00m(\n\u001B[1;32m    911\u001B[0m         \u001B[38;5;124m\"\u001B[39m\u001B[38;5;124mdtype=\u001B[39m\u001B[38;5;124m'\u001B[39m\u001B[38;5;124mnumeric\u001B[39m\u001B[38;5;124m'\u001B[39m\u001B[38;5;124m is not compatible with arrays of bytes/strings.\u001B[39m\u001B[38;5;124m\"\u001B[39m\n\u001B[1;32m    912\u001B[0m         \u001B[38;5;124m\"\u001B[39m\u001B[38;5;124mConvert your data to numeric values explicitly instead.\u001B[39m\u001B[38;5;124m\"\u001B[39m\n\u001B[1;32m    913\u001B[0m     )\n\u001B[1;32m    914\u001B[0m \u001B[38;5;28;01mif\u001B[39;00m \u001B[38;5;129;01mnot\u001B[39;00m allow_nd \u001B[38;5;129;01mand\u001B[39;00m array\u001B[38;5;241m.\u001B[39mndim \u001B[38;5;241m>\u001B[39m\u001B[38;5;241m=\u001B[39m \u001B[38;5;241m3\u001B[39m:\n\u001B[0;32m--> 915\u001B[0m     \u001B[38;5;28;01mraise\u001B[39;00m \u001B[38;5;167;01mValueError\u001B[39;00m(\n\u001B[1;32m    916\u001B[0m         \u001B[38;5;124m\"\u001B[39m\u001B[38;5;124mFound array with dim \u001B[39m\u001B[38;5;132;01m%d\u001B[39;00m\u001B[38;5;124m. \u001B[39m\u001B[38;5;132;01m%s\u001B[39;00m\u001B[38;5;124m expected <= 2.\u001B[39m\u001B[38;5;124m\"\u001B[39m\n\u001B[1;32m    917\u001B[0m         \u001B[38;5;241m%\u001B[39m (array\u001B[38;5;241m.\u001B[39mndim, estimator_name)\n\u001B[1;32m    918\u001B[0m     )\n\u001B[1;32m    920\u001B[0m \u001B[38;5;28;01mif\u001B[39;00m force_all_finite:\n\u001B[1;32m    921\u001B[0m     _assert_all_finite(\n\u001B[1;32m    922\u001B[0m         array,\n\u001B[1;32m    923\u001B[0m         input_name\u001B[38;5;241m=\u001B[39minput_name,\n\u001B[1;32m    924\u001B[0m         estimator_name\u001B[38;5;241m=\u001B[39mestimator_name,\n\u001B[1;32m    925\u001B[0m         allow_nan\u001B[38;5;241m=\u001B[39mforce_all_finite \u001B[38;5;241m==\u001B[39m \u001B[38;5;124m\"\u001B[39m\u001B[38;5;124mallow-nan\u001B[39m\u001B[38;5;124m\"\u001B[39m,\n\u001B[1;32m    926\u001B[0m     )\n",
      "\u001B[0;31mValueError\u001B[0m: Found array with dim 3. check_pairwise_arrays expected <= 2."
     ]
    }
   ],
   "source": [
    "bs_ss = BucketStream(gamma=1)\n",
    "bs_no_ss = BucketStream(gamma=1, apply_subsampling=False)\n",
    "bs_old = OldBucketStream(gamma=1)\n",
    "\n",
    "for exponent in range(1,11):\n",
    "    bs_ss = BucketStream(gamma=1)\n",
    "    bs_no_ss = BucketStream(gamma=1, apply_subsampling=False)\n",
    "    bs_old = OldBucketStream(gamma=1)\n",
    "    limit = 2 ** exponent\n",
    "    X = np.random.normal(0,1,limit)\n",
    "    Y = np.random.normal(1,2,limit-1)\n",
    "    X = [[1]]\n",
    "    Y = [[2]]\n",
    "    for i in range(0,limit):\n",
    "        bs_ss.insert_no_cut([X[0]])\n",
    "        bs_no_ss.insert_no_cut([X[0]])\n",
    "        bs_old.insert_no_cut([X[0]])\n",
    "    for i in range(0,limit-1):\n",
    "        bs_ss.insert_no_cut([Y[0]])\n",
    "        bs_no_ss.insert_no_cut([Y[0]])\n",
    "        bs_old.insert_no_cut([Y[0]])\n",
    "    print(f\"SS:    exponent: {exponent} bucket count: {len(bs_ss.buckets)} mmd value={bs_ss.mmd(1)[0]}\")\n",
    "    print(f\"No SS: exponent: {exponent} bucket count: {len(bs_no_ss.buckets)} mmd value={bs_no_ss.mmd(1)[0]}\")\n",
    "    print(f\"MMDEW: exponent: {exponent} bucket count: {len(bs_old.buckets)} mmd value={bs_old.mmd(1)[0]}\\n\")\n",
    "    #print(X)\n",
    "    #print(Y)"
   ],
   "metadata": {
    "collapsed": false,
    "ExecuteTime": {
     "end_time": "2023-08-09T19:43:35.744836357Z",
     "start_time": "2023-08-09T19:43:35.672781468Z"
    }
   }
  },
  {
   "cell_type": "code",
   "execution_count": 12,
   "outputs": [
    {
     "data": {
      "text/plain": "array([[[1]]])"
     },
     "execution_count": 12,
     "metadata": {},
     "output_type": "execute_result"
    }
   ],
   "source": [
    "i = 0\n",
    "bs_ss.buckets[i].elements\n"
   ],
   "metadata": {
    "collapsed": false,
    "ExecuteTime": {
     "end_time": "2023-08-09T19:43:36.426569653Z",
     "start_time": "2023-08-09T19:43:36.400992711Z"
    }
   }
  },
  {
   "cell_type": "code",
   "execution_count": 13,
   "outputs": [
    {
     "data": {
      "text/plain": "1"
     },
     "execution_count": 13,
     "metadata": {},
     "output_type": "execute_result"
    }
   ],
   "source": [
    "bs_no_ss.buckets[i].capacity\n"
   ],
   "metadata": {
    "collapsed": false,
    "ExecuteTime": {
     "end_time": "2023-08-09T19:43:36.909906292Z",
     "start_time": "2023-08-09T19:43:36.892771947Z"
    }
   }
  },
  {
   "cell_type": "code",
   "execution_count": 14,
   "outputs": [
    {
     "data": {
      "text/plain": "1"
     },
     "execution_count": 14,
     "metadata": {},
     "output_type": "execute_result"
    }
   ],
   "source": [
    "bs_ss.buckets[i].uncompressed_capacity"
   ],
   "metadata": {
    "collapsed": false,
    "ExecuteTime": {
     "end_time": "2023-08-09T19:43:37.525834405Z",
     "start_time": "2023-08-09T19:43:37.514509831Z"
    }
   }
  },
  {
   "cell_type": "code",
   "execution_count": null,
   "outputs": [],
   "source": [],
   "metadata": {
    "collapsed": false
   }
  }
 ],
 "metadata": {
  "kernelspec": {
   "display_name": "Python 3",
   "language": "python",
   "name": "python3"
  },
  "language_info": {
   "codemirror_mode": {
    "name": "ipython",
    "version": 2
   },
   "file_extension": ".py",
   "mimetype": "text/x-python",
   "name": "python",
   "nbconvert_exporter": "python",
   "pygments_lexer": "ipython2",
   "version": "2.7.6"
  }
 },
 "nbformat": 4,
 "nbformat_minor": 0
}
