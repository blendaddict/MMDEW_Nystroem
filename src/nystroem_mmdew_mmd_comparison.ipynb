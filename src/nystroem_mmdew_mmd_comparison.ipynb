{
 "cells": [
  {
   "cell_type": "code",
   "execution_count": 8,
   "metadata": {
    "collapsed": true,
    "ExecuteTime": {
     "end_time": "2023-07-31T18:22:12.338984684Z",
     "start_time": "2023-07-31T18:22:12.332479094Z"
    }
   },
   "outputs": [],
   "source": [
    "import numpy as np\n",
    "import pandas as pd\n",
    "from mmdew.bucket_stream2 import BucketStream\n",
    "from mmdew.bucket_stream_old import BucketStream as OldBucketStream\n",
    "\n",
    "\n",
    "np.random.seed(seed=42)\n",
    "\n",
    "bs_ss = BucketStream(gamma=1)\n",
    "bs_no_ss = BucketStream(gamma=1, apply_subsampling=False)\n"
   ]
  },
  {
   "cell_type": "code",
   "execution_count": 14,
   "outputs": [
    {
     "name": "stdout",
     "output_type": "stream",
     "text": [
      "SS:    exponent: 1 bucket count: 2 mmd value=1.5121467706714677\n",
      "No SS: exponent: 1 bucket count: 2 mmd value=1.1462793523326023\n",
      "MMDEW: exponent: 1 bucket count: 2 mmd value=1.6510624080205767\n",
      "\n",
      "SS:    exponent: 2 bucket count: 3 mmd value=0.4013371789081789\n",
      "No SS: exponent: 2 bucket count: 3 mmd value=0.09734384661428912\n",
      "MMDEW: exponent: 2 bucket count: 3 mmd value=0.20108855904305944\n",
      "\n",
      "SS:    exponent: 3 bucket count: 4 mmd value=0.12523371892705534\n",
      "No SS: exponent: 3 bucket count: 4 mmd value=0.04217306280040235\n",
      "MMDEW: exponent: 3 bucket count: 4 mmd value=0.16962902993787188\n",
      "\n",
      "SS:    exponent: 4 bucket count: 5 mmd value=0.22645902031623644\n",
      "No SS: exponent: 4 bucket count: 5 mmd value=0.013658108692217473\n",
      "MMDEW: exponent: 4 bucket count: 5 mmd value=0.16297257674353727\n",
      "\n",
      "SS:    exponent: 5 bucket count: 6 mmd value=0.09990935611651758\n",
      "No SS: exponent: 5 bucket count: 6 mmd value=0.006516097750320118\n",
      "MMDEW: exponent: 5 bucket count: 6 mmd value=0.11306832402530487\n",
      "SS:    exponent: 6 bucket count: 7 mmd value=0.11123694971216165\n",
      "No SS: exponent: 6 bucket count: 7 mmd value=0.002351398285683228\n",
      "MMDEW: exponent: 6 bucket count: 7 mmd value=0.15062937297050483\n",
      "SS:    exponent: 7 bucket count: 8 mmd value=0.04034416813967755\n",
      "No SS: exponent: 7 bucket count: 8 mmd value=0.0005238558962501903\n",
      "MMDEW: exponent: 7 bucket count: 8 mmd value=0.19159421368158924\n",
      "SS:    exponent: 8 bucket count: 9 mmd value=0.03406802147108729\n",
      "No SS: exponent: 8 bucket count: 9 mmd value=0.00018572064655015484\n",
      "MMDEW: exponent: 8 bucket count: 9 mmd value=0.15242585365383277\n",
      "SS:    exponent: 9 bucket count: 10 mmd value=0.026217959376922065\n",
      "No SS: exponent: 9 bucket count: 10 mmd value=6.163119344620742e-05\n",
      "MMDEW: exponent: 9 bucket count: 10 mmd value=0.12789341929027842\n",
      "SS:    exponent: 10 bucket count: 11 mmd value=0.020958834149346312\n",
      "No SS: exponent: 10 bucket count: 11 mmd value=2.0956146186632678e-05\n",
      "MMDEW: exponent: 10 bucket count: 11 mmd value=0.12029815919749887\n"
     ]
    }
   ],
   "source": [
    "bs_ss = BucketStream(gamma=1)\n",
    "bs_no_ss = BucketStream(gamma=1, apply_subsampling=False)\n",
    "bs_old = OldBucketStream(gamma=1)\n",
    "\n",
    "for exponent in range(1,11):\n",
    "    bs_ss = BucketStream(gamma=1)\n",
    "    bs_no_ss = BucketStream(gamma=1, apply_subsampling=False)\n",
    "    bs_old = OldBucketStream(gamma=1)\n",
    "    limit = 2 ** exponent\n",
    "    X = np.random.normal(0,1,limit)\n",
    "    Y = np.random.normal(1,2,limit-1)\n",
    "    for i in range(0,limit):\n",
    "        bs_ss.insert_no_cut([X[i]])\n",
    "        bs_no_ss.insert_no_cut([X[i]])\n",
    "        bs_old.insert_no_cut([X[i]])\n",
    "    for i in range(0,limit-1):\n",
    "        bs_ss.insert_no_cut([Y[i]])\n",
    "        bs_no_ss.insert_no_cut([Y[i]])\n",
    "        bs_old.insert_no_cut([Y[i]])\n",
    "    print(f\"SS:    exponent: {exponent} bucket count: {len(bs_ss.buckets)} mmd value={bs_ss.mmd(1)[0]}\")\n",
    "    print(f\"No SS: exponent: {exponent} bucket count: {len(bs_no_ss.buckets)} mmd value={bs_no_ss.mmd(1)[0]}\")\n",
    "    print(f\"MMDEW: exponent: {exponent} bucket count: {len(bs_old.buckets)} mmd value={bs_old.mmd(1)[0]}\\n\")\n",
    "    #print(X)\n",
    "    #print(Y)"
   ],
   "metadata": {
    "collapsed": false,
    "ExecuteTime": {
     "end_time": "2023-07-31T18:51:58.824398265Z",
     "start_time": "2023-07-31T18:51:46.665404569Z"
    }
   }
  },
  {
   "cell_type": "code",
   "execution_count": 30,
   "outputs": [
    {
     "data": {
      "text/plain": "array([[0.56271986]])"
     },
     "execution_count": 30,
     "metadata": {},
     "output_type": "execute_result"
    }
   ],
   "source": [
    "i = 0\n",
    "bs_ss.buckets[i].elements\n"
   ],
   "metadata": {
    "collapsed": false,
    "ExecuteTime": {
     "end_time": "2023-07-31T19:26:54.710805643Z",
     "start_time": "2023-07-31T19:26:54.694993548Z"
    }
   }
  },
  {
   "cell_type": "code",
   "execution_count": 31,
   "outputs": [
    {
     "data": {
      "text/plain": "1024"
     },
     "execution_count": 31,
     "metadata": {},
     "output_type": "execute_result"
    }
   ],
   "source": [
    "bs_no_ss.buckets[i].capacity\n"
   ],
   "metadata": {
    "collapsed": false,
    "ExecuteTime": {
     "end_time": "2023-07-31T19:26:56.549352400Z",
     "start_time": "2023-07-31T19:26:56.508602835Z"
    }
   }
  },
  {
   "cell_type": "code",
   "execution_count": 32,
   "outputs": [
    {
     "data": {
      "text/plain": "1024"
     },
     "execution_count": 32,
     "metadata": {},
     "output_type": "execute_result"
    }
   ],
   "source": [
    "bs_ss.buckets[i].uncompressed_capacity"
   ],
   "metadata": {
    "collapsed": false,
    "ExecuteTime": {
     "end_time": "2023-07-31T19:26:58.173736117Z",
     "start_time": "2023-07-31T19:26:58.169438897Z"
    }
   }
  }
 ],
 "metadata": {
  "kernelspec": {
   "display_name": "Python 3",
   "language": "python",
   "name": "python3"
  },
  "language_info": {
   "codemirror_mode": {
    "name": "ipython",
    "version": 2
   },
   "file_extension": ".py",
   "mimetype": "text/x-python",
   "name": "python",
   "nbconvert_exporter": "python",
   "pygments_lexer": "ipython2",
   "version": "2.7.6"
  }
 },
 "nbformat": 4,
 "nbformat_minor": 0
}
