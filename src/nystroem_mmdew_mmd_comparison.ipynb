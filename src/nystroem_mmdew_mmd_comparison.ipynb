{
 "cells": [
  {
   "cell_type": "code",
   "execution_count": 20,
   "metadata": {
    "collapsed": true,
    "ExecuteTime": {
     "end_time": "2023-07-31T17:12:14.890804085Z",
     "start_time": "2023-07-31T17:12:14.878583621Z"
    }
   },
   "outputs": [],
   "source": [
    "import numpy as np\n",
    "import pandas as pd\n",
    "from mmdew.bucket_stream2 import BucketStream\n",
    "\n",
    "\n",
    "np.random.seed(seed=42)\n",
    "\n",
    "bs_ss = BucketStream(gamma=1)\n",
    "bs_no_ss = BucketStream(gamma=1, apply_subsampling=False)\n"
   ]
  },
  {
   "cell_type": "code",
   "execution_count": 29,
   "outputs": [
    {
     "name": "stdout",
     "output_type": "stream",
     "text": [
      "SS:    exponent: 1 bucket count: 2 mmd value=1.2559520646712206\n",
      "No SS: exponent: 1 bucket count: 2 mmd value=1.1245752984832844\n",
      "SS:    exponent: 2 bucket count: 3 mmd value=0.13509713172324211\n",
      "No SS: exponent: 2 bucket count: 3 mmd value=0.14177569883344734\n",
      "SS:    exponent: 3 bucket count: 4 mmd value=0.16029142700544674\n",
      "No SS: exponent: 3 bucket count: 4 mmd value=0.046707071397979104\n",
      "SS:    exponent: 4 bucket count: 5 mmd value=0.20925785051501802\n",
      "No SS: exponent: 4 bucket count: 5 mmd value=0.026859452887279936\n",
      "SS:    exponent: 5 bucket count: 6 mmd value=0.03925005237904426\n",
      "No SS: exponent: 5 bucket count: 6 mmd value=0.0038202290596442597\n",
      "SS:    exponent: 6 bucket count: 7 mmd value=0.12622849804877218\n",
      "No SS: exponent: 6 bucket count: 7 mmd value=0.0016194929211468916\n",
      "SS:    exponent: 7 bucket count: 8 mmd value=0.07096187036264912\n",
      "No SS: exponent: 7 bucket count: 8 mmd value=0.0005499929943229623\n",
      "SS:    exponent: 8 bucket count: 9 mmd value=0.031194346708593695\n",
      "No SS: exponent: 8 bucket count: 9 mmd value=0.00015627950747089378\n",
      "SS:    exponent: 9 bucket count: 10 mmd value=0.021754962073607245\n",
      "No SS: exponent: 9 bucket count: 10 mmd value=5.2264134380993644e-05\n",
      "SS:    exponent: 10 bucket count: 11 mmd value=0.01922944202920255\n",
      "No SS: exponent: 10 bucket count: 11 mmd value=2.082458728135554e-05\n"
     ]
    }
   ],
   "source": [
    "for exponent in range(1,11):\n",
    "    bs_ss = BucketStream(gamma=1)\n",
    "    bs_no_ss = BucketStream(gamma=1, apply_subsampling=False)\n",
    "    limit = 2 ** exponent\n",
    "    X = np.random.normal(0,1,limit)\n",
    "    Y = np.random.normal(1,2,limit-1)\n",
    "    for i in range(0,limit):\n",
    "        bs_ss.insert_no_cut([X[i]])\n",
    "        bs_no_ss.insert_no_cut([X[i]])\n",
    "    for i in range(0,limit-1):\n",
    "        bs_ss.insert_no_cut([Y[i]])\n",
    "        bs_no_ss.insert_no_cut([Y[i]])\n",
    "    print(f\"SS:    exponent: {exponent} bucket count: {len(bs_ss.buckets)} mmd value={bs_ss.mmd(1)[0]}\")\n",
    "    print(f\"No SS: exponent: {exponent} bucket count: {len(bs_ss.buckets)} mmd value={bs_no_ss.mmd(1)[0]}\")\n",
    "    #print(X)\n",
    "    #print(Y)"
   ],
   "metadata": {
    "collapsed": false,
    "ExecuteTime": {
     "end_time": "2023-07-31T17:18:15.494666685Z",
     "start_time": "2023-07-31T17:18:11.409441271Z"
    }
   }
  },
  {
   "cell_type": "code",
   "execution_count": null,
   "outputs": [],
   "source": [],
   "metadata": {
    "collapsed": false
   }
  }
 ],
 "metadata": {
  "kernelspec": {
   "display_name": "Python 3",
   "language": "python",
   "name": "python3"
  },
  "language_info": {
   "codemirror_mode": {
    "name": "ipython",
    "version": 2
   },
   "file_extension": ".py",
   "mimetype": "text/x-python",
   "name": "python",
   "nbconvert_exporter": "python",
   "pygments_lexer": "ipython2",
   "version": "2.7.6"
  }
 },
 "nbformat": 4,
 "nbformat_minor": 0
}
