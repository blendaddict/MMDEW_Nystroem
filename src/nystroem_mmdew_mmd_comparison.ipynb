{
 "cells": [
  {
   "cell_type": "code",
   "execution_count": 4,
   "outputs": [
    {
     "name": "stdout",
     "output_type": "stream",
     "text": [
      "SS:    exponent: 10 bucket count: 11 mmd value=1085.2085531999921\n",
      "real MMD: 1.1679924235758725\n",
      "SS:    exponent: 10 bucket count: 11 mmd value=1085.2085531999921\n",
      "real MMD: 1.1679924235758725\n",
      "SS:    exponent: 10 bucket count: 11 mmd value=1085.2085531999921\n",
      "real MMD: 1.1679924235758725\n",
      "SS:    exponent: 10 bucket count: 11 mmd value=1085.2085531999921\n",
      "real MMD: 1.1679924235758725\n",
      "SS:    exponent: 10 bucket count: 11 mmd value=1085.2085531999921\n",
      "real MMD: 1.1679924235758725\n",
      "SS:    exponent: 10 bucket count: 11 mmd value=1085.2085531999921\n",
      "real MMD: 1.1679924235758725\n",
      "SS:    exponent: 10 bucket count: 11 mmd value=1085.2085531999921\n",
      "real MMD: 1.1679924235758725\n",
      "SS:    exponent: 10 bucket count: 11 mmd value=1085.2085531999921\n",
      "real MMD: 1.1679924235758725\n",
      "SS:    exponent: 10 bucket count: 11 mmd value=1085.2085531999921\n",
      "real MMD: 1.1679924235758725\n",
      "SS:    exponent: 10 bucket count: 11 mmd value=1085.2085531999921\n",
      "real MMD: 1.1679924235758725\n",
      "error for exponent 1 is 1084.0405607764164\n"
     ]
    }
   ],
   "source": [
    "from mmdew.bucket_stream2 import BucketStream\n",
    "from mmdew.bucket_stream_old import BucketStream as OldBucketStream\n",
    "import numpy as np\n",
    "import pandas as pd\n",
    "from mmdew.mmd import MMD\n",
    "mymmd = MMD(biased=True, gamma=1)\n",
    "if __name__ == \"__main__\":\n",
    "    bs_ss = BucketStream(gamma=1)\n",
    "    bs_no_ss = BucketStream(gamma=1, apply_subsampling=False)\n",
    "    bs_old = OldBucketStream(gamma=1)\n",
    "\n",
    "    errors = []\n",
    "\n",
    "    for exponent in range(1, 11):\n",
    "        iter_errors = []\n",
    "        for iteration in range(1,11):\n",
    "\n",
    "            bs_ss = BucketStream(gamma=1)\n",
    "            bs_no_ss = BucketStream(gamma=1, apply_subsampling=False)\n",
    "            bs_old = OldBucketStream(gamma=1)\n",
    "            limit = 2 ** exponent\n",
    "            X = np.random.normal(0, 1, limit)\n",
    "            Y = np.random.normal(1, 2, limit - 1)\n",
    "            #singleX = [1,2,3]\n",
    "            #singleY = [4,5,6]\n",
    "            #sample1 = []\n",
    "            #sample2 = []\n",
    "            for i in range(0, limit):\n",
    "                bs_ss.insert_no_cut(X[i])\n",
    "                #bs_no_ss.insert_no_cut([X[i]])\n",
    "                #bs_old.insert_no_cut([X[i]])\n",
    "\n",
    "                #bs_ss.insert_no_cut(singleX)\n",
    "                #bs_no_ss.insert_no_cut(singleX)\n",
    "                #sample1 += [singleX]\n",
    "                #bs_old.insert_no_cut(singleX)\n",
    "            for i in range(0, limit - 1):\n",
    "                bs_ss.insert_no_cut(Y[i])\n",
    "                #bs_no_ss.insert_no_cut([Y[i]])\n",
    "                #bs_old.insert_no_cut([Y[i]])\n",
    "\n",
    "                #bs_ss.insert_no_cut(singleY)\n",
    "                #bs_no_ss.insert_no_cut(singleY)\n",
    "                #sample2 += [singleY]\n",
    "                #bs_old.insert_no_cut(singleY)\n",
    "            #if exponent == 10:\n",
    "                #breakpoint()\n",
    "            ss_mmd = bs_ss.mmd(1)[0]\n",
    "            real_mmd = mymmd.mmd(X.reshape(-1,1),Y.reshape(-1,1))\n",
    "            print(f\"SS:    exponent: {exponent} bucket count: {len(bs_ss.buckets)} mmd value={ss_mmd}\")\n",
    "            #print(f\"No SS: exponent: {exponent} bucket count: {len(bs_no_ss.buckets)} mmd value={bs_no_ss.mmd(1)[0]}\")\n",
    "            print(f\"real MMD: {real_mmd}\")\n",
    "            iter_errors = np.concatenate(( iter_errors, [(abs(real_mmd - ss_mmd))]))\n",
    "            #print(f\"real MMD: {mymmd.mmd([singleX,singleX], [singleY])}\")\n",
    "            #print(f\"MMDEW: exponent: {exponent} bucket count: {len(bs_old.buckets)} mmd value={bs_old.mmd(1)[0]}\\n\")\n",
    "            # print(X)\n",
    "            # print(Y)\n",
    "            if iteration == 1 and exponent == 5 :\n",
    "                breakpoint()\n",
    "        errors = np.concatenate((errors, [np.array(iter_errors).mean()] ))\n",
    "\n",
    "    for i in range(0,10):\n",
    "        print(f\"error for exponent {i+1} is {errors[i]}\")\n"
   ],
   "metadata": {
    "collapsed": false,
    "ExecuteTime": {
     "end_time": "2023-08-20T11:13:17.711896Z",
     "start_time": "2023-08-20T11:13:15.397222Z"
    }
   }
  },
  {
   "cell_type": "code",
   "execution_count": 7,
   "outputs": [
    {
     "data": {
      "text/plain": "0.1"
     },
     "execution_count": 7,
     "metadata": {},
     "output_type": "execute_result"
    }
   ],
   "source": [
    "start_capacity = len(start_elements)\n",
    "        end_capacity = len(end_elements)"
   ],
   "metadata": {
    "collapsed": false,
    "ExecuteTime": {
     "end_time": "2023-08-20T11:06:28.770605Z",
     "start_time": "2023-08-20T11:06:28.763841Z"
    }
   }
  },
  {
   "cell_type": "code",
   "execution_count": null,
   "outputs": [],
   "source": [
    "i = 0\n",
    "bs_ss.buckets[i].elements\n"
   ],
   "metadata": {
    "collapsed": false
   }
  },
  {
   "cell_type": "code",
   "execution_count": null,
   "outputs": [],
   "source": [
    "bs_no_ss.buckets[i].capacity\n"
   ],
   "metadata": {
    "collapsed": false
   }
  },
  {
   "cell_type": "code",
   "execution_count": null,
   "outputs": [],
   "source": [
    "bs_ss.buckets[i].uncompressed_capacity"
   ],
   "metadata": {
    "collapsed": false
   }
  },
  {
   "cell_type": "code",
   "execution_count": null,
   "outputs": [],
   "source": [],
   "metadata": {
    "collapsed": false
   }
  }
 ],
 "metadata": {
  "kernelspec": {
   "display_name": "Python 3",
   "language": "python",
   "name": "python3"
  },
  "language_info": {
   "codemirror_mode": {
    "name": "ipython",
    "version": 2
   },
   "file_extension": ".py",
   "mimetype": "text/x-python",
   "name": "python",
   "nbconvert_exporter": "python",
   "pygments_lexer": "ipython2",
   "version": "2.7.6"
  }
 },
 "nbformat": 4,
 "nbformat_minor": 0
}
