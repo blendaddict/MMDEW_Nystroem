{
 "cells": [
  {
   "cell_type": "code",
   "execution_count": 17,
   "metadata": {
    "ExecuteTime": {
     "end_time": "2023-09-08T12:22:10.156534Z",
     "start_time": "2023-09-08T12:22:10.136461Z"
    },
    "collapsed": true
   },
   "outputs": [],
   "source": [
    "from data import CIFAR10\n",
    "from mmdew_adapter import MMDEWAdapter\n",
    "from mmdew.mmd import MMD\n",
    "import matplotlib.pyplot as plt"
   ]
  },
  {
   "cell_type": "code",
   "execution_count": 18,
   "metadata": {
    "ExecuteTime": {
     "end_time": "2023-09-08T12:22:11.587718Z",
     "start_time": "2023-09-08T12:22:10.147037Z"
    },
    "collapsed": false
   },
   "outputs": [],
   "source": [
    "from sklearn import preprocessing\n",
    "import numpy as np\n",
    "def preprocess(x):\n",
    "    return preprocessing.minmax_scale(x)\n",
    "cifar = CIFAR10(preprocess=preprocess)"
   ]
  },
  {
   "cell_type": "code",
   "execution_count": null,
   "metadata": {
    "ExecuteTime": {
     "end_time": "2023-09-08T12:22:11.591306Z",
     "start_time": "2023-09-08T12:22:11.589270Z"
    },
    "collapsed": false
   },
   "outputs": [
    {
     "name": "stdout",
     "output_type": "stream",
     "text": [
      "[6000, 12000, 18000, 24000, 30000, 36000, 42000, 48000, 54000]\n"
     ]
    }
   ],
   "source": [
    "\n",
    "cps = cifar._change_points\n",
    "true_cps = [i for i, x in enumerate(cps) if x]\n",
    "fst_cps = true_cps[0]\n",
    "snd_cps = true_cps[1]\n",
    "thrd_cps = true_cps[2]\n",
    "fst_cps\n",
    "print(true_cps)"
   ]
  },
  {
   "cell_type": "markdown",
   "metadata": {},
   "source": [
    "I have been getting weird values for my mmd between different classes. Lets just try it with conventional mmd"
   ]
  },
  {
   "cell_type": "code",
   "execution_count": null,
   "metadata": {},
   "outputs": [
    {
     "ename": "IndexError",
     "evalue": "index 60000 is out of bounds for axis 0 with size 60000",
     "output_type": "error",
     "traceback": [
      "\u001b[0;31m---------------------------------------------------------------------------\u001b[0m",
      "\u001b[0;31mIndexError\u001b[0m                                Traceback (most recent call last)",
      "Cell \u001b[0;32mIn[16], line 6\u001b[0m\n\u001b[1;32m      4\u001b[0m \u001b[39mfor\u001b[39;00m i \u001b[39min\u001b[39;00m \u001b[39mrange\u001b[39m(snd_cps):\n\u001b[1;32m      5\u001b[0m     \u001b[39mif\u001b[39;00m i \u001b[39m<\u001b[39m fst_cps:\n\u001b[0;32m----> 6\u001b[0m         next_sample, _, is_change \u001b[39m=\u001b[39m cifar\u001b[39m.\u001b[39;49mnext_sample()\n\u001b[1;32m      7\u001b[0m         X\u001b[39m.\u001b[39mappend(next_sample)\n\u001b[1;32m      8\u001b[0m     \u001b[39melse\u001b[39;00m:\n",
      "File \u001b[0;32m~/MMDEW_Nystroem/src/datasets.py:11\u001b[0m, in \u001b[0;36mChangeStream.next_sample\u001b[0;34m(self, batch_size)\u001b[0m\n\u001b[1;32m     10\u001b[0m \u001b[39mdef\u001b[39;00m \u001b[39mnext_sample\u001b[39m(\u001b[39mself\u001b[39m, batch_size\u001b[39m=\u001b[39m\u001b[39m1\u001b[39m):\n\u001b[0;32m---> 11\u001b[0m     change \u001b[39m=\u001b[39m \u001b[39mself\u001b[39;49m\u001b[39m.\u001b[39;49m_is_change()\n\u001b[1;32m     12\u001b[0m     x, y \u001b[39m=\u001b[39m \u001b[39msuper\u001b[39m(ChangeStream, \u001b[39mself\u001b[39m)\u001b[39m.\u001b[39mnext_sample(batch_size)\n\u001b[1;32m     13\u001b[0m     \u001b[39mreturn\u001b[39;00m x, y, change\n",
      "File \u001b[0;32m~/MMDEW_Nystroem/src/data.py:226\u001b[0m, in \u001b[0;36mCIFAR10._is_change\u001b[0;34m(self)\u001b[0m\n\u001b[1;32m    225\u001b[0m \u001b[39mdef\u001b[39;00m \u001b[39m_is_change\u001b[39m(\u001b[39mself\u001b[39m) \u001b[39m-\u001b[39m\u001b[39m>\u001b[39m \u001b[39mbool\u001b[39m:\n\u001b[0;32m--> 226\u001b[0m     \u001b[39mreturn\u001b[39;00m \u001b[39mself\u001b[39;49m\u001b[39m.\u001b[39;49m_change_points[\u001b[39mself\u001b[39;49m\u001b[39m.\u001b[39;49msample_idx]\n",
      "\u001b[0;31mIndexError\u001b[0m: index 60000 is out of bounds for axis 0 with size 60000"
     ]
    }
   ],
   "source": [
    "mymmd = MMD(1)\n",
    "X = []\n",
    "Y = []\n",
    "for i in range(snd_cps):\n",
    "    if i < fst_cps:\n",
    "        next_sample, _, is_change = cifar.next_sample()\n",
    "        X.append(next_sample)\n",
    "    else:\n",
    "        next_sample, _, is_change = cifar.next_sample()\n",
    "        Y.append(next_sample)\n",
    "X = np.array(X).reshape(fst_cps, -1)\n",
    "Y = np.array(Y).reshape(snd_cps - fst_cps, -1)\n",
    "\n",
    "print(mymmd.mmd(X,X))\n",
    "print(len(X))\n",
    "print(len(Y))"
   ]
  },
  {
   "cell_type": "markdown",
   "metadata": {},
   "source": [
    "## Sample of first dataset"
   ]
  },
  {
   "cell_type": "code",
   "execution_count": null,
   "metadata": {},
   "outputs": [
    {
     "data": {
      "image/png": "[encoded data removed]",
      "text/plain": [
       "<Figure size 640x480 with 1 Axes>"
      ]
     },
     "metadata": {},
     "output_type": "display_data"
    }
   ],
   "source": [
    "image = X[1300].reshape(32, 32)\n",
    "plt.imshow(image, cmap='gray')\n",
    "plt.axis('off')  # Turn off axis numbers\n",
    "plt.show()"
   ]
  },
  {
   "cell_type": "markdown",
   "metadata": {},
   "source": [
    "## Sample of second dataset"
   ]
  },
  {
   "cell_type": "code",
   "execution_count": null,
   "metadata": {},
   "outputs": [
    {
     "data": {
      "image/png": "[encoded data removed]",
      "text/plain": [
       "<Figure size 640x480 with 1 Axes>"
      ]
     },
     "metadata": {},
     "output_type": "display_data"
    }
   ],
   "source": [
    "image = Y[0].reshape(32, 32)\n",
    "plt.imshow(image, cmap='gray')\n",
    "plt.axis('off')  # Turn off axis numbers\n",
    "plt.show()"
   ]
  },
  {
   "cell_type": "code",
   "execution_count": null,
   "metadata": {},
   "outputs": [],
   "source": []
  }
 ],
 "metadata": {
  "kernelspec": {
   "display_name": "Python 3",
   "language": "python",
   "name": "python3"
  },
  "language_info": {
   "codemirror_mode": {
    "name": "ipython",
    "version": 3
   },
   "file_extension": ".py",
   "mimetype": "text/x-python",
   "name": "python",
   "nbconvert_exporter": "python",
   "pygments_lexer": "ipython3",
   "version": "3.10.10"
  }
 },
 "nbformat": 4,
 "nbformat_minor": 0
}
