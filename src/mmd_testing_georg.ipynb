{
 "cells": [
  {
   "cell_type": "markdown",
   "id": "2249b7ec",
   "metadata": {},
   "source": [
    "# Comparing different types of MMD regarding runtime and variance"
   ]
  },
  {
   "cell_type": "markdown",
   "id": "49927052",
   "metadata": {},
   "source": [
    "Necessary imports:"
   ]
  },
  {
   "cell_type": "code",
   "execution_count": 34,
   "id": "15e43e3c",
   "metadata": {},
   "outputs": [],
   "source": [
    "import numpy as np\n",
    "import numpy.linalg as la\n",
    "import time\n",
    "import math\n",
    "import matplotlib.pyplot as plt\n",
    "import random\n",
    "from mmdew.bucket_stream_old import BucketStream\n",
    "from sklearn.metrics.pairwise import rbf_kernel, euclidean_distances\n",
    "from scipy.stats import norm\n",
    "from sklearn import metrics"
   ]
  },
  {
   "cell_type": "markdown",
   "id": "d531096a",
   "metadata": {},
   "source": [
    "We will take a look at Nyström MMD, biased MMD and Linear Time MMD.\n",
    "Define the functions first:"
   ]
  },
  {
   "cell_type": "code",
   "execution_count": 35,
   "id": "3124e6fe",
   "metadata": {},
   "outputs": [],
   "source": [
    "def biased_mmd(X, Y, m_magnitude=None):\n",
    "    XX = rbf_kernel(X, X)\n",
    "    YY = rbf_kernel(Y, Y)\n",
    "    XY = rbf_kernel(X, Y)\n",
    "    \n",
    "    return XX.mean() + YY.mean() - 2 * XY.mean()\n",
    "\n",
    "\n",
    "def unbiased_mmd(X, Y):\n",
    "    n = len(X)\n",
    "    m = len(Y)\n",
    "    \n",
    "    XX = rbf_kernel(X, X)\n",
    "    YY = rbf_kernel(Y, Y)\n",
    "    XY = rbf_kernel(X, Y)\n",
    "    \n",
    "    np.fill_diagonal(XX, 0)\n",
    "    np.fill_diagonal(YY, 0)\n",
    "    \n",
    "    return 1 / (n * (n - 1)) * np.sum(XX) + 1 / (m * (m - 1)) * np.sum(YY) - 2 / (n * m) * np.sum(XY)\n",
    "\n",
    "\n",
    "def nystroem_mmd(X, Y, m):\n",
    "    n = len(X)\n",
    "    #m = int(m_magnitude(n))\n",
    "    m_idx = np.random.default_rng().integers(n, size=m)\n",
    "    X_tilde = X[m_idx]\n",
    "    Y_tilde = Y[m_idx]\n",
    "    \n",
    "    XX = rbf_kernel(X_tilde, X_tilde)\n",
    "    YY = rbf_kernel(Y_tilde, Y_tilde)\n",
    "    XY = rbf_kernel(X_tilde, Y_tilde)\n",
    "    \n",
    "    X_mn = rbf_kernel(X_tilde, X)\n",
    "    Y_mn = rbf_kernel(Y_tilde, Y)\n",
    "    \n",
    "    alpha_1 = 1 / n * la.pinv(XX) @ X_mn @ np.ones((n, 1))\n",
    "    alpha_2 = 1 / n * la.pinv(YY) @ Y_mn @ np.ones((n, 1))\n",
    "    return (alpha_1.T @ XX @ alpha_1 + alpha_2.T @ YY @ alpha_2 - 2 * alpha_1.T @ XY @ alpha_2)[0][0]"
   ]
  },
  {
   "cell_type": "markdown",
   "id": "c09ff7f9",
   "metadata": {},
   "source": [
    "### First, run Biased- and Nyström-MMD in a simple environment to observe first results."
   ]
  },
  {
   "cell_type": "code",
   "execution_count": 3,
   "id": "4c55bd4f",
   "metadata": {},
   "outputs": [
    {
     "name": "stdout",
     "output_type": "stream",
     "text": [
      "Biased:  0.0005290304550864544, runtime: 0.0801s\n",
      "Unbiased: -1.852557440940039e-05, runtime: 0.0716s\n",
      "Nyström: 0.0005358060777638229, runtime: 0.0115s\n"
     ]
    }
   ],
   "source": [
    "n = 2000\n",
    "np.random.seed(1234)\n",
    "X = np.random.randn(n, 1)\n",
    "Y = np.random.randn(n, 1)\n",
    "\n",
    "start = time.time()\n",
    "biased_result = biased_mmd(X, Y)\n",
    "end = time.time()\n",
    "biased_mmd_runtime = \"{:.4f}\".format(end - start)\n",
    "\n",
    "start = time.time()\n",
    "unbiased_result = unbiased_mmd(X, Y)\n",
    "end = time.time()\n",
    "unbiased_mmd_runtime = \"{:.4f}\".format(end - start)\n",
    "\n",
    "start = time.time()\n",
    "#nystroem_result = nystroem_mmd(X, Y, m_magnitude=(lambda x: np.sqrt(x)))\n",
    "nystroem_result = nystroem_mmd(X, Y, int(np.sqrt(n)))\n",
    "end = time.time()\n",
    "nystroem_mmd_runtime = \"{:.4f}\".format(end - start)\n",
    "\n",
    "print(f\"Biased:  {biased_result}, runtime: {biased_mmd_runtime}s\")\n",
    "print(f\"Unbiased: {unbiased_result}, runtime: {unbiased_mmd_runtime}s\")\n",
    "print(f\"Nyström: {nystroem_result}, runtime: {nystroem_mmd_runtime}s\")"
   ]
  },
  {
   "cell_type": "markdown",
   "id": "de70de12",
   "metadata": {},
   "source": [
    "We also take the runtime of Biased-MMD as baseline."
   ]
  },
  {
   "cell_type": "markdown",
   "id": "8f89eed2",
   "metadata": {},
   "source": [
    "### Now, plot the runtime of Nyström-MMD mapped to subsample-size $m$ depending on $n = 10000$"
   ]
  },
  {
   "cell_type": "code",
   "execution_count": 4,
   "id": "261df128",
   "metadata": {},
   "outputs": [
    {
     "data": {
      "image/png": "[encoded data removed]",
      "text/plain": [
       "<Figure size 640x480 with 1 Axes>"
      ]
     },
     "metadata": {},
     "output_type": "display_data"
    },
    {
     "name": "stdout",
     "output_type": "stream",
     "text": [
      "Total time: 120.324791431427s\n"
     ]
    }
   ],
   "source": [
    "n = 10000\n",
    "np.random.seed(1234)\n",
    "#ms = [lambda x: np.log(x), lambda x: math.pow(x, 0.25),\n",
    "#      lambda x: x / 100, lambda x: np.sqrt(x), lambda x: x / 10, lambda x: x / 5]\n",
    "\n",
    "ms = list(range(50, 2050, 50))\n",
    "runtimes = []\n",
    "\n",
    "for m in ms:\n",
    "    X = np.random.randn(n, 1)\n",
    "    Y = np.random.randn(n, 1)\n",
    "    start = time.time()\n",
    "    # discard the return value\n",
    "    nystroem_mmd(X, Y, m)\n",
    "    end = time.time()\n",
    "    current_runtime = end - start\n",
    "    runtimes.append(current_runtime)\n",
    "\n",
    "plt.plot(ms, runtimes)\n",
    "plt.xlabel(\"m\")\n",
    "plt.ylabel(\"time [s]\")\n",
    "plt.grid(True)\n",
    "plt.show()\n",
    "\n",
    "print(f\"Total time: {sum(runtimes)}s\")"
   ]
  },
  {
   "cell_type": "markdown",
   "id": "87e64739",
   "metadata": {},
   "source": [
    "### In this section, we will evaluate how well Nyström-MMD does with $X$ and $Y$ being sampled from different distributions. Note that $|X| = |Y| = n = 10000$"
   ]
  },
  {
   "cell_type": "markdown",
   "id": "3ad32b7d",
   "metadata": {},
   "source": [
    "First, draw both samples from the standard normal distribution and verify, that the return value is approximatively 0"
   ]
  },
  {
   "cell_type": "code",
   "execution_count": 5,
   "id": "f6babbba",
   "metadata": {},
   "outputs": [
    {
     "data": {
      "text/plain": [
       "0.000164008818175021"
      ]
     },
     "execution_count": 5,
     "metadata": {},
     "output_type": "execute_result"
    }
   ],
   "source": [
    "n = 20000\n",
    "X = np.random.randn(n, 1)\n",
    "Y = np.random.randn(n, 1)\n",
    "nystroem_mmd(X, Y, m=math.ceil(np.sqrt(n)))"
   ]
  },
  {
   "cell_type": "markdown",
   "id": "d3d15112",
   "metadata": {},
   "source": [
    "From now, $X$ is standard normally distributed, whereas $Y$ is drawn from a different distribution"
   ]
  },
  {
   "cell_type": "code",
   "execution_count": 6,
   "id": "a1ee551c",
   "metadata": {},
   "outputs": [
    {
     "name": "stdout",
     "output_type": "stream",
     "text": [
      "For Y ~ Poisson: 0.1252507370241015\n",
      "For Y ~ Binomial: 0.4331638220077171 where n=5 and p=0.4\n",
      "For Y ~ Chi-Square: 0.21115286504495723 where degree of freedom is 5\n"
     ]
    }
   ],
   "source": [
    "X = np.random.randn(n, 1)\n",
    "Y = np.random.poisson(size=(n, 1))\n",
    "result = nystroem_mmd(X, Y, int(np.sqrt(n)))\n",
    "print(f\"For Y ~ Poisson: {result}\")\n",
    "\n",
    "X = np.random.randn(n, 1)\n",
    "n_binom, p = 5, 0.4\n",
    "Y = np.random.binomial(n=n_binom, p=p, size=(n, 1))\n",
    "result = nystroem_mmd(X, Y,int(np.sqrt(n)))\n",
    "print(f\"For Y ~ Binomial: {result} where n={n_binom} and p={p}\")\n",
    "\n",
    "X = np.random.randn(n, 1)\n",
    "Y = np.random.chisquare(df=2, size=(n, 1))\n",
    "result = nystroem_mmd(X, Y, int(np.sqrt(n)))\n",
    "print(f\"For Y ~ Chi-Square: {result} where degree of freedom is 5\")"
   ]
  },
  {
   "cell_type": "markdown",
   "id": "182369fb",
   "metadata": {},
   "source": [
    "### This section will evaluate the variance of different estimators, including Nyström-MMD-estimators with different values for $m$. Let $k$ be the number of iterations for computing the variance. $n$ is the size of the samples, that are drawn from the standard normal distribution."
   ]
  },
  {
   "cell_type": "markdown",
   "id": "079dcac1",
   "metadata": {},
   "source": [
    "For additional purposes, the Linear Time Test (Gretton: A Kernel Two-Sample Test) and the B-Test (B-tests: Low Variance Kernel Two-Sample Tests, Zaremba) are implemented here"
   ]
  },
  {
   "cell_type": "code",
   "execution_count": 36,
   "id": "db76d657",
   "metadata": {},
   "outputs": [],
   "source": [
    "def ltt(X, Y):\n",
    "    m = len(X)\n",
    "    m2 = math.floor(m / 2)\n",
    "    \n",
    "    total = 0\n",
    "    for i in range(1, m2):\n",
    "        total += _h(X[2 * i - 1], Y[2 * i - 1], X[2 * i], Y[2 * i])\n",
    "    return total / m2\n",
    "\n",
    "def _h(x_i, y_i, x_j, y_j):\n",
    "    return squared_euclidean_kernel(x_i, x_j) + squared_euclidean_kernel(y_i, y_j) - squared_euclidean_kernel(x_i, y_j) - squared_euclidean_kernel(x_j, y_i)\n",
    "\n",
    "# rbf-kernel with scalar input\n",
    "def squared_euclidean_kernel(x, y, gamma=None):\n",
    "    if gamma is None:\n",
    "        # n_features = 1\n",
    "        gamma = 1.0\n",
    "    return math.exp(-gamma * abs(x - y) ** 2)"
   ]
  },
  {
   "cell_type": "code",
   "execution_count": 37,
   "id": "15f75da0",
   "metadata": {},
   "outputs": [],
   "source": [
    "def b_test(X, Y, B):\n",
    "    n = len(X)\n",
    "    number_of_blocks = int((n / B))\n",
    "    X_blocks = np.array_split(X, number_of_blocks)\n",
    "    Y_blocks = np.array_split(Y, number_of_blocks)\n",
    "    block_mmds = np.zeros(number_of_blocks)\n",
    "    for i in range(number_of_blocks):\n",
    "        block_mmds[i] = unbiased_mmd(X_blocks[i], Y_blocks[i])\n",
    "    return block_mmds.mean()"
   ]
  },
  {
   "cell_type": "code",
   "execution_count": 38,
   "id": "2e31caab",
   "metadata": {},
   "outputs": [
    {
     "ename": "KeyboardInterrupt",
     "evalue": "",
     "output_type": "error",
     "traceback": [
      "\u001b[0;31m---------------------------------------------------------------------------\u001b[0m",
      "\u001b[0;31mKeyboardInterrupt\u001b[0m                         Traceback (most recent call last)",
      "Cell \u001b[0;32mIn[38], line 4\u001b[0m\n\u001b[1;32m      2\u001b[0m X \u001b[39m=\u001b[39m np\u001b[39m.\u001b[39mrandom\u001b[39m.\u001b[39mrandn(n, \u001b[39m1\u001b[39m)\n\u001b[1;32m      3\u001b[0m Y \u001b[39m=\u001b[39m np\u001b[39m.\u001b[39mrandom\u001b[39m.\u001b[39mrandn(n, \u001b[39m1\u001b[39m)\n\u001b[0;32m----> 4\u001b[0m ltt(X, Y)\n",
      "Cell \u001b[0;32mIn[36], line 7\u001b[0m, in \u001b[0;36mltt\u001b[0;34m(X, Y)\u001b[0m\n\u001b[1;32m      5\u001b[0m total \u001b[39m=\u001b[39m \u001b[39m0\u001b[39m\n\u001b[1;32m      6\u001b[0m \u001b[39mfor\u001b[39;00m i \u001b[39min\u001b[39;00m \u001b[39mrange\u001b[39m(\u001b[39m1\u001b[39m, m2):\n\u001b[0;32m----> 7\u001b[0m     total \u001b[39m+\u001b[39m\u001b[39m=\u001b[39m _h(X[\u001b[39m2\u001b[39m \u001b[39m*\u001b[39m i \u001b[39m-\u001b[39m \u001b[39m1\u001b[39m], Y[\u001b[39m2\u001b[39;49m \u001b[39m*\u001b[39;49m i \u001b[39m-\u001b[39;49m \u001b[39m1\u001b[39;49m], X[\u001b[39m2\u001b[39m \u001b[39m*\u001b[39m i], Y[\u001b[39m2\u001b[39m \u001b[39m*\u001b[39m i])\n\u001b[1;32m      8\u001b[0m \u001b[39mreturn\u001b[39;00m total \u001b[39m/\u001b[39m m2\n",
      "\u001b[0;31mKeyboardInterrupt\u001b[0m: "
     ]
    }
   ],
   "source": [
    "n = 2000000\n",
    "X = np.random.randn(n, 1)\n",
    "Y = np.random.randn(n, 1)\n",
    "ltt(X, Y)"
   ]
  },
  {
   "cell_type": "code",
   "execution_count": 10,
   "id": "728b841c",
   "metadata": {},
   "outputs": [
    {
     "data": {
      "text/plain": [
       "-0.004992748715319911"
      ]
     },
     "execution_count": 10,
     "metadata": {},
     "output_type": "execute_result"
    }
   ],
   "source": [
    "n = 26400\n",
    "X = np.random.randn(n, 1)\n",
    "Y = np.random.randn(n, 1)\n",
    "b_test(X, Y, 2)"
   ]
  },
  {
   "cell_type": "markdown",
   "id": "5483f494",
   "metadata": {},
   "source": [
    "Also, MMDAW (Kalinke: Scalable Online Change Detection for High-dimensional Data Streams) is evaluated here.\n",
    "\n",
    "**Important: For given $k$, $X$ and $Y$ must be of following sizes: $n := |X| = 2^{k - 1}$ and $m := |Y| = 2^{k - 1} - 1$**"
   ]
  },
  {
   "cell_type": "code",
   "execution_count": 39,
   "id": "c3ef11c3",
   "metadata": {},
   "outputs": [],
   "source": [
    "# k > 1\n",
    "def run_mmdaw(k):\n",
    "    assert k > 1\n",
    "    n = 2 ** (k - 1)\n",
    "    m = 2 ** (k - 1) - 1\n",
    "\n",
    "    X = np.random.randn(n, 1)\n",
    "    Y = np.random.randn(m, 1)\n",
    "    \n",
    "    mmdaw_estimator = BucketStream(gamma=1)\n",
    "    for x in X:\n",
    "        mmdaw_estimator.insert(x)\n",
    "    for y in Y:\n",
    "        mmdaw_estimator.insert(y)\n",
    "    mmd_value, end, start = mmdaw_estimator.mmd(split=1)\n",
    "    return mmd_value"
   ]
  },
  {
   "cell_type": "code",
   "execution_count": 12,
   "id": "09b5db61",
   "metadata": {},
   "outputs": [
    {
     "data": {
      "text/plain": [
       "0.012248834614378978"
      ]
     },
     "execution_count": 12,
     "metadata": {},
     "output_type": "execute_result"
    }
   ],
   "source": [
    "run_mmdaw(k=9)"
   ]
  },
  {
   "cell_type": "code",
   "execution_count": 29,
   "id": "185468ab",
   "metadata": {},
   "outputs": [
    {
     "name": "stdout",
     "output_type": "stream",
     "text": [
      "Unbiased MMD: took 14.00343918800354s\n",
      "Biased MMD: took 13.780812978744507s\n",
      "B-test: B = sqrt(n): took 3.0819010734558105s\n",
      "Nyström: m = sqrt(n): took 1.4719128608703613s\n"
     ]
    },
    {
     "data": {
      "image/png": "[encoded data removed]",
      "text/plain": [
       "<Figure size 640x480 with 1 Axes>"
      ]
     },
     "metadata": {},
     "output_type": "display_data"
    }
   ],
   "source": [
    "regular_scale = [100, 200, 300, 500, 1000, 1500, 2000]\n",
    "mmdaw_scale = [6, 7, 8, 9, 10, 11, 12]\n",
    "iterations = 100\n",
    "\n",
    "estimators = [\n",
    "             (unbiased_mmd, None, regular_scale, \"Unbiased MMD\", \"dotted\"),\n",
    "             #(ltt, None, regular_scale, \"Linear Time Test\", \"dashed\"),\n",
    "             (biased_mmd, None, regular_scale, \"Biased MMD\", \"dotted\"),\n",
    "             (b_test, lambda x: np.sqrt(x), regular_scale, \"B-test: B = sqrt(n)\", \"dashdot\"),\n",
    "             (nystroem_mmd, lambda x: np.sqrt(x), regular_scale, \"Nyström: m = sqrt(n)\", (5, (10, 3))),\n",
    "             #(nystroem_mmd, lambda x: np.log(x), regular_scale, \"Nyström: m = log(n)\", (0, (3, 1, 1, 1, 1, 1))),\n",
    "             #(run_mmdaw, None, mmdaw_scale, \"MMDAW\", \"solid\")\n",
    "            ]\n",
    "\n",
    "\n",
    "\n",
    "for (estimator, magnitude, scale, label, linestyle) in estimators:\n",
    "    start = time.time()\n",
    "    vs = []  \n",
    "    for n_value in scale:\n",
    "        variance = 0\n",
    "        for i in range(0, iterations):\n",
    "            if estimator is run_mmdaw:\n",
    "                variance += run_mmdaw(n_value)\n",
    "                continue\n",
    "            X = np.random.randn(n_value, 1)\n",
    "            Y = np.random.randn(n_value, 1)\n",
    "            if magnitude is not None:\n",
    "                variance += estimator(X, Y, int(magnitude(n_value))) ** 2\n",
    "            else:\n",
    "                variance += estimator(X, Y) ** 2\n",
    "        vs.append(np.sqrt(variance / iterations))\n",
    "    plt.plot(regular_scale, vs, label=label, linestyle=linestyle)\n",
    "    plt.xlabel(\"n\")\n",
    "    plt.ylabel(\"Standard Deviation\")\n",
    "    end = time.time()\n",
    "    print(f\"{label}: took {end - start}s\")\n",
    "plt.ylim(0,.01)\n",
    "plt.legend(loc=\"upper right\")\n",
    "plt.savefig('mmd-estimators_mmdaw.pdf')\n",
    "plt.show()    \n"
   ]
  },
  {
   "cell_type": "code",
   "execution_count": 41,
   "metadata": {},
   "outputs": [],
   "source": [
    "def k(x,y,gamma=1):\n",
    "    return metrics.pairwise.linear_kernel(x, y,gamma)\n",
    "       \n",
    "\n",
    "def get_alpha(XX, X_mn, n=1):\n",
    "    return 1 / n * la.pinv(XX) @ X_mn @ np.ones((n, 1))\n",
    "\n",
    "def get_subsample_and_weights(X):\n",
    "    n = len(X)\n",
    "    # m = int(m_magnitude(n))\n",
    "    m = round(math.sqrt(n))\n",
    "    m_idx = np.random.default_rng().integers(n, size=m)\n",
    "    X_tilde = X[m_idx]\n",
    "    XX = k(X_tilde, X_tilde)\n",
    "    X_mn = k(X_tilde, X)\n",
    "    alpha = get_alpha( XX, X_mn, n)\n",
    "    return X_tilde, alpha , m_idx\n",
    "\n",
    "def get_merged_subsample_and_merged_weights(X_1, X_2, alpha_1, alpha_2, kappa_1, kappa_2):\n",
    "    \n",
    "    joined_elements = np.concatenate((X_1, X_2))\n",
    "    joined_uncompressed_capacity = kappa_1 + kappa_2\n",
    "    joined_weights = np.concatenate((alpha_1, alpha_2))\n",
    "   \n",
    "    \n",
    "    m = round(math.sqrt(joined_uncompressed_capacity))  # size of the subsample\n",
    "    #ToDo: uncomment this\n",
    "    m_idx = np.random.default_rng().integers(len(joined_elements), size=m)\n",
    "    #m_idx = range(0,m)\n",
    "    subsample = joined_elements[m_idx]\n",
    "    K_z = k(subsample, joined_elements)\n",
    "    #K_m = np.zeros((m, m))  # initialize the kernel matrix with zeros\n",
    "    #for i in range(m):\n",
    "        #for j in range(m):\n",
    "            # reshape to 2D array as rbf_kernel expects 2D array\n",
    "\n",
    "    K_m = k(subsample, subsample)\n",
    "    K_m_inv = la.pinv(K_m)\n",
    "    #breakpoint()\n",
    "    new_weights = .5 * K_m_inv @ K_z @ joined_weights\n",
    "   \n",
    "    # assuming current_elements and previous_elements have the same length\n",
    "\n",
    "\n",
    "\n",
    "    #breakpoint()\n",
    "\n",
    "    return subsample, new_weights\n",
    "\n",
    "def nystroem_mmd_from_weights(X,Y, alpha_1, alpha_2):\n",
    "    XX = k(X, X)\n",
    "    YY = k(Y, Y)\n",
    "    XY = k(X, Y)\n",
    "    return (alpha_1.T @ XX @ alpha_1 + alpha_2.T @ YY @ alpha_2 - 2 * alpha_1.T @ XY @ alpha_2)[0][0]"
   ]
  },
  {
   "cell_type": "code",
   "execution_count": 45,
   "id": "71336515",
   "metadata": {},
   "outputs": [
    {
     "name": "stdout",
     "output_type": "stream",
     "text": [
      "Unbiased: took 42.962321281433105s\n",
      "Biased MMD: took 41.73948621749878s\n",
      "B-test: B = sqrt(n): took 6.2012412548065186s\n",
      "Nyström: m = sqrt(n): took 2.6453959941864014s\n",
      "second_degree_ss took 2.7413439750671387s\n"
     ]
    },
    {
     "data": {
      "image/png": "[encoded data removed]",
      "text/plain": [
       "<Figure size 640x480 with 1 Axes>"
      ]
     },
     "metadata": {},
     "output_type": "display_data"
    }
   ],
   "source": [
    "regular_scale = [100, 200, 300, 500, 900, 1300, 1700, 1800, 1900, 2100, 2500]\n",
    "mmdaw_scale = [6, 7, 8, 9, 10, 11, 12]\n",
    "iterations = 300\n",
    "\n",
    "estimators = [\n",
    "             (unbiased_mmd, None, regular_scale, \"Unbiased\", \"dotted\"),\n",
    "             #(ltt, None, regular_scale, \"Linear Time Test\", \"dashed\"),\n",
    "             (biased_mmd, None, regular_scale, \"Biased MMD\", \"dotted\"),\n",
    "             (b_test, lambda x: np.sqrt(x), regular_scale, \"B-test: B = sqrt(n)\", \"dashdot\"),\n",
    "             (nystroem_mmd, lambda x: np.sqrt(x), regular_scale, \"Nyström: m = sqrt(n)\", (5, (10, 3))),\n",
    "             #(nystroem_mmd, lambda x: np.log(x), regular_scale, \"Nyström: m = log(n)\", (0, (3, 1, 1, 1, 1, 1))),\n",
    "             \n",
    "             #(run_mmdaw, None, mmdaw_scale, \"MMDAW\", \"solid\")\n",
    "            ]\n",
    "\n",
    "\n",
    "\n",
    "for (estimator, magnitude, scale, label, linestyle) in estimators:\n",
    "    start = time.time()\n",
    "    vs = []  \n",
    "    for n_value in scale:\n",
    "        variance = 0\n",
    "        iter_vals = []\n",
    "        for i in range(0, iterations):\n",
    "            if estimator is run_mmdaw:\n",
    "                variance += run_mmdaw(n_value)\n",
    "                continue\n",
    "            # X = np.random.randn(n_value, 1)\n",
    "            # Y = np.random.randn(n_value, 1)\n",
    "            X = np.random.normal(0, 1, n_value).reshape(-1,1)\n",
    "            Y = np.random.normal(0, 1, n_value).reshape(-1,1)\n",
    "            if magnitude is not None:\n",
    "                iter_vals.append(estimator(X, Y, int(magnitude(n_value))))\n",
    "            else:\n",
    "                iter_vals.append(estimator(X, Y))\n",
    "        vs.append(np.std(iter_vals))\n",
    "    plt.plot(regular_scale, vs, label=label, linestyle=linestyle)\n",
    "    plt.xlabel(\"n\")\n",
    "    plt.ylabel(\"Standard Deviation\")\n",
    "    end = time.time()\n",
    "    print(f\"{label}: took {end - start}s\")\n",
    "#add the second degree sampled nyström estimator\n",
    "start = time.time()\n",
    "vs = []  \n",
    "for n_value in regular_scale:\n",
    "    variance = 0\n",
    "    iter_vals = []\n",
    "    for i in range(0, iterations):\n",
    "        # X = np.random.randn(n_value, 1)\n",
    "        # Y = np.random.randn(n_value, 1)\n",
    "        X = np.random.normal(0, 1, n_value).reshape(-1,1)\n",
    "        Y = np.random.normal(0, 1, n_value).reshape(-1,1)\n",
    "        first_degree_size = int(n_value / 2)\n",
    "        X_1 = X[:first_degree_size]\n",
    "        X_2 = X[first_degree_size:]\n",
    "        Y_1 = Y[:first_degree_size]\n",
    "        Y_2 = Y[first_degree_size:]\n",
    "        X_1_ss, alpha_1 , x_midx_1 = get_subsample_and_weights(X_1)\n",
    "        X_2_ss, alpha_2, x_midx_2 = get_subsample_and_weights(X_2)\n",
    "        X_ss_merged, X_ss_merged_weights = get_merged_subsample_and_merged_weights(X_1_ss, X_2_ss, alpha_1, alpha_2, first_degree_size, first_degree_size)\n",
    "        Y_1_ss, beta_1, y_midx_1  = get_subsample_and_weights(Y_1)\n",
    "        Y_2_ss, beta_2, y_midx_2  = get_subsample_and_weights(Y_2)\n",
    "        Y_ss_merged, Y_ss_merged_weights = get_merged_subsample_and_merged_weights(Y_1_ss, Y_2_ss, beta_1, beta_2, first_degree_size, first_degree_size)\n",
    "        sec_deg_nystroem_value = nystroem_mmd_from_weights(X_ss_merged,Y_ss_merged, X_ss_merged_weights, Y_ss_merged_weights)\n",
    "        iter_vals.append(sec_deg_nystroem_value)\n",
    "    vs.append(np.std(iter_vals))\n",
    "plt.plot(regular_scale, vs, label=\"second_degree_ss\", linestyle=\"dotted\")\n",
    "plt.xlabel(\"n\")\n",
    "plt.ylabel(\"Standard Deviation\")\n",
    "end = time.time()\n",
    "print(f\"second_degree_ss took {end - start}s\")\n",
    "#\n",
    "plt.ylim(0,.01)\n",
    "plt.legend(loc=\"upper right\")\n",
    "plt.savefig('mmd-estimators_nys.pdf')\n",
    "plt.show()    \n"
   ]
  },
  {
   "cell_type": "markdown",
   "id": "1f5b8647",
   "metadata": {},
   "source": [
    "We now try to find one of these cases where mmd deviates in extreme amounts:"
   ]
  },
  {
   "cell_type": "code",
   "execution_count": 16,
   "id": "4258641d",
   "metadata": {},
   "outputs": [],
   "source": [
    "def intersection(*arrays):\n",
    "    result = np.intersect1d(arrays[0], arrays[1])\n",
    "    for arr in arrays[2:]:\n",
    "        result = np.intersect1d(result, arr)\n",
    "    return result\n",
    "def difference(array, *others):\n",
    "    for other in others:\n",
    "        array = np.setdiff1d(array, other)\n",
    "    return array"
   ]
  },
  {
   "cell_type": "code",
   "execution_count": 17,
   "id": "410ef5ef",
   "metadata": {},
   "outputs": [
    {
     "name": "stdout",
     "output_type": "stream",
     "text": [
      "7\n",
      "3\n",
      "0.00043925927669049506\n"
     ]
    },
    {
     "data": {
      "text/plain": [
       "22"
      ]
     },
     "execution_count": 17,
     "metadata": {},
     "output_type": "execute_result"
    }
   ],
   "source": [
    "\n",
    "sample_size = 500 \n",
    "X = np.random.normal(0, 1, sample_size).reshape(-1,1)\n",
    "Y = np.random.normal(0, 1, sample_size).reshape(-1,1)\n",
    "first_degree_size = int(sample_size / 2)\n",
    "X_1 = X[:first_degree_size]\n",
    "X_2 = X[first_degree_size:]\n",
    "Y_1 = Y[:first_degree_size]\n",
    "Y_2 = Y[first_degree_size:]\n",
    "X_1_ss, alpha_1 , x_midx_1 = get_subsample_and_weights(X_1)\n",
    "X_2_ss, alpha_2 , x_midx_2 = get_subsample_and_weights(X_2)\n",
    "X_ss_merged, X_ss_merged_weights = get_merged_subsample_and_merged_weights(X_1_ss, X_2_ss, alpha_1, alpha_2, first_degree_size, first_degree_size)\n",
    "Y_1_ss, beta_1 , y_midx_1 = get_subsample_and_weights(Y_1)\n",
    "Y_2_ss, beta_2 , y_midx_2 = get_subsample_and_weights(Y_2)\n",
    "Y_ss_merged, Y_ss_merged_weights = get_merged_subsample_and_merged_weights(Y_1_ss, Y_2_ss, beta_1, beta_2, first_degree_size, first_degree_size)\n",
    "sec_deg_nystroem_value = nystroem_mmd_from_weights(X_ss_merged,Y_ss_merged, X_ss_merged_weights, Y_ss_merged_weights)\n",
    "print(len(X_ss_merged)-len(intersection(X_ss_merged, X)))\n",
    "print(len(Y_ss_merged)-len(intersection(Y_ss_merged, Y)))\n",
    "print(sec_deg_nystroem_value)\n",
    "len(X_ss_merged)"
   ]
  },
  {
   "cell_type": "code",
   "execution_count": null,
   "id": "014e2d73",
   "metadata": {},
   "outputs": [],
   "source": []
  },
  {
   "cell_type": "markdown",
   "id": "d84fb541",
   "metadata": {},
   "source": [
    "### There exists another approach which makes use of random Fourier features (rff) to estimate MMD. In this section, we will investigate, whether this approach can outperform Nyström-estimators in terms of efficiency."
   ]
  },
  {
   "cell_type": "code",
   "execution_count": 18,
   "id": "a4865751",
   "metadata": {},
   "outputs": [],
   "source": [
    "def sigma_from_gamma(gamma):\n",
    "    return np.sqrt(2 * gamma)\n",
    "\n",
    "\n",
    "def estimate_kernel(x, y, num_rff, gamma=1, seed=1234):\n",
    "    rng = np.random.default_rng(seed=seed)\n",
    "    w = rng.normal(scale=sigma_from_gamma(gamma), size=(num_rff,x.shape[1]))\n",
    "    X_samples = x @ w.T \n",
    "    Y_samples = y @ w.T\n",
    "    phi_x = 1 / np.sqrt(num_rff) * np.concatenate((np.cos(X_samples.T), np.sin(X_samples.T))).T\n",
    "    phi_y = 1 / np.sqrt(num_rff) * np.concatenate((np.cos(Y_samples.T), np.sin(Y_samples.T))).T\n",
    "    return phi_x @ phi_y.T\n"
   ]
  },
  {
   "cell_type": "code",
   "execution_count": 19,
   "id": "bbd18bea",
   "metadata": {},
   "outputs": [],
   "source": [
    "\n",
    "\n",
    "def get_Z(data, num_rff, gamma=1, seed=1234):\n",
    "    rng = np.random.default_rng(seed=seed)\n",
    "    w = rng.normal(scale=sigma_from_gamma(gamma),size=(num_rff,data.shape[1]))\n",
    "    template = data @ w.T\n",
    "    return  1 / np.sqrt(num_rff) * np.concatenate((np.cos(template.T),np.sin(template.T))).T"
   ]
  },
  {
   "cell_type": "markdown",
   "id": "f61d9c0f",
   "metadata": {},
   "source": [
    "First, check how good the kernel approximation is:"
   ]
  },
  {
   "cell_type": "code",
   "execution_count": 20,
   "id": "a9db343a",
   "metadata": {},
   "outputs": [
    {
     "name": "stdout",
     "output_type": "stream",
     "text": [
      "[[-0.01791061]]\n",
      "[[0.00595386]]\n"
     ]
    }
   ],
   "source": [
    "x = np.random.randn(1, 5)\n",
    "y = np.random.randn(1, 5)\n",
    "print(estimate_kernel(x, y, num_rff=5000))\n",
    "print(rbf_kernel(x, y,gamma=1))"
   ]
  },
  {
   "cell_type": "markdown",
   "id": "fb05a2c0",
   "metadata": {},
   "source": [
    "Next, the approximation of the Nyström-kernel-matrices is evaluated"
   ]
  },
  {
   "cell_type": "code",
   "execution_count": 21,
   "id": "785c3596",
   "metadata": {},
   "outputs": [],
   "source": [
    "n = 1000\n",
    "num_rff = 1000\n",
    "X = np.random.randn(n, 1)\n",
    "Y = np.random.randn(n, 1)\n",
    "\n",
    "m_idx = np.random.default_rng().integers(n, size=int(np.sqrt(n)))\n",
    "X_tilde = X[m_idx]\n",
    "Y_tilde = Y[m_idx]\n",
    "\n",
    "XX = rbf_kernel(X_tilde, X_tilde)\n",
    "\n",
    "Z_X = get_Z(data=X, num_rff=num_rff)\n",
    "Z_XX = Z_X @ Z_X.T"
   ]
  },
  {
   "cell_type": "markdown",
   "id": "90370d4e",
   "metadata": {},
   "source": [
    "Implement MMD using rffs:"
   ]
  },
  {
   "cell_type": "code",
   "execution_count": 22,
   "id": "8f7b093e",
   "metadata": {},
   "outputs": [],
   "source": [
    "def rff_mmd(X, Y, num_rff):    \n",
    "    n = len(X)\n",
    "    m = len(Y)\n",
    "    \n",
    "    Z_X = get_Z(data=X, num_rff=num_rff)\n",
    "    Z_Y = get_Z(data=Y, num_rff=num_rff)\n",
    "    \n",
    "    return 1 / (n ** 2) * np.ones((n, 1)).T @ Z_X @ Z_X.T @ np.ones((n, 1)) + 1 / (m ** 2) * np.ones((m, 1)).T @ Z_Y @ Z_Y.T @ np.ones((m, 1)) - 2 / (n * m) * np.ones((n, 1)).T @ Z_X @ Z_Y.T @ np.ones((m, 1))"
   ]
  },
  {
   "cell_type": "markdown",
   "id": "8555521e",
   "metadata": {},
   "source": [
    "#### Nyström-MMD (square-root) vs rff-MMD"
   ]
  },
  {
   "cell_type": "code",
   "execution_count": 23,
   "id": "afa9b85e",
   "metadata": {},
   "outputs": [
    {
     "name": "stdout",
     "output_type": "stream",
     "text": [
      "Nyström: 0.00010968713679204711, runtime: 0.04478192329406738s\n",
      "rff: 0.0001318944525935395, runtime: 0.007776975631713867s\n"
     ]
    }
   ],
   "source": [
    "n = 10000\n",
    "X = np.random.randn(n, 1)\n",
    "Y = np.random.randn(n, 1)\n",
    "\n",
    "start = time.time()\n",
    "nystroem_result = nystroem_mmd(X, Y, m=int(np.sqrt(n)))\n",
    "end = time.time()\n",
    "nystroem_runtime = end - start\n",
    "\n",
    "start = time.time()\n",
    "rff_result = rff_mmd(X, Y, num_rff=10)[0][0]\n",
    "end = time.time()\n",
    "rff_runtime = end - start\n",
    "\n",
    "print(f\"Nyström: {nystroem_result}, runtime: {nystroem_runtime}s\")\n",
    "print(f\"rff: {rff_result}, runtime: {rff_runtime}s\")"
   ]
  },
  {
   "cell_type": "markdown",
   "id": "24f322c4",
   "metadata": {},
   "source": [
    "Robustness-tests:"
   ]
  },
  {
   "cell_type": "code",
   "execution_count": 24,
   "id": "98177bb8",
   "metadata": {},
   "outputs": [
    {
     "name": "stdout",
     "output_type": "stream",
     "text": [
      "Nyström: 0.4248869590705078, runtime: 0.03383207321166992s\n",
      "rff: 0.4101429416310723, runtime: 0.7624189853668213s\n"
     ]
    }
   ],
   "source": [
    "n = 10000\n",
    "X = np.random.randn(n, 1)\n",
    "n_binom, p = 5, 0.4\n",
    "Y = np.random.binomial(n=n_binom, p=p, size=(n, 1))\n",
    "#Y = np.random.chisquare(df=2, size=(n, 1))\n",
    "\n",
    "start = time.time()\n",
    "nystroem_result = nystroem_mmd(X, Y, m=int(np.sqrt(n)))\n",
    "end = time.time()\n",
    "nystroem_runtime = end - start\n",
    "\n",
    "start = time.time()\n",
    "rff_result = rff_mmd(X, Y, num_rff=1000)[0][0]\n",
    "end = time.time()\n",
    "rff_runtime = end - start\n",
    "\n",
    "print(f\"Nyström: {nystroem_result}, runtime: {nystroem_runtime}s\")\n",
    "print(f\"rff: {rff_result}, runtime: {rff_runtime}s\")"
   ]
  },
  {
   "cell_type": "markdown",
   "id": "d937313c",
   "metadata": {},
   "source": [
    "#### Biased MMD vs streaming rff-MMD "
   ]
  },
  {
   "cell_type": "code",
   "execution_count": 25,
   "id": "b9791268",
   "metadata": {},
   "outputs": [],
   "source": [
    "def phi_hat(x, s):\n",
    "    rng = np.random.default_rng(seed=1234)\n",
    "    w = rng.normal(scale=sigma_from_gamma(gamma=1), size=s)\n",
    "    wx = w.T * x\n",
    "    return 1 / np.sqrt(s) * np.concatenate((np.cos(wx), np.sin(wx)))\n",
    "\n",
    "\n",
    "def streaming_rff_mmd(X, Y, num_rff):\n",
    "    n = len(X)\n",
    "    \n",
    "    X_total = np.zeros(2 * num_rff)\n",
    "    Y_total = np.zeros(2 * num_rff)\n",
    "    for x, y in zip(X, Y):\n",
    "        X_total += phi_hat(x, num_rff)\n",
    "        Y_total += phi_hat(y, num_rff)\n",
    "    \n",
    "    return 1 / (n ** 2) * np.linalg.norm(X_total - Y_total) ** 2\n",
    "    \n",
    "    #return 1 / (len(Z_X) * len(Z_Y)) * np.linalg.norm(sum(Z_X) - sum(Z_Y))"
   ]
  },
  {
   "cell_type": "code",
   "execution_count": 26,
   "id": "6b2a3edb",
   "metadata": {},
   "outputs": [
    {
     "data": {
      "text/plain": [
       "0.0050140240004249576"
      ]
     },
     "execution_count": 26,
     "metadata": {},
     "output_type": "execute_result"
    }
   ],
   "source": [
    "n = 1000\n",
    "X = np.random.randn(n, 1)\n",
    "Y = np.random.randn(n, 1)\n",
    "streaming_rff_mmd(X, Y, 100)"
   ]
  },
  {
   "cell_type": "code",
   "execution_count": 27,
   "id": "e003bad0",
   "metadata": {},
   "outputs": [
    {
     "name": "stdout",
     "output_type": "stream",
     "text": [
      "Biased: 0.0001426581798571469, runtime: 3.7507572174072266s\n",
      "rff: 0.00015390350257180654, runtime: 0.7796142101287842s\n"
     ]
    }
   ],
   "source": [
    "n = 12000\n",
    "X = np.random.randn(n, 1)\n",
    "Y = np.random.randn(n, 1)\n",
    "#n_binom, p = 5, 0.4\n",
    "#Y = np.random.binomial(n=n_binom, p=p, size=(n, 1))\n",
    "#Y = np.random.chisquare(df=2, size=(n, 1))\n",
    "\n",
    "start = time.time()\n",
    "biased_result = biased_mmd(X, Y)\n",
    "end = time.time()\n",
    "biased_runtime = end - start\n",
    "\n",
    "start = time.time()\n",
    "streaming_rff_result = streaming_rff_mmd(X, Y, num_rff=500)\n",
    "end = time.time()\n",
    "streaming_rff_runtime = end - start\n",
    "\n",
    "print(f\"Biased: {biased_result}, runtime: {biased_runtime}s\")\n",
    "print(f\"rff: {streaming_rff_result}, runtime: {streaming_rff_runtime}s\")"
   ]
  }
 ],
 "metadata": {
  "kernelspec": {
   "display_name": "Python 3.9.6 ('venv': venv)",
   "language": "python",
   "name": "python3"
  },
  "language_info": {
   "codemirror_mode": {
    "name": "ipython",
    "version": 3
   },
   "file_extension": ".py",
   "mimetype": "text/x-python",
   "name": "python",
   "nbconvert_exporter": "python",
   "pygments_lexer": "ipython3",
   "version": "3.9.6"
  },
  "vscode": {
   "interpreter": {
    "hash": "20118222f3e8fcd1f30fbd52126061717f26b9a7b2d97697708c3e3917976f75"
   }
  }
 },
 "nbformat": 4,
 "nbformat_minor": 5
}
