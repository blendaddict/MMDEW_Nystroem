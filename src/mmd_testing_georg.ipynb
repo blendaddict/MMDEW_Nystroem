{
 "cells": [
  {
   "cell_type": "markdown",
   "id": "2249b7ec",
   "metadata": {},
   "source": [
    "# Comparing different types of MMD regarding runtime and variance"
   ]
  },
  {
   "cell_type": "markdown",
   "id": "49927052",
   "metadata": {},
   "source": [
    "Necessary imports:"
   ]
  },
  {
   "cell_type": "code",
   "execution_count": 272,
   "id": "15e43e3c",
   "metadata": {},
   "outputs": [],
   "source": [
    "import numpy as np\n",
    "import numpy.linalg as la\n",
    "import time\n",
    "import math\n",
    "import matplotlib.pyplot as plt\n",
    "import random\n",
    "from mmdew.bucket_stream_old import BucketStream\n",
    "from sklearn.metrics.pairwise import rbf_kernel, euclidean_distances\n",
    "from scipy.stats import norm\n",
    "from sklearn import metrics"
   ]
  },
  {
   "cell_type": "markdown",
   "id": "d531096a",
   "metadata": {},
   "source": [
    "We will take a look at Nyström MMD, biased MMD and Linear Time MMD.\n",
    "Define the functions first:"
   ]
  },
  {
   "cell_type": "code",
   "execution_count": 273,
   "id": "3124e6fe",
   "metadata": {},
   "outputs": [],
   "source": [
    "def biased_mmd(X, Y, m_magnitude=None):\n",
    "    XX = rbf_kernel(X, X)\n",
    "    YY = rbf_kernel(Y, Y)\n",
    "    XY = rbf_kernel(X, Y)\n",
    "    \n",
    "    return XX.mean() + YY.mean() - 2 * XY.mean()\n",
    "\n",
    "\n",
    "def unbiased_mmd(X, Y):\n",
    "    n = len(X)\n",
    "    m = len(Y)\n",
    "    \n",
    "    XX = rbf_kernel(X, X)\n",
    "    YY = rbf_kernel(Y, Y)\n",
    "    XY = rbf_kernel(X, Y)\n",
    "    \n",
    "    np.fill_diagonal(XX, 0)\n",
    "    np.fill_diagonal(YY, 0)\n",
    "    \n",
    "    return 1 / (n * (n - 1)) * np.sum(XX) + 1 / (m * (m - 1)) * np.sum(YY) - 2 / (n * m) * np.sum(XY)\n",
    "\n",
    "\n",
    "def nystroem_mmd(X, Y, m):\n",
    "    n = len(X)\n",
    "    #m = int(m_magnitude(n))\n",
    "    m_idx = np.random.default_rng().integers(n, size=m)\n",
    "    X_tilde = X[m_idx]\n",
    "    Y_tilde = Y[m_idx]\n",
    "    \n",
    "    XX = rbf_kernel(X_tilde, X_tilde)\n",
    "    YY = rbf_kernel(Y_tilde, Y_tilde)\n",
    "    XY = rbf_kernel(X_tilde, Y_tilde)\n",
    "    \n",
    "    X_mn = rbf_kernel(X_tilde, X)\n",
    "    Y_mn = rbf_kernel(Y_tilde, Y)\n",
    "    \n",
    "    alpha_1 = 1 / n * la.pinv(XX) @ X_mn @ np.ones((n, 1))\n",
    "    alpha_2 = 1 / n * la.pinv(YY) @ Y_mn @ np.ones((n, 1))\n",
    "    return (alpha_1.T @ XX @ alpha_1 + alpha_2.T @ YY @ alpha_2 - 2 * alpha_1.T @ XY @ alpha_2)[0][0]"
   ]
  },
  {
   "cell_type": "markdown",
   "id": "c09ff7f9",
   "metadata": {},
   "source": [
    "### First, run Biased- and Nyström-MMD in a simple environment to observe first results."
   ]
  },
  {
   "cell_type": "code",
   "execution_count": 274,
   "id": "4c55bd4f",
   "metadata": {},
   "outputs": [
    {
     "name": "stdout",
     "output_type": "stream",
     "text": [
      "Biased:  0.0005290304550864544, runtime: 0.1424s\n",
      "Unbiased: -1.852557440940039e-05, runtime: 0.1333s\n",
      "Nyström: 0.0005171253828724076, runtime: 0.0043s\n"
     ]
    }
   ],
   "source": [
    "n = 2000\n",
    "np.random.seed(1234)\n",
    "X = np.random.randn(n, 1)\n",
    "Y = np.random.randn(n, 1)\n",
    "\n",
    "start = time.time()\n",
    "biased_result = biased_mmd(X, Y)\n",
    "end = time.time()\n",
    "biased_mmd_runtime = \"{:.4f}\".format(end - start)\n",
    "\n",
    "start = time.time()\n",
    "unbiased_result = unbiased_mmd(X, Y)\n",
    "end = time.time()\n",
    "unbiased_mmd_runtime = \"{:.4f}\".format(end - start)\n",
    "\n",
    "start = time.time()\n",
    "#nystroem_result = nystroem_mmd(X, Y, m_magnitude=(lambda x: np.sqrt(x)))\n",
    "nystroem_result = nystroem_mmd(X, Y, int(np.sqrt(n)))\n",
    "end = time.time()\n",
    "nystroem_mmd_runtime = \"{:.4f}\".format(end - start)\n",
    "\n",
    "print(f\"Biased:  {biased_result}, runtime: {biased_mmd_runtime}s\")\n",
    "print(f\"Unbiased: {unbiased_result}, runtime: {unbiased_mmd_runtime}s\")\n",
    "print(f\"Nyström: {nystroem_result}, runtime: {nystroem_mmd_runtime}s\")"
   ]
  },
  {
   "cell_type": "markdown",
   "id": "de70de12",
   "metadata": {},
   "source": [
    "We also take the runtime of Biased-MMD as baseline."
   ]
  },
  {
   "cell_type": "markdown",
   "id": "8f89eed2",
   "metadata": {},
   "source": [
    "### Now, plot the runtime of Nyström-MMD mapped to subsample-size $m$ depending on $n = 10000$"
   ]
  },
  {
   "cell_type": "code",
   "execution_count": 275,
   "id": "261df128",
   "metadata": {},
   "outputs": [
    {
     "data": {
      "image/png": "[encoded data removed]",
      "text/plain": [
       "<Figure size 640x480 with 1 Axes>"
      ]
     },
     "metadata": {},
     "output_type": "display_data"
    },
    {
     "name": "stdout",
     "output_type": "stream",
     "text": [
      "Total time: 90.2139585018158s\n"
     ]
    }
   ],
   "source": [
    "n = 10000\n",
    "np.random.seed(1234)\n",
    "#ms = [lambda x: np.log(x), lambda x: math.pow(x, 0.25),\n",
    "#      lambda x: x / 100, lambda x: np.sqrt(x), lambda x: x / 10, lambda x: x / 5]\n",
    "\n",
    "ms = list(range(50, 2050, 50))\n",
    "runtimes = []\n",
    "\n",
    "for m in ms:\n",
    "    X = np.random.randn(n, 1)\n",
    "    Y = np.random.randn(n, 1)\n",
    "    start = time.time()\n",
    "    # discard the return value\n",
    "    nystroem_mmd(X, Y, m)\n",
    "    end = time.time()\n",
    "    current_runtime = end - start\n",
    "    runtimes.append(current_runtime)\n",
    "\n",
    "plt.plot(ms, runtimes)\n",
    "plt.xlabel(\"m\")\n",
    "plt.ylabel(\"time [s]\")\n",
    "plt.grid(True)\n",
    "plt.show()\n",
    "\n",
    "print(f\"Total time: {sum(runtimes)}s\")"
   ]
  },
  {
   "cell_type": "markdown",
   "id": "87e64739",
   "metadata": {},
   "source": [
    "### In this section, we will evaluate how well Nyström-MMD does with $X$ and $Y$ being sampled from different distributions. Note that $|X| = |Y| = n = 10000$"
   ]
  },
  {
   "cell_type": "markdown",
   "id": "3ad32b7d",
   "metadata": {},
   "source": [
    "First, draw both samples from the standard normal distribution and verify, that the return value is approximatively 0"
   ]
  },
  {
   "cell_type": "code",
   "execution_count": 276,
   "id": "f6babbba",
   "metadata": {},
   "outputs": [
    {
     "data": {
      "text/plain": [
       "0.0001632801963320496"
      ]
     },
     "execution_count": 276,
     "metadata": {},
     "output_type": "execute_result"
    }
   ],
   "source": [
    "n = 20000\n",
    "X = np.random.randn(n, 1)\n",
    "Y = np.random.randn(n, 1)\n",
    "nystroem_mmd(X, Y, m=math.ceil(np.sqrt(n)))"
   ]
  },
  {
   "cell_type": "markdown",
   "id": "d3d15112",
   "metadata": {},
   "source": [
    "From now, $X$ is standard normally distributed, whereas $Y$ is drawn from a different distribution"
   ]
  },
  {
   "cell_type": "code",
   "execution_count": 277,
   "id": "a1ee551c",
   "metadata": {},
   "outputs": [
    {
     "name": "stdout",
     "output_type": "stream",
     "text": [
      "For Y ~ Poisson: 0.12551999723968787\n",
      "For Y ~ Binomial: 0.43286311990804593 where n=5 and p=0.4\n",
      "For Y ~ Chi-Square: 0.21146694768662144 where degree of freedom is 5\n"
     ]
    }
   ],
   "source": [
    "X = np.random.randn(n, 1)\n",
    "Y = np.random.poisson(size=(n, 1))\n",
    "result = nystroem_mmd(X, Y, int(np.sqrt(n)))\n",
    "print(f\"For Y ~ Poisson: {result}\")\n",
    "\n",
    "X = np.random.randn(n, 1)\n",
    "n_binom, p = 5, 0.4\n",
    "Y = np.random.binomial(n=n_binom, p=p, size=(n, 1))\n",
    "result = nystroem_mmd(X, Y,int(np.sqrt(n)))\n",
    "print(f\"For Y ~ Binomial: {result} where n={n_binom} and p={p}\")\n",
    "\n",
    "X = np.random.randn(n, 1)\n",
    "Y = np.random.chisquare(df=2, size=(n, 1))\n",
    "result = nystroem_mmd(X, Y, int(np.sqrt(n)))\n",
    "print(f\"For Y ~ Chi-Square: {result} where degree of freedom is 5\")"
   ]
  },
  {
   "cell_type": "markdown",
   "id": "182369fb",
   "metadata": {},
   "source": [
    "### This section will evaluate the variance of different estimators, including Nyström-MMD-estimators with different values for $m$. Let $k$ be the number of iterations for computing the variance. $n$ is the size of the samples, that are drawn from the standard normal distribution."
   ]
  },
  {
   "cell_type": "markdown",
   "id": "079dcac1",
   "metadata": {},
   "source": [
    "For additional purposes, the Linear Time Test (Gretton: A Kernel Two-Sample Test) and the B-Test (B-tests: Low Variance Kernel Two-Sample Tests, Zaremba) are implemented here"
   ]
  },
  {
   "cell_type": "code",
   "execution_count": 278,
   "id": "db76d657",
   "metadata": {},
   "outputs": [],
   "source": [
    "def ltt(X, Y):\n",
    "    m = len(X)\n",
    "    m2 = math.floor(m / 2)\n",
    "    \n",
    "    total = 0\n",
    "    for i in range(1, m2):\n",
    "        total += _h(X[2 * i - 1], Y[2 * i - 1], X[2 * i], Y[2 * i])\n",
    "    return total / m2\n",
    "\n",
    "def _h(x_i, y_i, x_j, y_j):\n",
    "    return squared_euclidean_kernel(x_i, x_j) + squared_euclidean_kernel(y_i, y_j) - squared_euclidean_kernel(x_i, y_j) - squared_euclidean_kernel(x_j, y_i)\n",
    "\n",
    "# rbf-kernel with scalar input\n",
    "def squared_euclidean_kernel(x, y, gamma=None):\n",
    "    if gamma is None:\n",
    "        # n_features = 1\n",
    "        gamma = 1.0\n",
    "    return math.exp(-gamma * abs(x - y) ** 2)"
   ]
  },
  {
   "cell_type": "code",
   "execution_count": 279,
   "id": "15f75da0",
   "metadata": {},
   "outputs": [],
   "source": [
    "def b_test(X, Y, B):\n",
    "    n = len(X)\n",
    "    number_of_blocks = int((n / B))\n",
    "    X_blocks = np.array_split(X, number_of_blocks)\n",
    "    Y_blocks = np.array_split(Y, number_of_blocks)\n",
    "    block_mmds = np.zeros(number_of_blocks)\n",
    "    for i in range(number_of_blocks):\n",
    "        block_mmds[i] = unbiased_mmd(X_blocks[i], Y_blocks[i])\n",
    "    return block_mmds.mean()"
   ]
  },
  {
   "cell_type": "code",
   "execution_count": 280,
   "id": "2e31caab",
   "metadata": {},
   "outputs": [
    {
     "data": {
      "text/plain": [
       "0.0002932883924206038"
      ]
     },
     "execution_count": 280,
     "metadata": {},
     "output_type": "execute_result"
    }
   ],
   "source": [
    "n = 2000000\n",
    "X = np.random.randn(n, 1)\n",
    "Y = np.random.randn(n, 1)\n",
    "ltt(X, Y)"
   ]
  },
  {
   "cell_type": "code",
   "execution_count": 281,
   "id": "728b841c",
   "metadata": {},
   "outputs": [
    {
     "data": {
      "text/plain": [
       "-0.004992748715319911"
      ]
     },
     "execution_count": 281,
     "metadata": {},
     "output_type": "execute_result"
    }
   ],
   "source": [
    "n = 26400\n",
    "X = np.random.randn(n, 1)\n",
    "Y = np.random.randn(n, 1)\n",
    "b_test(X, Y, 2)"
   ]
  },
  {
   "cell_type": "markdown",
   "id": "5483f494",
   "metadata": {},
   "source": [
    "Also, MMDAW (Kalinke: Scalable Online Change Detection for High-dimensional Data Streams) is evaluated here.\n",
    "\n",
    "**Important: For given $k$, $X$ and $Y$ must be of following sizes: $n := |X| = 2^{k - 1}$ and $m := |Y| = 2^{k - 1} - 1$**"
   ]
  },
  {
   "cell_type": "code",
   "execution_count": 282,
   "id": "c3ef11c3",
   "metadata": {},
   "outputs": [],
   "source": [
    "# k > 1\n",
    "def run_mmdaw(k):\n",
    "    assert k > 1\n",
    "    n = 2 ** (k - 1)\n",
    "    m = 2 ** (k - 1) - 1\n",
    "\n",
    "    X = np.random.randn(n, 1)\n",
    "    Y = np.random.randn(m, 1)\n",
    "    \n",
    "    mmdaw_estimator = BucketStream(gamma=1)\n",
    "    for x in X:\n",
    "        mmdaw_estimator.insert(x)\n",
    "    for y in Y:\n",
    "        mmdaw_estimator.insert(y)\n",
    "    mmd_value, end, start = mmdaw_estimator.mmd(split=1)\n",
    "    return mmd_value"
   ]
  },
  {
   "cell_type": "code",
   "execution_count": 283,
   "id": "09b5db61",
   "metadata": {},
   "outputs": [
    {
     "ename": "ValueError",
     "evalue": "Expected 2D array, got 1D array instead:\narray=[0.39525392].\nReshape your data either using array.reshape(-1, 1) if your data has a single feature or array.reshape(1, -1) if it contains a single sample.",
     "output_type": "error",
     "traceback": [
      "\u001b[0;31m---------------------------------------------------------------------------\u001b[0m",
      "\u001b[0;31mValueError\u001b[0m                                Traceback (most recent call last)",
      "Cell \u001b[0;32mIn[283], line 1\u001b[0m\n\u001b[0;32m----> 1\u001b[0m run_mmdaw(k\u001b[39m=\u001b[39;49m\u001b[39m9\u001b[39;49m)\n",
      "Cell \u001b[0;32mIn[282], line 12\u001b[0m, in \u001b[0;36mrun_mmdaw\u001b[0;34m(k)\u001b[0m\n\u001b[1;32m     10\u001b[0m mmdaw_estimator \u001b[39m=\u001b[39m BucketStream(gamma\u001b[39m=\u001b[39m\u001b[39m1\u001b[39m)\n\u001b[1;32m     11\u001b[0m \u001b[39mfor\u001b[39;00m x \u001b[39min\u001b[39;00m X:\n\u001b[0;32m---> 12\u001b[0m     mmdaw_estimator\u001b[39m.\u001b[39;49minsert(x)\n\u001b[1;32m     13\u001b[0m \u001b[39mfor\u001b[39;00m y \u001b[39min\u001b[39;00m Y:\n\u001b[1;32m     14\u001b[0m     mmdaw_estimator\u001b[39m.\u001b[39minsert(y)\n",
      "File \u001b[0;32m~/MMDEW_Nystroem/src/mmdew/bucket_stream_old.py:21\u001b[0m, in \u001b[0;36mBucketStream.insert\u001b[0;34m(self, element)\u001b[0m\n\u001b[1;32m     20\u001b[0m \u001b[39mdef\u001b[39;00m \u001b[39minsert\u001b[39m(\u001b[39mself\u001b[39m, element):\n\u001b[0;32m---> 21\u001b[0m     XX \u001b[39m=\u001b[39m \u001b[39mself\u001b[39;49m\u001b[39m.\u001b[39;49mk(element, element)\n\u001b[1;32m     22\u001b[0m     XX_str \u001b[39m=\u001b[39m \u001b[39mself\u001b[39m\u001b[39m.\u001b[39mstr_k(element, element) \u001b[39mif\u001b[39;00m \u001b[39mself\u001b[39m\u001b[39m.\u001b[39mlogging \u001b[39melse\u001b[39;00m \u001b[39m\"\u001b[39m\u001b[39m\"\u001b[39m\n\u001b[1;32m     23\u001b[0m     XY, n_XY \u001b[39m=\u001b[39m \u001b[39mself\u001b[39m\u001b[39m.\u001b[39mxy(element)\n",
      "File \u001b[0;32m~/MMDEW_Nystroem/src/mmdew/bucket_stream_old.py:173\u001b[0m, in \u001b[0;36mBucketStream.k\u001b[0;34m(self, x, y)\u001b[0m\n\u001b[1;32m    171\u001b[0m \u001b[39mdef\u001b[39;00m \u001b[39mk\u001b[39m(\u001b[39mself\u001b[39m, x, y):\n\u001b[1;32m    172\u001b[0m     \u001b[39mif\u001b[39;00m \u001b[39mself\u001b[39m\u001b[39m.\u001b[39mkernel \u001b[39m==\u001b[39m \u001b[39m\"\u001b[39m\u001b[39mrbf\u001b[39m\u001b[39m\"\u001b[39m:\n\u001b[0;32m--> 173\u001b[0m         \u001b[39mreturn\u001b[39;00m metrics\u001b[39m.\u001b[39;49mpairwise\u001b[39m.\u001b[39;49mrbf_kernel(x,y)\n\u001b[1;32m    174\u001b[0m     \u001b[39melse\u001b[39;00m: \n\u001b[1;32m    175\u001b[0m         \u001b[39mreturn\u001b[39;00m metrics\u001b[39m.\u001b[39mpairwise\u001b[39m.\u001b[39mlinear_kernel(x,y)\n",
      "File \u001b[0;32m~/MMDEW_Nystroem/mmdew-nystroem/lib/python3.10/site-packages/sklearn/metrics/pairwise.py:1310\u001b[0m, in \u001b[0;36mrbf_kernel\u001b[0;34m(X, Y, gamma)\u001b[0m\n\u001b[1;32m   1285\u001b[0m \u001b[39mdef\u001b[39;00m \u001b[39mrbf_kernel\u001b[39m(X, Y\u001b[39m=\u001b[39m\u001b[39mNone\u001b[39;00m, gamma\u001b[39m=\u001b[39m\u001b[39mNone\u001b[39;00m):\n\u001b[1;32m   1286\u001b[0m \u001b[39m    \u001b[39m\u001b[39m\"\"\"Compute the rbf (gaussian) kernel between X and Y.\u001b[39;00m\n\u001b[1;32m   1287\u001b[0m \n\u001b[1;32m   1288\u001b[0m \u001b[39m        K(x, y) = exp(-gamma ||x-y||^2)\u001b[39;00m\n\u001b[0;32m   (...)\u001b[0m\n\u001b[1;32m   1308\u001b[0m \u001b[39m        The RBF kernel.\u001b[39;00m\n\u001b[1;32m   1309\u001b[0m \u001b[39m    \"\"\"\u001b[39;00m\n\u001b[0;32m-> 1310\u001b[0m     X, Y \u001b[39m=\u001b[39m check_pairwise_arrays(X, Y)\n\u001b[1;32m   1311\u001b[0m     \u001b[39mif\u001b[39;00m gamma \u001b[39mis\u001b[39;00m \u001b[39mNone\u001b[39;00m:\n\u001b[1;32m   1312\u001b[0m         gamma \u001b[39m=\u001b[39m \u001b[39m1.0\u001b[39m \u001b[39m/\u001b[39m X\u001b[39m.\u001b[39mshape[\u001b[39m1\u001b[39m]\n",
      "File \u001b[0;32m~/MMDEW_Nystroem/mmdew-nystroem/lib/python3.10/site-packages/sklearn/metrics/pairwise.py:146\u001b[0m, in \u001b[0;36mcheck_pairwise_arrays\u001b[0;34m(X, Y, precomputed, dtype, accept_sparse, force_all_finite, copy)\u001b[0m\n\u001b[1;32m    143\u001b[0m     dtype \u001b[39m=\u001b[39m dtype_float\n\u001b[1;32m    145\u001b[0m \u001b[39mif\u001b[39;00m Y \u001b[39mis\u001b[39;00m X \u001b[39mor\u001b[39;00m Y \u001b[39mis\u001b[39;00m \u001b[39mNone\u001b[39;00m:\n\u001b[0;32m--> 146\u001b[0m     X \u001b[39m=\u001b[39m Y \u001b[39m=\u001b[39m check_array(\n\u001b[1;32m    147\u001b[0m         X,\n\u001b[1;32m    148\u001b[0m         accept_sparse\u001b[39m=\u001b[39;49maccept_sparse,\n\u001b[1;32m    149\u001b[0m         dtype\u001b[39m=\u001b[39;49mdtype,\n\u001b[1;32m    150\u001b[0m         copy\u001b[39m=\u001b[39;49mcopy,\n\u001b[1;32m    151\u001b[0m         force_all_finite\u001b[39m=\u001b[39;49mforce_all_finite,\n\u001b[1;32m    152\u001b[0m         estimator\u001b[39m=\u001b[39;49mestimator,\n\u001b[1;32m    153\u001b[0m     )\n\u001b[1;32m    154\u001b[0m \u001b[39melse\u001b[39;00m:\n\u001b[1;32m    155\u001b[0m     X \u001b[39m=\u001b[39m check_array(\n\u001b[1;32m    156\u001b[0m         X,\n\u001b[1;32m    157\u001b[0m         accept_sparse\u001b[39m=\u001b[39maccept_sparse,\n\u001b[0;32m   (...)\u001b[0m\n\u001b[1;32m    161\u001b[0m         estimator\u001b[39m=\u001b[39mestimator,\n\u001b[1;32m    162\u001b[0m     )\n",
      "File \u001b[0;32m~/MMDEW_Nystroem/mmdew-nystroem/lib/python3.10/site-packages/sklearn/utils/validation.py:902\u001b[0m, in \u001b[0;36mcheck_array\u001b[0;34m(array, accept_sparse, accept_large_sparse, dtype, order, copy, force_all_finite, ensure_2d, allow_nd, ensure_min_samples, ensure_min_features, estimator, input_name)\u001b[0m\n\u001b[1;32m    900\u001b[0m     \u001b[39m# If input is 1D raise error\u001b[39;00m\n\u001b[1;32m    901\u001b[0m     \u001b[39mif\u001b[39;00m array\u001b[39m.\u001b[39mndim \u001b[39m==\u001b[39m \u001b[39m1\u001b[39m:\n\u001b[0;32m--> 902\u001b[0m         \u001b[39mraise\u001b[39;00m \u001b[39mValueError\u001b[39;00m(\n\u001b[1;32m    903\u001b[0m             \u001b[39m\"\u001b[39m\u001b[39mExpected 2D array, got 1D array instead:\u001b[39m\u001b[39m\\n\u001b[39;00m\u001b[39marray=\u001b[39m\u001b[39m{}\u001b[39;00m\u001b[39m.\u001b[39m\u001b[39m\\n\u001b[39;00m\u001b[39m\"\u001b[39m\n\u001b[1;32m    904\u001b[0m             \u001b[39m\"\u001b[39m\u001b[39mReshape your data either using array.reshape(-1, 1) if \u001b[39m\u001b[39m\"\u001b[39m\n\u001b[1;32m    905\u001b[0m             \u001b[39m\"\u001b[39m\u001b[39myour data has a single feature or array.reshape(1, -1) \u001b[39m\u001b[39m\"\u001b[39m\n\u001b[1;32m    906\u001b[0m             \u001b[39m\"\u001b[39m\u001b[39mif it contains a single sample.\u001b[39m\u001b[39m\"\u001b[39m\u001b[39m.\u001b[39mformat(array)\n\u001b[1;32m    907\u001b[0m         )\n\u001b[1;32m    909\u001b[0m \u001b[39mif\u001b[39;00m dtype_numeric \u001b[39mand\u001b[39;00m array\u001b[39m.\u001b[39mdtype\u001b[39m.\u001b[39mkind \u001b[39min\u001b[39;00m \u001b[39m\"\u001b[39m\u001b[39mUSV\u001b[39m\u001b[39m\"\u001b[39m:\n\u001b[1;32m    910\u001b[0m     \u001b[39mraise\u001b[39;00m \u001b[39mValueError\u001b[39;00m(\n\u001b[1;32m    911\u001b[0m         \u001b[39m\"\u001b[39m\u001b[39mdtype=\u001b[39m\u001b[39m'\u001b[39m\u001b[39mnumeric\u001b[39m\u001b[39m'\u001b[39m\u001b[39m is not compatible with arrays of bytes/strings.\u001b[39m\u001b[39m\"\u001b[39m\n\u001b[1;32m    912\u001b[0m         \u001b[39m\"\u001b[39m\u001b[39mConvert your data to numeric values explicitly instead.\u001b[39m\u001b[39m\"\u001b[39m\n\u001b[1;32m    913\u001b[0m     )\n",
      "\u001b[0;31mValueError\u001b[0m: Expected 2D array, got 1D array instead:\narray=[0.39525392].\nReshape your data either using array.reshape(-1, 1) if your data has a single feature or array.reshape(1, -1) if it contains a single sample."
     ]
    }
   ],
   "source": [
    "run_mmdaw(k=9)"
   ]
  },
  {
   "cell_type": "code",
   "execution_count": 284,
   "id": "185468ab",
   "metadata": {},
   "outputs": [
    {
     "name": "stdout",
     "output_type": "stream",
     "text": [
      "Linear Time Test: took 3.461383104324341s\n",
      "B-test: B = sqrt(n): took 6.273406028747559s\n",
      "Nyström: m = sqrt(n): took 2.454861640930176s\n",
      "Nyström: m = log(n): took 0.6691761016845703s\n"
     ]
    },
    {
     "data": {
      "image/png": "[encoded data removed]",
      "text/plain": [
       "<Figure size 640x480 with 1 Axes>"
      ]
     },
     "metadata": {},
     "output_type": "display_data"
    }
   ],
   "source": [
    "regular_scale = [100, 200, 300, 500, 1000, 1500, 2000]\n",
    "mmdaw_scale = [6, 7, 8, 9, 10, 11, 12]\n",
    "iterations = 100\n",
    "\n",
    "estimators = [\n",
    "             #(unbiased_mmd, None, regular_scale, \"Unbiased\", \"dotted\"),\n",
    "             (ltt, None, regular_scale, \"Linear Time Test\", \"dashed\"),\n",
    "             (b_test, lambda x: np.sqrt(x), regular_scale, \"B-test: B = sqrt(n)\", \"dashdot\"),\n",
    "             (nystroem_mmd, lambda x: np.sqrt(x), regular_scale, \"Nyström: m = sqrt(n)\", (5, (10, 3))),\n",
    "             (nystroem_mmd, lambda x: np.log(x), regular_scale, \"Nyström: m = log(n)\", (0, (3, 1, 1, 1, 1, 1))),\n",
    "             #(run_mmdaw, None, mmdaw_scale, \"MMDAW\", \"solid\")\n",
    "            ]\n",
    "\n",
    "\n",
    "\n",
    "for (estimator, magnitude, scale, label, linestyle) in estimators:\n",
    "    start = time.time()\n",
    "    vs = []  \n",
    "    for n_value in scale:\n",
    "        variance = 0\n",
    "        for i in range(0, iterations):\n",
    "            if estimator is run_mmdaw:\n",
    "                variance += run_mmdaw(n_value)\n",
    "                continue\n",
    "            X = np.random.randn(n_value, 1)\n",
    "            Y = np.random.randn(n_value, 1)\n",
    "            if magnitude is not None:\n",
    "                variance += estimator(X, Y, int(magnitude(n_value))) ** 2\n",
    "            else:\n",
    "                variance += estimator(X, Y) ** 2\n",
    "        vs.append(np.sqrt(variance / iterations))\n",
    "    plt.plot(regular_scale, vs, label=label, linestyle=linestyle)\n",
    "    plt.xlabel(\"n\")\n",
    "    plt.ylabel(\"Standard Deviation\")\n",
    "    end = time.time()\n",
    "    print(f\"{label}: took {end - start}s\")\n",
    "plt.legend(loc=\"upper right\")\n",
    "plt.savefig('mmd-estimators_mmdaw.pdf')\n",
    "plt.show()    \n"
   ]
  },
  {
   "cell_type": "code",
   "execution_count": 314,
   "metadata": {},
   "outputs": [],
   "source": [
    "def k(x,y,gamma=1):\n",
    "    return metrics.pairwise.linear_kernel(x, y,gamma)\n",
    "       \n",
    "\n",
    "def get_alpha(XX, X_mn, n=1):\n",
    "    return 1 / n * la.pinv(XX) @ X_mn @ np.ones((n, 1))\n",
    "\n",
    "def get_subsample_and_weights(X):\n",
    "    n = len(X)\n",
    "    # m = int(m_magnitude(n))\n",
    "    m = round(math.sqrt(n))\n",
    "    m_idx = np.random.default_rng().integers(n, size=m)\n",
    "    X_tilde = X[m_idx]\n",
    "    XX = k(X_tilde, X_tilde)\n",
    "    X_mn = k(X_tilde, X)\n",
    "    alpha = get_alpha( XX, X_mn, n)\n",
    "    return X_tilde, alpha , m_idx\n",
    "\n",
    "def get_merged_subsample_and_merged_weights(X_1, X_2, alpha_1, alpha_2, kappa_1, kappa_2):\n",
    "    \n",
    "    joined_elements = np.concatenate((X_1, X_2))\n",
    "    joined_uncompressed_capacity = kappa_1 + kappa_2\n",
    "    joined_weights = np.concatenate((alpha_1, alpha_2))\n",
    "   \n",
    "    \n",
    "    m = round(math.sqrt(joined_uncompressed_capacity))  # size of the subsample\n",
    "    #ToDo: uncomment this\n",
    "    m_idx = np.random.default_rng().integers(len(joined_elements), size=m)\n",
    "    #m_idx = range(0,m)\n",
    "    subsample = joined_elements[m_idx]\n",
    "    K_z = k(subsample, joined_elements)\n",
    "    #K_m = np.zeros((m, m))  # initialize the kernel matrix with zeros\n",
    "    #for i in range(m):\n",
    "        #for j in range(m):\n",
    "            # reshape to 2D array as rbf_kernel expects 2D array\n",
    "\n",
    "    K_m = k(subsample, subsample)\n",
    "    K_m_inv = la.pinv(K_m)\n",
    "    #breakpoint()\n",
    "    new_weights = .5 * K_m_inv @ K_z @ joined_weights\n",
    "   \n",
    "    # assuming current_elements and previous_elements have the same length\n",
    "\n",
    "\n",
    "\n",
    "    #breakpoint()\n",
    "\n",
    "    return subsample, new_weights\n",
    "\n",
    "def nystroem_mmd_from_weights(X,Y, alpha_1, alpha_2):\n",
    "    XX = k(X, X)\n",
    "    YY = k(Y, Y)\n",
    "    XY = k(X, Y)\n",
    "    return (alpha_1.T @ XX @ alpha_1 + alpha_2.T @ YY @ alpha_2 - 2 * alpha_1.T @ XY @ alpha_2)[0][0]"
   ]
  },
  {
   "cell_type": "code",
   "execution_count": 315,
   "id": "71336515",
   "metadata": {},
   "outputs": [
    {
     "name": "stdout",
     "output_type": "stream",
     "text": [
      "Linear Time Test: took 3.3442044258117676s\n",
      "B-test: B = sqrt(n): took 6.140048980712891s\n",
      "Nyström: m = sqrt(n): took 2.0170323848724365s\n",
      "Nyström: m = log(n): took 0.6370875835418701s\n",
      "second_degree_ss took 2.0491647720336914s\n"
     ]
    },
    {
     "data": {
      "image/png": "[encoded data removed]",
      "text/plain": [
       "<Figure size 640x480 with 1 Axes>"
      ]
     },
     "metadata": {},
     "output_type": "display_data"
    }
   ],
   "source": [
    "regular_scale = [100, 200, 300, 500, 1000, 1500, 2000]\n",
    "mmdaw_scale = [6, 7, 8, 9, 10, 11, 12]\n",
    "iterations = 100\n",
    "\n",
    "estimators = [\n",
    "             #(unbiased_mmd, None, regular_scale, \"Unbiased\", \"dotted\"),\n",
    "             (ltt, None, regular_scale, \"Linear Time Test\", \"dashed\"),\n",
    "             (b_test, lambda x: np.sqrt(x), regular_scale, \"B-test: B = sqrt(n)\", \"dashdot\"),\n",
    "             (nystroem_mmd, lambda x: np.sqrt(x), regular_scale, \"Nyström: m = sqrt(n)\", (5, (10, 3))),\n",
    "             (nystroem_mmd, lambda x: np.log(x), regular_scale, \"Nyström: m = log(n)\", (0, (3, 1, 1, 1, 1, 1))),\n",
    "             \n",
    "             #(run_mmdaw, None, mmdaw_scale, \"MMDAW\", \"solid\")\n",
    "            ]\n",
    "\n",
    "\n",
    "\n",
    "for (estimator, magnitude, scale, label, linestyle) in estimators:\n",
    "    start = time.time()\n",
    "    vs = []  \n",
    "    for n_value in scale:\n",
    "        variance = 0\n",
    "        iter_vals = []\n",
    "        for i in range(0, iterations):\n",
    "            if estimator is run_mmdaw:\n",
    "                variance += run_mmdaw(n_value)\n",
    "                continue\n",
    "            # X = np.random.randn(n_value, 1)\n",
    "            # Y = np.random.randn(n_value, 1)\n",
    "            X = np.random.normal(0, 1, n_value).reshape(-1,1)\n",
    "            Y = np.random.normal(0, 1, n_value).reshape(-1,1)\n",
    "            if magnitude is not None:\n",
    "                iter_vals.append(estimator(X, Y, int(magnitude(n_value))))\n",
    "            else:\n",
    "                iter_vals.append(estimator(X, Y))\n",
    "        vs.append(np.std(iter_vals))\n",
    "    plt.plot(regular_scale, vs, label=label, linestyle=linestyle)\n",
    "    plt.xlabel(\"n\")\n",
    "    plt.ylabel(\"Standard Deviation\")\n",
    "    end = time.time()\n",
    "    print(f\"{label}: took {end - start}s\")\n",
    "#add the second degree sampled nyström estimator\n",
    "start = time.time()\n",
    "vs = []  \n",
    "for n_value in regular_scale:\n",
    "    variance = 0\n",
    "    iter_vals = []\n",
    "    for i in range(0, iterations):\n",
    "        # X = np.random.randn(n_value, 1)\n",
    "        # Y = np.random.randn(n_value, 1)\n",
    "        X = np.random.normal(0, 1, n_value).reshape(-1,1)\n",
    "        Y = np.random.normal(0, 1, n_value).reshape(-1,1)\n",
    "        first_degree_size = int(n_value / 2)\n",
    "        X_1 = X[:first_degree_size]\n",
    "        X_2 = X[first_degree_size:]\n",
    "        Y_1 = Y[:first_degree_size]\n",
    "        Y_2 = Y[first_degree_size:]\n",
    "        X_1_ss, alpha_1 , x_midx_1 = get_subsample_and_weights(X_1)\n",
    "        X_2_ss, alpha_2, x_midx_2 = get_subsample_and_weights(X_2)\n",
    "        X_ss_merged, X_ss_merged_weights = get_merged_subsample_and_merged_weights(X_1_ss, X_2_ss, alpha_1, alpha_2, first_degree_size, first_degree_size)\n",
    "        Y_1_ss, beta_1, y_midx_1  = get_subsample_and_weights(Y_1)\n",
    "        Y_2_ss, beta_2, y_midx_2  = get_subsample_and_weights(Y_2)\n",
    "        Y_ss_merged, Y_ss_merged_weights = get_merged_subsample_and_merged_weights(Y_1_ss, Y_2_ss, beta_1, beta_2, first_degree_size, first_degree_size)\n",
    "        sec_deg_nystroem_value = nystroem_mmd_from_weights(X_ss_merged,Y_ss_merged, X_ss_merged_weights, Y_ss_merged_weights)\n",
    "        iter_vals.append(sec_deg_nystroem_value)\n",
    "    vs.append(np.std(iter_vals))\n",
    "plt.plot(regular_scale, vs, label=\"second_degree_ss\", linestyle=\"dotted\")\n",
    "plt.xlabel(\"n\")\n",
    "plt.ylabel(\"Standard Deviation\")\n",
    "end = time.time()\n",
    "print(f\"second_degree_ss took {end - start}s\")\n",
    "#\n",
    "plt.legend(loc=\"upper right\")\n",
    "plt.savefig('mmd-estimators_mmdaw.pdf')\n",
    "plt.show()    \n"
   ]
  },
  {
   "cell_type": "markdown",
   "id": "1f5b8647",
   "metadata": {},
   "source": [
    "We now try to find one of these cases where mmd deviates in extreme amounts:"
   ]
  },
  {
   "cell_type": "code",
   "execution_count": 316,
   "id": "4258641d",
   "metadata": {},
   "outputs": [],
   "source": [
    "def intersection(*arrays):\n",
    "    result = np.intersect1d(arrays[0], arrays[1])\n",
    "    for arr in arrays[2:]:\n",
    "        result = np.intersect1d(result, arr)\n",
    "    return result\n",
    "def difference(array, *others):\n",
    "    for other in others:\n",
    "        array = np.setdiff1d(array, other)\n",
    "    return array"
   ]
  },
  {
   "cell_type": "code",
   "execution_count": 400,
   "id": "410ef5ef",
   "metadata": {},
   "outputs": [
    {
     "name": "stdout",
     "output_type": "stream",
     "text": [
      "5\n",
      "7\n",
      "0.003276204742432576\n"
     ]
    },
    {
     "data": {
      "text/plain": [
       "22"
      ]
     },
     "execution_count": 400,
     "metadata": {},
     "output_type": "execute_result"
    }
   ],
   "source": [
    "\n",
    "sample_size = 500 \n",
    "X = np.random.normal(0, 1, sample_size).reshape(-1,1)\n",
    "Y = np.random.normal(0, 1, sample_size).reshape(-1,1)\n",
    "first_degree_size = int(sample_size / 2)\n",
    "X_1 = X[:first_degree_size]\n",
    "X_2 = X[first_degree_size:]\n",
    "Y_1 = Y[:first_degree_size]\n",
    "Y_2 = Y[first_degree_size:]\n",
    "X_1_ss, alpha_1 , x_midx_1 = get_subsample_and_weights(X_1)\n",
    "X_2_ss, alpha_2 , x_midx_2 = get_subsample_and_weights(X_2)\n",
    "X_ss_merged, X_ss_merged_weights = get_merged_subsample_and_merged_weights(X_1_ss, X_2_ss, alpha_1, alpha_2, first_degree_size, first_degree_size)\n",
    "Y_1_ss, beta_1 , y_midx_1 = get_subsample_and_weights(Y_1)\n",
    "Y_2_ss, beta_2 , y_midx_2 = get_subsample_and_weights(Y_2)\n",
    "Y_ss_merged, Y_ss_merged_weights = get_merged_subsample_and_merged_weights(Y_1_ss, Y_2_ss, beta_1, beta_2, first_degree_size, first_degree_size)\n",
    "sec_deg_nystroem_value = nystroem_mmd_from_weights(X_ss_merged,Y_ss_merged, X_ss_merged_weights, Y_ss_merged_weights)\n",
    "print(len(X_ss_merged)-len(intersection(X_ss_merged, X)))\n",
    "print(len(Y_ss_merged)-len(intersection(Y_ss_merged, Y)))\n",
    "print(sec_deg_nystroem_value)\n",
    "len(X_ss_merged)"
   ]
  },
  {
   "cell_type": "code",
   "execution_count": null,
   "id": "014e2d73",
   "metadata": {},
   "outputs": [],
   "source": []
  },
  {
   "cell_type": "markdown",
   "id": "d84fb541",
   "metadata": {},
   "source": [
    "### There exists another approach which makes use of random Fourier features (rff) to estimate MMD. In this section, we will investigate, whether this approach can outperform Nyström-estimators in terms of efficiency."
   ]
  },
  {
   "cell_type": "code",
   "execution_count": 318,
   "id": "a4865751",
   "metadata": {},
   "outputs": [],
   "source": [
    "def sigma_from_gamma(gamma):\n",
    "    return np.sqrt(2 * gamma)\n",
    "\n",
    "\n",
    "def estimate_kernel(x, y, num_rff, gamma=1, seed=1234):\n",
    "    rng = np.random.default_rng(seed=seed)\n",
    "    w = rng.normal(scale=sigma_from_gamma(gamma), size=(num_rff,x.shape[1]))\n",
    "    X_samples = x @ w.T \n",
    "    Y_samples = y @ w.T\n",
    "    phi_x = 1 / np.sqrt(num_rff) * np.concatenate((np.cos(X_samples.T), np.sin(X_samples.T))).T\n",
    "    phi_y = 1 / np.sqrt(num_rff) * np.concatenate((np.cos(Y_samples.T), np.sin(Y_samples.T))).T\n",
    "    return phi_x @ phi_y.T\n"
   ]
  },
  {
   "cell_type": "code",
   "execution_count": 319,
   "id": "bbd18bea",
   "metadata": {},
   "outputs": [],
   "source": [
    "\n",
    "\n",
    "def get_Z(data, num_rff, gamma=1, seed=1234):\n",
    "    rng = np.random.default_rng(seed=seed)\n",
    "    w = rng.normal(scale=sigma_from_gamma(gamma),size=(num_rff,data.shape[1]))\n",
    "    template = data @ w.T\n",
    "    return  1 / np.sqrt(num_rff) * np.concatenate((np.cos(template.T),np.sin(template.T))).T"
   ]
  },
  {
   "cell_type": "markdown",
   "id": "f61d9c0f",
   "metadata": {},
   "source": [
    "First, check how good the kernel approximation is:"
   ]
  },
  {
   "cell_type": "code",
   "execution_count": 320,
   "id": "a9db343a",
   "metadata": {},
   "outputs": [
    {
     "name": "stdout",
     "output_type": "stream",
     "text": [
      "[[0.01061263]]\n",
      "[[1.32328653e-05]]\n"
     ]
    }
   ],
   "source": [
    "x = np.random.randn(1, 5)\n",
    "y = np.random.randn(1, 5)\n",
    "print(estimate_kernel(x, y, num_rff=5000))\n",
    "print(rbf_kernel(x, y,gamma=1))"
   ]
  },
  {
   "cell_type": "markdown",
   "id": "fb05a2c0",
   "metadata": {},
   "source": [
    "Next, the approximation of the Nyström-kernel-matrices is evaluated"
   ]
  },
  {
   "cell_type": "code",
   "execution_count": 321,
   "id": "785c3596",
   "metadata": {},
   "outputs": [],
   "source": [
    "n = 1000\n",
    "num_rff = 1000\n",
    "X = np.random.randn(n, 1)\n",
    "Y = np.random.randn(n, 1)\n",
    "\n",
    "m_idx = np.random.default_rng().integers(n, size=int(np.sqrt(n)))\n",
    "X_tilde = X[m_idx]\n",
    "Y_tilde = Y[m_idx]\n",
    "\n",
    "XX = rbf_kernel(X_tilde, X_tilde)\n",
    "\n",
    "Z_X = get_Z(data=X, num_rff=num_rff)\n",
    "Z_XX = Z_X @ Z_X.T"
   ]
  },
  {
   "cell_type": "markdown",
   "id": "90370d4e",
   "metadata": {},
   "source": [
    "Implement MMD using rffs:"
   ]
  },
  {
   "cell_type": "code",
   "execution_count": 322,
   "id": "8f7b093e",
   "metadata": {},
   "outputs": [],
   "source": [
    "def rff_mmd(X, Y, num_rff):    \n",
    "    n = len(X)\n",
    "    m = len(Y)\n",
    "    \n",
    "    Z_X = get_Z(data=X, num_rff=num_rff)\n",
    "    Z_Y = get_Z(data=Y, num_rff=num_rff)\n",
    "    \n",
    "    return 1 / (n ** 2) * np.ones((n, 1)).T @ Z_X @ Z_X.T @ np.ones((n, 1)) + 1 / (m ** 2) * np.ones((m, 1)).T @ Z_Y @ Z_Y.T @ np.ones((m, 1)) - 2 / (n * m) * np.ones((n, 1)).T @ Z_X @ Z_Y.T @ np.ones((m, 1))"
   ]
  },
  {
   "cell_type": "markdown",
   "id": "8555521e",
   "metadata": {},
   "source": [
    "#### Nyström-MMD (square-root) vs rff-MMD"
   ]
  },
  {
   "cell_type": "code",
   "execution_count": 323,
   "id": "afa9b85e",
   "metadata": {},
   "outputs": [
    {
     "name": "stdout",
     "output_type": "stream",
     "text": [
      "Nyström: 7.40044740532575e-05, runtime: 0.05861210823059082s\n",
      "rff: 6.0603488426624885e-05, runtime: 0.009107351303100586s\n"
     ]
    }
   ],
   "source": [
    "n = 10000\n",
    "X = np.random.randn(n, 1)\n",
    "Y = np.random.randn(n, 1)\n",
    "\n",
    "start = time.time()\n",
    "nystroem_result = nystroem_mmd(X, Y, m=int(np.sqrt(n)))\n",
    "end = time.time()\n",
    "nystroem_runtime = end - start\n",
    "\n",
    "start = time.time()\n",
    "rff_result = rff_mmd(X, Y, num_rff=10)[0][0]\n",
    "end = time.time()\n",
    "rff_runtime = end - start\n",
    "\n",
    "print(f\"Nyström: {nystroem_result}, runtime: {nystroem_runtime}s\")\n",
    "print(f\"rff: {rff_result}, runtime: {rff_runtime}s\")"
   ]
  },
  {
   "cell_type": "markdown",
   "id": "24f322c4",
   "metadata": {},
   "source": [
    "Robustness-tests:"
   ]
  },
  {
   "cell_type": "code",
   "execution_count": 324,
   "id": "98177bb8",
   "metadata": {},
   "outputs": [
    {
     "name": "stdout",
     "output_type": "stream",
     "text": [
      "Nyström: 0.43904498998341873, runtime: 0.03543901443481445s\n",
      "rff: 0.4233933547188903, runtime: 0.640122652053833s\n"
     ]
    }
   ],
   "source": [
    "n = 10000\n",
    "X = np.random.randn(n, 1)\n",
    "n_binom, p = 5, 0.4\n",
    "Y = np.random.binomial(n=n_binom, p=p, size=(n, 1))\n",
    "#Y = np.random.chisquare(df=2, size=(n, 1))\n",
    "\n",
    "start = time.time()\n",
    "nystroem_result = nystroem_mmd(X, Y, m=int(np.sqrt(n)))\n",
    "end = time.time()\n",
    "nystroem_runtime = end - start\n",
    "\n",
    "start = time.time()\n",
    "rff_result = rff_mmd(X, Y, num_rff=1000)[0][0]\n",
    "end = time.time()\n",
    "rff_runtime = end - start\n",
    "\n",
    "print(f\"Nyström: {nystroem_result}, runtime: {nystroem_runtime}s\")\n",
    "print(f\"rff: {rff_result}, runtime: {rff_runtime}s\")"
   ]
  },
  {
   "cell_type": "markdown",
   "id": "d937313c",
   "metadata": {},
   "source": [
    "#### Biased MMD vs streaming rff-MMD "
   ]
  },
  {
   "cell_type": "code",
   "execution_count": 325,
   "id": "b9791268",
   "metadata": {},
   "outputs": [],
   "source": [
    "def phi_hat(x, s):\n",
    "    rng = np.random.default_rng(seed=1234)\n",
    "    w = rng.normal(scale=sigma_from_gamma(gamma=1), size=s)\n",
    "    wx = w.T * x\n",
    "    return 1 / np.sqrt(s) * np.concatenate((np.cos(wx), np.sin(wx)))\n",
    "\n",
    "\n",
    "def streaming_rff_mmd(X, Y, num_rff):\n",
    "    n = len(X)\n",
    "    \n",
    "    X_total = np.zeros(2 * num_rff)\n",
    "    Y_total = np.zeros(2 * num_rff)\n",
    "    for x, y in zip(X, Y):\n",
    "        X_total += phi_hat(x, num_rff)\n",
    "        Y_total += phi_hat(y, num_rff)\n",
    "    \n",
    "    return 1 / (n ** 2) * np.linalg.norm(X_total - Y_total) ** 2\n",
    "    \n",
    "    #return 1 / (len(Z_X) * len(Z_Y)) * np.linalg.norm(sum(Z_X) - sum(Z_Y))"
   ]
  },
  {
   "cell_type": "code",
   "execution_count": 326,
   "id": "6b2a3edb",
   "metadata": {},
   "outputs": [
    {
     "data": {
      "text/plain": [
       "0.001795193922140189"
      ]
     },
     "execution_count": 326,
     "metadata": {},
     "output_type": "execute_result"
    }
   ],
   "source": [
    "n = 1000\n",
    "X = np.random.randn(n, 1)\n",
    "Y = np.random.randn(n, 1)\n",
    "streaming_rff_mmd(X, Y, 100)"
   ]
  },
  {
   "cell_type": "code",
   "execution_count": 327,
   "id": "e003bad0",
   "metadata": {},
   "outputs": [
    {
     "name": "stdout",
     "output_type": "stream",
     "text": [
      "Biased: 0.00011465677614486136, runtime: 11.553032636642456s\n",
      "rff: 0.00010823025741113874, runtime: 1.2919890880584717s\n"
     ]
    }
   ],
   "source": [
    "n = 12000\n",
    "X = np.random.randn(n, 1)\n",
    "Y = np.random.randn(n, 1)\n",
    "#n_binom, p = 5, 0.4\n",
    "#Y = np.random.binomial(n=n_binom, p=p, size=(n, 1))\n",
    "#Y = np.random.chisquare(df=2, size=(n, 1))\n",
    "\n",
    "start = time.time()\n",
    "biased_result = biased_mmd(X, Y)\n",
    "end = time.time()\n",
    "biased_runtime = end - start\n",
    "\n",
    "start = time.time()\n",
    "streaming_rff_result = streaming_rff_mmd(X, Y, num_rff=500)\n",
    "end = time.time()\n",
    "streaming_rff_runtime = end - start\n",
    "\n",
    "print(f\"Biased: {biased_result}, runtime: {biased_runtime}s\")\n",
    "print(f\"rff: {streaming_rff_result}, runtime: {streaming_rff_runtime}s\")"
   ]
  }
 ],
 "metadata": {
  "kernelspec": {
   "display_name": "Python 3 (ipykernel)",
   "language": "python",
   "name": "python3"
  },
  "language_info": {
   "codemirror_mode": {
    "name": "ipython",
    "version": 3
   },
   "file_extension": ".py",
   "mimetype": "text/x-python",
   "name": "python",
   "nbconvert_exporter": "python",
   "pygments_lexer": "ipython3",
   "version": "3.10.10"
  },
  "vscode": {
   "interpreter": {
    "hash": "916dbcbb3f70747c44a77c7bcd40155683ae19c65e1c03b4aa3499c5328201f1"
   }
  }
 },
 "nbformat": 4,
 "nbformat_minor": 5
}
