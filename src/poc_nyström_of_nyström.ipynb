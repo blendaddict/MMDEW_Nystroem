{
 "cells": [
  {
   "cell_type": "code",
   "execution_count": 1,
   "id": "1802fcbb",
   "metadata": {},
   "outputs": [],
   "source": [
    "import numpy as np\n",
    "from mmdew import mmd\n",
    "from sklearn.metrics.pairwise import rbf_kernel as k"
   ]
  },
  {
   "cell_type": "code",
   "execution_count": 2,
   "id": "056862d1",
   "metadata": {},
   "outputs": [],
   "source": [
    "def inv(A, l=1e-8):\n",
    "    return np.linalg.inv(A + l * np.identity(len(A)))"
   ]
  },
  {
   "cell_type": "code",
   "execution_count": 3,
   "id": "086ba71d",
   "metadata": {},
   "outputs": [],
   "source": [
    "g = 1 # gamma\n",
    "n = 64 # full sample size\n",
    "n_p = 8 # size of subsample 1\n",
    "n_pp = 3 # size of subsample 2"
   ]
  },
  {
   "cell_type": "code",
   "execution_count": 4,
   "id": "8a1505c2",
   "metadata": {},
   "outputs": [],
   "source": [
    "rng = np.random.default_rng(1234)"
   ]
  },
  {
   "cell_type": "code",
   "execution_count": 5,
   "id": "dc5d1799",
   "metadata": {},
   "outputs": [],
   "source": [
    "X = rng.normal(size=(n,1))\n",
    "Y = rng.normal(size=(n,1))\n",
    "# => MMD(X,Y) = 0"
   ]
  },
  {
   "cell_type": "code",
   "execution_count": 6,
   "id": "ab479e66",
   "metadata": {},
   "outputs": [
    {
     "name": "stdout",
     "output_type": "stream",
     "text": [
      "0.027183315073836756\n"
     ]
    }
   ],
   "source": [
    "mmd_ground_truth = mmd.MMD(biased=True,gamma=g).mmd(X,Y)\n",
    "print(mmd_ground_truth)"
   ]
  },
  {
   "cell_type": "markdown",
   "id": "3ac3420d",
   "metadata": {},
   "source": [
    "## Subsample 1"
   ]
  },
  {
   "cell_type": "code",
   "execution_count": 7,
   "id": "05c55f00",
   "metadata": {},
   "outputs": [],
   "source": [
    "idx_p = rng.choice(np.arange(n), size=n_p, replace=True)"
   ]
  },
  {
   "cell_type": "code",
   "execution_count": 8,
   "id": "682a0a3f",
   "metadata": {},
   "outputs": [],
   "source": [
    "one_n = np.ones((n,1))\n",
    "\n",
    "# for X\n",
    "kX_mm = k(X[idx_p],gamma=g)\n",
    "kX_mn = k(X[idx_p],X,gamma=g)\n",
    "alpha_X = 1/n * inv(kX_mm) @ kX_mn @ np.ones((n,1))\n",
    "\n",
    "# for Y\n",
    "kY_mm = k(Y[idx_p],gamma=g)\n",
    "kY_mn = k(Y[idx_p],Y,gamma=g)\n",
    "alpha_Y = 1/n * inv(kY_mm) @ kY_mn @ np.ones((n,1))"
   ]
  },
  {
   "cell_type": "code",
   "execution_count": 9,
   "id": "c7bf0e8f",
   "metadata": {},
   "outputs": [
    {
     "name": "stdout",
     "output_type": "stream",
     "text": [
      "n:\t\t\t 64\n",
      "Nyström sample size:\t 8\n",
      "Abs. error:\t\t 0.004425301593830699\n"
     ]
    }
   ],
   "source": [
    "A = alpha_X.T @ kX_mm @ alpha_X\n",
    "B = alpha_Y.T @ kY_mm @ alpha_Y\n",
    "C = alpha_X.T @ k(X[idx_p],Y[idx_p],gamma=g) @ alpha_Y\n",
    "mmd_nys_1 = (A + B - 2 * C)[0,0]\n",
    "print(\"n:\\t\\t\\t\", n)\n",
    "print(\"Nyström sample size:\\t\", n_p)\n",
    "print(\"Abs. error:\\t\\t\", abs(mmd_nys_1 - mmd_ground_truth))"
   ]
  },
  {
   "cell_type": "markdown",
   "id": "e7835d8a",
   "metadata": {},
   "source": [
    "## Subsample 2"
   ]
  },
  {
   "cell_type": "code",
   "execution_count": 10,
   "id": "55b1fd2c",
   "metadata": {},
   "outputs": [],
   "source": [
    "idx_pp = rng.choice(idx_p, size=n_pp, replace=True)"
   ]
  },
  {
   "cell_type": "code",
   "execution_count": 11,
   "id": "f5e90e66",
   "metadata": {},
   "outputs": [],
   "source": [
    "# for X\n",
    "kX_mm = k(X[idx_pp],gamma=g)\n",
    "kX_mn = k(X[idx_pp],X[idx_p],gamma=g)\n",
    "alpha_X_pp = inv(kX_mm) @ kX_mn @ alpha_X # hier jetzt mit dem schon berechneten Gewichtsvektor (=\"zeta\")\n",
    "\n",
    "# for Y\n",
    "kY_mm = k(Y[idx_pp],gamma=g)\n",
    "kY_mn = k(Y[idx_pp],Y[idx_p],gamma=g)\n",
    "alpha_Y_pp = inv(kY_mm) @ kY_mn @ alpha_Y"
   ]
  },
  {
   "cell_type": "code",
   "execution_count": 12,
   "id": "89da914c",
   "metadata": {},
   "outputs": [
    {
     "name": "stdout",
     "output_type": "stream",
     "text": [
      "n:\t\t\t 64\n",
      "Nyström sample size:\t\t 8\n",
      "Nyström sample sample size:\t 3\n",
      "Abs. error ground truth:\t 0.24699117076919908\n",
      "Abs. error to sample 1:\t\t 0.24256586917536838\n"
     ]
    }
   ],
   "source": [
    "A = alpha_X_pp.T @ kX_mm @ alpha_X_pp\n",
    "B = alpha_Y_pp.T @ kY_mm @ alpha_Y_pp\n",
    "C = alpha_X_pp.T @ k(X[idx_pp],Y[idx_pp],gamma=g) @ alpha_Y_pp\n",
    "mmd_nys_2 = (A + B - 2 * C)[0,0]\n",
    "print(\"n:\\t\\t\\t\", n)\n",
    "print(\"Nyström sample size:\\t\\t\", n_p)\n",
    "print(\"Nyström sample sample size:\\t\", n_pp)\n",
    "print(\"Abs. error ground truth:\\t\", abs(mmd_nys_2 - mmd_ground_truth))\n",
    "print(\"Abs. error to sample 1:\\t\\t\", abs(mmd_nys_2 - mmd_nys_1))"
   ]
  },
  {
   "cell_type": "code",
   "execution_count": null,
   "id": "89f81e1e",
   "metadata": {},
   "outputs": [],
   "source": []
  },
  {
   "cell_type": "code",
   "execution_count": null,
   "id": "00298832",
   "metadata": {},
   "outputs": [],
   "source": []
  }
 ],
 "metadata": {
  "kernelspec": {
   "display_name": "Python 3 (ipykernel)",
   "language": "python",
   "name": "python3"
  },
  "language_info": {
   "codemirror_mode": {
    "name": "ipython",
    "version": 3
   },
   "file_extension": ".py",
   "mimetype": "text/x-python",
   "name": "python",
   "nbconvert_exporter": "python",
   "pygments_lexer": "ipython3",
   "version": "3.8.15"
  }
 },
 "nbformat": 4,
 "nbformat_minor": 5
}
