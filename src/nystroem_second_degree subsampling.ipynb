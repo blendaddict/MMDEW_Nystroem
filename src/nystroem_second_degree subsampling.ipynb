{
 "cells": [
  {
   "cell_type": "markdown",
   "metadata": {
    "collapsed": false
   },
   "source": [
    "## Let's try to compare the mmd of the 2 distributions to one nyström subsampled bucked for X and one not subsampled bucket for Y"
   ]
  },
  {
   "cell_type": "code",
   "execution_count": 1,
   "metadata": {
    "ExecuteTime": {
     "end_time": "2023-08-19T22:32:39.476249346Z",
     "start_time": "2023-08-19T22:32:39.446425801Z"
    },
    "collapsed": false
   },
   "outputs": [
    {
     "name": "stdout",
     "output_type": "stream",
     "text": [
      "real mmd:0.12010913028392434\n",
      "nyström mmd: 0.6016100063216594\n"
     ]
    }
   ],
   "source": [
    "from mmdew.bucket_stream2 import BucketStream\n",
    "from mmdew.bucket_stream_old import BucketStream as OldBucketStream\n",
    "import numpy as np\n",
    "import pandas as pd\n",
    "from mmdew.mmd import MMD\n",
    "mymmd = MMD(biased=True, gamma=1)\n",
    "from sklearn import metrics\n",
    "import numpy.linalg as la\n",
    "np.random.seed(40)\n",
    "X = np.random.normal(0, 1, 32)\n",
    "Y = np.random.normal(1, 2, 32)\n",
    "\n",
    "\n",
    "m_idx = np.random.default_rng().integers(32, size=5)\n",
    "subsample = X[m_idx]\n",
    "start_weights = ((1/32) * la.pinv(metrics.pairwise.linear_kernel(subsample.reshape(-1,1),subsample.reshape(-1,1)))\n",
    "                 @ metrics.pairwise.linear_kernel(subsample.reshape(-1,1),X.reshape(-1,1)) @ np.ones(32))\n",
    "\n",
    "\n",
    "\n",
    "end_weights = np.ones((32,1))/32\n",
    "addend_1 = start_weights.T @ metrics.pairwise.linear_kernel(subsample.reshape(-1,1), subsample.reshape(-1,1)) @ start_weights\n",
    "addend_2 = end_weights.T @ metrics.pairwise.linear_kernel(Y.reshape(-1,1), Y.reshape(-1,1)) @ end_weights\n",
    "addend_3 = start_weights.T @ metrics.pairwise.linear_kernel(subsample.reshape(-1,1), Y.reshape(-1,1)) @ end_weights\n",
    "print(f\"real mmd:{mymmd.mmd(X.reshape(-1,1),Y.reshape(-1,1))}\")\n",
    "print(f\"nyström mmd: {(addend_1 + addend_2 - (2 * addend_3))[0][0]}\")\n",
    "\n"
   ]
  },
  {
   "cell_type": "markdown",
   "metadata": {
    "collapsed": false
   },
   "source": [
    "## MMD is identical\n",
    "now let's try to create 2 subsampled buckets from X, merge them into a third bucket with the elements: new_subsample and the weights: new_weights, then check MMD"
   ]
  },
  {
   "cell_type": "code",
   "execution_count": 2,
   "metadata": {
    "ExecuteTime": {
     "end_time": "2023-08-19T22:32:39.538214336Z",
     "start_time": "2023-08-19T22:32:39.457837852Z"
    },
    "collapsed": false
   },
   "outputs": [
    {
     "name": "stdout",
     "output_type": "stream",
     "text": [
      "real mmd:0.17435957396275914\n",
      "nyström mmd of bucket, made of subsampled buckets: 2.3226094951499947\n"
     ]
    }
   ],
   "source": [
    "import math\n",
    "\n",
    "X_1 = np.random.normal(0, 1, 32)\n",
    "X_2 = np.random.normal(0, 1, 32)\n",
    "Y = np.random.normal(1, 2, 64)\n",
    "\n",
    "\n",
    "m_idx1 = np.random.default_rng().integers(32, size=5)\n",
    "subsample1 = X_1[m_idx1]\n",
    "m_idx2 = np.random.default_rng().integers(32, size=5)\n",
    "subsample2 = X_2[m_idx1]\n",
    "bucket1_weights = ((1/32) * la.pinv(metrics.pairwise.linear_kernel(subsample1.reshape(-1,1),subsample1.reshape(-1,1)))\n",
    "                 @ metrics.pairwise.linear_kernel(subsample1.reshape(-1,1),X_1.reshape(-1,1)) @ np.ones(32))\n",
    "bucket2_weights = ((1/32) * la.pinv(metrics.pairwise.linear_kernel(subsample2.reshape(-1,1),subsample2.reshape(-1,1)))\n",
    "                 @ metrics.pairwise.linear_kernel(subsample2.reshape(-1,1),X_2.reshape(-1,1)) @ np.ones(32))\n",
    "\n",
    "#getting new elements\n",
    "joined_subsamples = np.concatenate((subsample1, subsample2))\n",
    "joined_uncompressed_capacity = 64\n",
    "m = round(math.sqrt(64))\n",
    "m_idx_new = np.random.default_rng().integers(len(joined_subsamples), size=m)\n",
    "new_subsample = joined_subsamples[m_idx_new]\n",
    "\n",
    "#getting new weights\n",
    "new_subsample = new_subsample.reshape(-1,1)\n",
    "joined_subsamples = joined_subsamples.reshape(-1,1)\n",
    "joined_weights = np.concatenate((bucket1_weights,bucket2_weights))\n",
    "K_z = metrics.pairwise.linear_kernel(new_subsample, joined_subsamples)\n",
    "K_m_inv = la.pinv(metrics.pairwise.linear_kernel(new_subsample, new_subsample))\n",
    "new_weights = .5 * K_m_inv @ K_z @ joined_weights\n",
    "\n",
    "#weights for Y\n",
    "end_weights = np.ones((64,1))/64\n",
    "\n",
    "addend_1 = new_weights.T @ metrics.pairwise.linear_kernel(new_subsample.reshape(-1,1), new_subsample.reshape(-1,1)) @ new_weights\n",
    "addend_2 = end_weights.T @ metrics.pairwise.linear_kernel(Y.reshape(-1,1), Y.reshape(-1,1)) @ end_weights\n",
    "addend_3 = new_weights.T @ metrics.pairwise.linear_kernel(new_subsample.reshape(-1,1), Y.reshape(-1,1)) @ end_weights\n",
    "\n",
    "print(f\"real mmd:{mymmd.mmd(np.concatenate((X_1,X_2)).reshape(-1,1),Y.reshape(-1,1))}\")\n",
    "print(f\"nyström mmd of bucket, made of subsampled buckets: {(addend_1 + addend_2 - (2 * addend_3))[0][0]}\")\n",
    "breakpoint()\n",
    "\n",
    "\n"
   ]
  },
  {
   "cell_type": "markdown",
   "metadata": {
    "collapsed": false
   },
   "source": [
    "## MMD is equal \n",
    "why does this not work in bucketstream2.py ? "
   ]
  },
  {
   "cell_type": "code",
   "execution_count": 3,
   "metadata": {
    "ExecuteTime": {
     "end_time": "2023-08-19T22:32:49.085837712Z",
     "start_time": "2023-08-19T22:32:39.507358061Z"
    },
    "collapsed": false
   },
   "outputs": [
    {
     "name": "stdout",
     "output_type": "stream",
     "text": [
      "error for exponent 1 is 0.0\n",
      "error for exponent 2 is 7.771561172376095e-17\n",
      "error for exponent 3 is 8.881784197001253e-17\n",
      "error for exponent 4 is 9.992007221626409e-17\n",
      "error for exponent 5 is 6.661338147750939e-17\n",
      "error for exponent 6 is 4.9960036108132046e-17\n",
      "error for exponent 7 is 0.005240490351179716\n",
      "error for exponent 8 is 0.013339881495040817\n",
      "error for exponent 9 is 251.4223172581125\n",
      "error for exponent 10 is 2305.0232151997643\n"
     ]
    }
   ],
   "source": [
    "from mmdew.bucket_stream2 import BucketStream\n",
    "from mmdew.bucket_stream_old import BucketStream as OldBucketStream\n",
    "import numpy as np\n",
    "import pandas as pd\n",
    "from mmdew.mmd import MMD\n",
    "mymmd = MMD(biased=True, gamma=1)\n",
    "if __name__ == \"__main__\":\n",
    "    bs_ss = BucketStream(gamma=1)\n",
    "    bs_no_ss = BucketStream(gamma=1, apply_subsampling=False)\n",
    "    bs_old = OldBucketStream(gamma=1)\n",
    "\n",
    "    errors = []\n",
    "\n",
    "    for exponent in range(1, 11):\n",
    "        iter_errors = []\n",
    "        for iteration in range(1,11):\n",
    "\n",
    "            bs_ss = BucketStream(gamma=1)\n",
    "            bs_no_ss = BucketStream(gamma=1, apply_subsampling=False)\n",
    "            bs_old = OldBucketStream(gamma=1)\n",
    "            limit = 2 ** exponent\n",
    "            X = np.random.normal(0, 1, limit)\n",
    "            Y = np.random.normal(1, 2, limit - 1)\n",
    "           \n",
    "            for i in range(0, limit):\n",
    "                bs_ss.insert_no_cut(X[i])\n",
    "             \n",
    "            for i in range(0, limit - 1):\n",
    "                bs_ss.insert_no_cut(Y[i])\n",
    "      \n",
    "            ss_mmd = bs_ss.mmd(1)[0]\n",
    "            real_mmd = mymmd.mmd(X.reshape(-1, 1),Y.reshape(-1, 1))\n",
    "            #print(f\"SS:    exponent: {exponent} bucket count: {len(bs_ss.buckets)} mmd value={ss_mmd}\")\n",
    "         \n",
    "            #print(f\"real MMD: {real_mmd}\")\n",
    "            iter_errors = np.concatenate(( iter_errors, [(abs(real_mmd - ss_mmd))]))\n",
    "            #if iteration == 1 and exponent == 5 :\n",
    "            #    breakpoint()\n",
    "        errors = np.concatenate((errors, [np.array(iter_errors).mean()] ))\n",
    "\n",
    "    for i in range(0,10):\n",
    "        print(f\"error for exponent {i+1} is {errors[i]}\")\n"
   ]
  },
  {
   "cell_type": "markdown",
   "metadata": {
    "collapsed": false
   },
   "source": [
    "# Exponent 6 is the first time that we subsample with depth > 1 \n",
    "But we just showed that this isn't the problem. Let's have a deeper look"
   ]
  },
  {
   "cell_type": "code",
   "execution_count": 4,
   "metadata": {
    "ExecuteTime": {
     "end_time": "2023-08-19T22:32:49.145816416Z",
     "start_time": "2023-08-19T22:32:49.070982463Z"
    },
    "collapsed": false
   },
   "outputs": [
    {
     "name": "stdout",
     "output_type": "stream",
     "text": [
      "SS:    exponent: 6 bucket count: 7 mmd value=0.06432393117570456\n",
      "real MMD: 0.06432393117570456\n",
      "\n",
      "Element count: 64\n",
      "Elems:\t[[-0.61609615]\n",
      " [-0.58468393]\n",
      " [-0.60527542]\n",
      " [ 1.30946385]\n",
      " [ 0.46623726]\n",
      " [-0.11185297]\n",
      " [-0.38025551]\n",
      " [ 1.47894698]\n",
      " [ 2.41706765]\n",
      " [ 0.80505359]\n",
      " [-1.40863739]\n",
      " [ 1.61130076]\n",
      " [-0.04958227]\n",
      " [ 0.02305769]\n",
      " [-0.88981174]\n",
      " [ 0.98238603]\n",
      " [ 0.59779927]\n",
      " [ 1.56045287]\n",
      " [ 0.27697897]\n",
      " [ 1.24266373]\n",
      " [ 0.76514166]\n",
      " [ 1.21323772]\n",
      " [ 0.23015776]\n",
      " [-1.26604555]\n",
      " [ 0.71862343]\n",
      " [-0.03637291]\n",
      " [ 0.77136532]\n",
      " [-2.95916552]\n",
      " [ 0.79848704]\n",
      " [-0.1551932 ]\n",
      " [-0.64187431]\n",
      " [ 1.98138134]\n",
      " [-0.50221412]\n",
      " [-0.90660695]\n",
      " [-2.04678498]\n",
      " [-1.30816367]\n",
      " [ 0.33039469]\n",
      " [-1.50844353]\n",
      " [-0.06454703]\n",
      " [-0.27196028]\n",
      " [-0.97811219]\n",
      " [ 0.46704964]\n",
      " [ 0.46169455]\n",
      " [-1.8554604 ]\n",
      " [ 0.26275537]\n",
      " [-0.69782226]\n",
      " [ 0.00987967]\n",
      " [-1.56922827]\n",
      " [-0.48640551]\n",
      " [-0.3436518 ]\n",
      " [ 0.09818757]\n",
      " [-0.85084607]\n",
      " [ 1.62545259]\n",
      " [ 0.3532581 ]\n",
      " [ 0.25218575]\n",
      " [-0.7313713 ]\n",
      " [ 0.90286919]\n",
      " [-1.20827401]\n",
      " [ 0.14613888]\n",
      " [ 0.55533531]\n",
      " [ 2.23955299]\n",
      " [-0.06766837]\n",
      " [ 0.0894889 ]\n",
      " [ 0.97304319]]\n",
      "Weights:\t[[0.015625]\n",
      " [0.015625]\n",
      " [0.015625]\n",
      " [0.015625]\n",
      " [0.015625]\n",
      " [0.015625]\n",
      " [0.015625]\n",
      " [0.015625]\n",
      " [0.015625]\n",
      " [0.015625]\n",
      " [0.015625]\n",
      " [0.015625]\n",
      " [0.015625]\n",
      " [0.015625]\n",
      " [0.015625]\n",
      " [0.015625]\n",
      " [0.015625]\n",
      " [0.015625]\n",
      " [0.015625]\n",
      " [0.015625]\n",
      " [0.015625]\n",
      " [0.015625]\n",
      " [0.015625]\n",
      " [0.015625]\n",
      " [0.015625]\n",
      " [0.015625]\n",
      " [0.015625]\n",
      " [0.015625]\n",
      " [0.015625]\n",
      " [0.015625]\n",
      " [0.015625]\n",
      " [0.015625]\n",
      " [0.015625]\n",
      " [0.015625]\n",
      " [0.015625]\n",
      " [0.015625]\n",
      " [0.015625]\n",
      " [0.015625]\n",
      " [0.015625]\n",
      " [0.015625]\n",
      " [0.015625]\n",
      " [0.015625]\n",
      " [0.015625]\n",
      " [0.015625]\n",
      " [0.015625]\n",
      " [0.015625]\n",
      " [0.015625]\n",
      " [0.015625]\n",
      " [0.015625]\n",
      " [0.015625]\n",
      " [0.015625]\n",
      " [0.015625]\n",
      " [0.015625]\n",
      " [0.015625]\n",
      " [0.015625]\n",
      " [0.015625]\n",
      " [0.015625]\n",
      " [0.015625]\n",
      " [0.015625]\n",
      " [0.015625]\n",
      " [0.015625]\n",
      " [0.015625]\n",
      " [0.015625]\n",
      " [0.015625]]\n",
      "Uncomp_Cap:\t64\n",
      "\n",
      "\n",
      "Element count: 32\n",
      "Elems:\t[[-5.16731105]\n",
      " [ 1.442592  ]\n",
      " [ 0.80318161]\n",
      " [-1.25148157]\n",
      " [-0.55198791]\n",
      " [ 1.65023783]\n",
      " [-0.30660441]\n",
      " [ 0.17033952]\n",
      " [-1.49212417]\n",
      " [ 1.50283112]\n",
      " [ 0.27585801]\n",
      " [ 0.44793327]\n",
      " [-3.7125656 ]\n",
      " [ 3.2050477 ]\n",
      " [ 0.61235383]\n",
      " [-1.54317991]\n",
      " [ 1.93071166]\n",
      " [ 0.19039224]\n",
      " [ 0.04042258]\n",
      " [-0.75543736]\n",
      " [ 0.57448113]\n",
      " [-1.87711222]\n",
      " [ 3.33781755]\n",
      " [-0.09517198]\n",
      " [ 0.77438785]\n",
      " [ 1.75687101]\n",
      " [ 1.56397544]\n",
      " [-0.7841299 ]\n",
      " [ 2.07760705]\n",
      " [-0.48309547]\n",
      " [ 1.24717537]\n",
      " [ 1.40898095]]\n",
      "Weights:\t[[0.03125]\n",
      " [0.03125]\n",
      " [0.03125]\n",
      " [0.03125]\n",
      " [0.03125]\n",
      " [0.03125]\n",
      " [0.03125]\n",
      " [0.03125]\n",
      " [0.03125]\n",
      " [0.03125]\n",
      " [0.03125]\n",
      " [0.03125]\n",
      " [0.03125]\n",
      " [0.03125]\n",
      " [0.03125]\n",
      " [0.03125]\n",
      " [0.03125]\n",
      " [0.03125]\n",
      " [0.03125]\n",
      " [0.03125]\n",
      " [0.03125]\n",
      " [0.03125]\n",
      " [0.03125]\n",
      " [0.03125]\n",
      " [0.03125]\n",
      " [0.03125]\n",
      " [0.03125]\n",
      " [0.03125]\n",
      " [0.03125]\n",
      " [0.03125]\n",
      " [0.03125]\n",
      " [0.03125]]\n",
      "Uncomp_Cap:\t32\n",
      "\n",
      "\n",
      "Element count: 16\n",
      "Elems:\t[[ 3.96456395]\n",
      " [-3.91575867]\n",
      " [ 5.60934544]\n",
      " [-0.15462216]\n",
      " [ 4.089723  ]\n",
      " [-2.63150713]\n",
      " [ 0.51620667]\n",
      " [ 0.76058081]\n",
      " [ 0.70668094]\n",
      " [ 0.30310334]\n",
      " [ 1.38158431]\n",
      " [-1.10191109]\n",
      " [-0.56608032]\n",
      " [-0.83511113]\n",
      " [ 2.38796535]\n",
      " [ 1.58207457]]\n",
      "Weights:\t[[0.0625]\n",
      " [0.0625]\n",
      " [0.0625]\n",
      " [0.0625]\n",
      " [0.0625]\n",
      " [0.0625]\n",
      " [0.0625]\n",
      " [0.0625]\n",
      " [0.0625]\n",
      " [0.0625]\n",
      " [0.0625]\n",
      " [0.0625]\n",
      " [0.0625]\n",
      " [0.0625]\n",
      " [0.0625]\n",
      " [0.0625]]\n",
      "Uncomp_Cap:\t16\n",
      "\n",
      "\n",
      "Element count: 8\n",
      "Elems:\t[[-0.09400089]\n",
      " [-0.68859287]\n",
      " [ 3.60973353]\n",
      " [-0.74540272]\n",
      " [ 5.15925661]\n",
      " [ 2.14174735]\n",
      " [-2.01334251]\n",
      " [ 0.01236813]]\n",
      "Weights:\t[[0.125]\n",
      " [0.125]\n",
      " [0.125]\n",
      " [0.125]\n",
      " [0.125]\n",
      " [0.125]\n",
      " [0.125]\n",
      " [0.125]]\n",
      "Uncomp_Cap:\t8\n",
      "\n",
      "\n",
      "Element count: 4\n",
      "Elems:\t[[-2.88840637]\n",
      " [-0.22055588]\n",
      " [ 2.1954517 ]\n",
      " [ 3.17952565]]\n",
      "Weights:\t[[0.25]\n",
      " [0.25]\n",
      " [0.25]\n",
      " [0.25]]\n",
      "Uncomp_Cap:\t4\n",
      "\n",
      "\n",
      "Element count: 2\n",
      "Elems:\t[[1.90002629]\n",
      " [1.13966656]]\n",
      "Weights:\t[[0.5]\n",
      " [0.5]]\n",
      "Uncomp_Cap:\t2\n",
      "\n",
      "\n",
      "Element count: 1\n",
      "Elems:\t[[-3.68075336]]\n",
      "Weights:\t[[1]]\n",
      "Uncomp_Cap:\t1\n",
      "\n",
      "\n"
     ]
    }
   ],
   "source": [
    "bs_ss = BucketStream(gamma=1)\n",
    "exponent = 6\n",
    "limit = 2 ** exponent\n",
    "X = np.random.normal(0, 1, limit)\n",
    "Y = np.random.normal(1, 2, limit - 1)\n",
    "\n",
    "for i in range(0, limit):\n",
    "    bs_ss.insert_no_cut(X[i])\n",
    " \n",
    "for i in range(0, limit - 1):\n",
    "    bs_ss.insert_no_cut(Y[i])\n",
    "\n",
    "ss_mmd = bs_ss.mmd(1)[0]\n",
    "real_mmd = mymmd.mmd(X.reshape(-1, 1),Y.reshape(-1, 1))\n",
    "print(f\"SS:    exponent: {exponent} bucket count: {len(bs_ss.buckets)} mmd value={ss_mmd}\")\n",
    "print(f\"real MMD: {real_mmd}\\n\")\n",
    "for bucket in bs_ss.buckets:\n",
    "    print(f\"Element count: {len(bucket.elements)}\" )\n",
    "    print(bucket)\n",
    "    print(\"\\n\")\n",
    "\n"
   ]
  },
  {
   "cell_type": "markdown",
   "metadata": {
    "collapsed": false
   },
   "source": [
    "## This does not look to bad. (Except for the mmd disparity of course)\n",
    "The amount of subsamples is right. the weight count matches...\n",
    "Let's try to reconstruct the mmd calc"
   ]
  },
  {
   "cell_type": "code",
   "execution_count": 5,
   "metadata": {
    "ExecuteTime": {
     "end_time": "2023-08-19T22:32:49.146747475Z",
     "start_time": "2023-08-19T22:32:49.112597891Z"
    },
    "collapsed": false
   },
   "outputs": [
    {
     "name": "stdout",
     "output_type": "stream",
     "text": [
      "64\n",
      "64\n",
      "63\n",
      "63\n"
     ]
    }
   ],
   "source": [
    "start = bs_ss.buckets[:1]\n",
    "end = bs_ss.buckets[1:]\n",
    "start_elements = start[0].elements\n",
    "start_weights = start[0].weights * len(start[0].weights)\n",
    "end_elements = end[0].elements\n",
    "end_weights = end[0].weights * len(end[0].weights)\n",
    "start_uncompressed_capacity = start[0].uncompressed_capacity\n",
    "end_uncompressed_capacity = end[0].uncompressed_capacity\n",
    "for bucket in start[1:]:\n",
    "    #breakpoint()\n",
    "    start_elements = np.concatenate((start_elements, bucket.elements))\n",
    "    start_weights = np.concatenate((start_weights, bucket.weights * len(bucket.weights)))\n",
    "    start_uncompressed_capacity += bucket.uncompressed_capacity\n",
    "for bucket in end[1:]:\n",
    "    #breakpoint()\n",
    "    end_elements = np.concatenate((end_elements, bucket.elements))\n",
    "    #breakpoint()\n",
    "    end_weights = np.concatenate((end_weights, bucket.weights * len(bucket.weights)))\n",
    "    end_uncompressed_capacity += bucket.uncompressed_capacity\n",
    "start_capacity = len(start_elements)\n",
    "end_capacity = len(end_elements)\n",
    "print(start_uncompressed_capacity)\n",
    "print(start_capacity)\n",
    "print(end_uncompressed_capacity)\n",
    "print(end_capacity)"
   ]
  },
  {
   "cell_type": "markdown",
   "metadata": {
    "collapsed": false
   },
   "source": [
    "## Yes, everything seems to be alright\n",
    "37 is exactly the amount of samples that should be right of the split because of: 31 elements from the buckets without subsampling and 5 (+1 for bad rounding) from the subsampled u-cap 32 bucket\n",
    "## Let's look deeper..."
   ]
  },
  {
   "cell_type": "code",
   "execution_count": 6,
   "metadata": {
    "ExecuteTime": {
     "end_time": "2023-08-19T22:32:49.147333664Z",
     "start_time": "2023-08-19T22:32:49.116892247Z"
    },
    "collapsed": false
   },
   "outputs": [
    {
     "name": "stdout",
     "output_type": "stream",
     "text": [
      "Start Weights\n",
      "[[0.015625]\n",
      " [0.015625]\n",
      " [0.015625]\n",
      " [0.015625]\n",
      " [0.015625]\n",
      " [0.015625]\n",
      " [0.015625]\n",
      " [0.015625]\n",
      " [0.015625]\n",
      " [0.015625]\n",
      " [0.015625]\n",
      " [0.015625]\n",
      " [0.015625]\n",
      " [0.015625]\n",
      " [0.015625]\n",
      " [0.015625]\n",
      " [0.015625]\n",
      " [0.015625]\n",
      " [0.015625]\n",
      " [0.015625]\n",
      " [0.015625]\n",
      " [0.015625]\n",
      " [0.015625]\n",
      " [0.015625]\n",
      " [0.015625]\n",
      " [0.015625]\n",
      " [0.015625]\n",
      " [0.015625]\n",
      " [0.015625]\n",
      " [0.015625]\n",
      " [0.015625]\n",
      " [0.015625]\n",
      " [0.015625]\n",
      " [0.015625]\n",
      " [0.015625]\n",
      " [0.015625]\n",
      " [0.015625]\n",
      " [0.015625]\n",
      " [0.015625]\n",
      " [0.015625]\n",
      " [0.015625]\n",
      " [0.015625]\n",
      " [0.015625]\n",
      " [0.015625]\n",
      " [0.015625]\n",
      " [0.015625]\n",
      " [0.015625]\n",
      " [0.015625]\n",
      " [0.015625]\n",
      " [0.015625]\n",
      " [0.015625]\n",
      " [0.015625]\n",
      " [0.015625]\n",
      " [0.015625]\n",
      " [0.015625]\n",
      " [0.015625]\n",
      " [0.015625]\n",
      " [0.015625]\n",
      " [0.015625]\n",
      " [0.015625]\n",
      " [0.015625]\n",
      " [0.015625]\n",
      " [0.015625]\n",
      " [0.015625]]\n",
      "\n",
      "End Weights\n",
      "[[0.01587302]\n",
      " [0.01587302]\n",
      " [0.01587302]\n",
      " [0.01587302]\n",
      " [0.01587302]\n",
      " [0.01587302]\n",
      " [0.01587302]\n",
      " [0.01587302]\n",
      " [0.01587302]\n",
      " [0.01587302]\n",
      " [0.01587302]\n",
      " [0.01587302]\n",
      " [0.01587302]\n",
      " [0.01587302]\n",
      " [0.01587302]\n",
      " [0.01587302]\n",
      " [0.01587302]\n",
      " [0.01587302]\n",
      " [0.01587302]\n",
      " [0.01587302]\n",
      " [0.01587302]\n",
      " [0.01587302]\n",
      " [0.01587302]\n",
      " [0.01587302]\n",
      " [0.01587302]\n",
      " [0.01587302]\n",
      " [0.01587302]\n",
      " [0.01587302]\n",
      " [0.01587302]\n",
      " [0.01587302]\n",
      " [0.01587302]\n",
      " [0.01587302]\n",
      " [0.01587302]\n",
      " [0.01587302]\n",
      " [0.01587302]\n",
      " [0.01587302]\n",
      " [0.01587302]\n",
      " [0.01587302]\n",
      " [0.01587302]\n",
      " [0.01587302]\n",
      " [0.01587302]\n",
      " [0.01587302]\n",
      " [0.01587302]\n",
      " [0.01587302]\n",
      " [0.01587302]\n",
      " [0.01587302]\n",
      " [0.01587302]\n",
      " [0.01587302]\n",
      " [0.01587302]\n",
      " [0.01587302]\n",
      " [0.01587302]\n",
      " [0.01587302]\n",
      " [0.01587302]\n",
      " [0.01587302]\n",
      " [0.01587302]\n",
      " [0.01587302]\n",
      " [0.01587302]\n",
      " [0.01587302]\n",
      " [0.01587302]\n",
      " [0.01587302]\n",
      " [0.01587302]\n",
      " [0.01587302]\n",
      " [0.01587302]]\n"
     ]
    }
   ],
   "source": [
    "start_weights = start_weights * (1/start_capacity)\n",
    "end_weights = end_weights * (1/end_capacity)\n",
    "#breakpoint()\n",
    "print(\"Start Weights\")\n",
    "print(start_weights)\n",
    "print(\"\\nEnd Weights\")\n",
    "print(end_weights)"
   ]
  },
  {
   "cell_type": "code",
   "execution_count": 7,
   "metadata": {
    "ExecuteTime": {
     "end_time": "2023-08-19T22:32:49.211924966Z",
     "start_time": "2023-08-19T22:32:49.122222754Z"
    },
    "collapsed": false
   },
   "outputs": [
    {
     "name": "stdout",
     "output_type": "stream",
     "text": [
      "[[0.00207406]]\n",
      "[[0.19889554]]\n",
      "[[0.02031064]]\n",
      "[[0.16034832]]\n"
     ]
    }
   ],
   "source": [
    "addend_1 = start_weights.T @ metrics.pairwise.linear_kernel(start_elements, start_elements) @ start_weights\n",
    "addend_2 = end_weights.T @ metrics.pairwise.linear_kernel(end_elements, end_elements) @ end_weights\n",
    "addend_3 = start_weights.T @ metrics.pairwise.linear_kernel(start_elements, end_elements) @ end_weights\n",
    "print(addend_1)\n",
    "print(addend_2)\n",
    "print(addend_3)\n",
    "print(addend_1+addend_2-(2*addend_3))"
   ]
  },
  {
   "cell_type": "markdown",
   "metadata": {
    "collapsed": false
   },
   "source": []
  },
  {
   "cell_type": "markdown",
   "metadata": {
    "collapsed": false
   },
   "source": [
    "Ok let's start over"
   ]
  },
  {
   "cell_type": "code",
   "execution_count": 8,
   "metadata": {
    "ExecuteTime": {
     "end_time": "2023-08-19T22:32:49.212247905Z",
     "start_time": "2023-08-19T22:32:49.167475679Z"
    },
    "collapsed": false
   },
   "outputs": [],
   "source": [
    "from mmdew.bucket_stream2 import Bucket\n",
    "\n",
    "def k( x, y):\n",
    "\n",
    "    #return metrics.pairwise.rbf_kernel(x,y, gamma=1)\n",
    "    return metrics.pairwise.linear_kernel(x,y)\n",
    "\n",
    "\n",
    "def mmd(split, buckets):\n",
    "    start = buckets[:split]\n",
    "    end = buckets[split:]\n",
    "    #breakpoint()\n",
    "    start_elements = start[0].elements\n",
    "    start_weights = start[0].weights * start[0].uncompressed_capacity\n",
    "    end_elements = end[0].elements\n",
    "    end_weights = end[0].weights * end[0].uncompressed_capacity\n",
    "    start_uncompressed_capacity = start[0].uncompressed_capacity\n",
    "    end_uncompressed_capacity = end[0].uncompressed_capacity\n",
    "    #breakpoint()\n",
    "    for bucket in start[1:]:\n",
    "        #breakpoint()\n",
    "        start_elements = np.concatenate((start_elements, bucket.elements))\n",
    "        start_weights = np.concatenate((start_weights, bucket.weights * bucket.uncompressed_capacity))\n",
    "        start_uncompressed_capacity += bucket.uncompressed_capacity\n",
    "    for bucket in end[1:]:\n",
    "        #breakpoint()\n",
    "        end_elements = np.concatenate((end_elements, bucket.elements))\n",
    "        #breakpoint()\n",
    "        end_weights = np.concatenate((end_weights, bucket.weights * bucket.uncompressed_capacity))\n",
    "        end_uncompressed_capacity += bucket.uncompressed_capacity\n",
    "    #\n",
    "\n",
    "    start_weights = start_weights * (1/start_uncompressed_capacity)\n",
    "    end_weights = end_weights * (1/end_uncompressed_capacity)\n",
    "    #breakpoint()\n",
    "    addend_1 = start_weights.T @ k(start_elements, start_elements) @ start_weights\n",
    "    addend_2 = end_weights.T @ k(end_elements, end_elements) @ end_weights\n",
    "    addend_3 = start_weights.T @ k(start_elements, end_elements) @ end_weights\n",
    "    return (addend_1 + addend_2 - (2 * addend_3))[0][0], start_uncompressed_capacity, end_uncompressed_capacity\n",
    "\n",
    "def merge_buckets_with_subsampling(bucket_list):\n",
    "    \"\"\"Merges the buckets in `bucket_list` such that one bucket remains with XX, and XY such that their values correspond to the case that all data would have been in this bucket.\"\"\"\n",
    "    if len(bucket_list) == 1:\n",
    "        return bucket_list[0]\n",
    "    current = bucket_list[-1]\n",
    "    previous = bucket_list[-2]\n",
    "\n",
    "    current_elements = current.elements\n",
    "    previous_elements = previous.elements\n",
    "    current_weights = current.weights\n",
    "    previous_weights = previous.weights\n",
    "\n",
    "    joined_elements = np.concatenate((current_elements, previous_elements))\n",
    "    joined_uncompressed_capacity = current.uncompressed_capacity + previous.uncompressed_capacity\n",
    "    #subsampling seems to be too extreme. Maybe select less aggressively\n",
    "    #maybe choose combined uncompressed capacity as n which would probably not contradict the chatalic paper\n",
    "    #breakpoint()\n",
    "    if joined_uncompressed_capacity > 16:\n",
    "\n",
    "        m = round(math.sqrt(joined_uncompressed_capacity))  # size of the subsample\n",
    "        #ToDo: uncomment this\n",
    "        #m_idx = np.random.default_rng().integers(len(joined_elements), size=m)\n",
    "        m_idx = range(0,m)\n",
    "        subsample = joined_elements[m_idx]\n",
    "    else:\n",
    "        m = joined_uncompressed_capacity\n",
    "        subsample = joined_elements\n",
    "   # assuming current_elements and previous_elements have the same length\n",
    "\n",
    "\n",
    "    joined_weights = np.concatenate((current_weights, previous_weights))\n",
    "    #breakpoint()\n",
    "    K_z = k(subsample, joined_elements)\n",
    "\n",
    "\n",
    "\n",
    "    #K_m = np.zeros((m, m))  # initialize the kernel matrix with zeros\n",
    "    #for i in range(m):\n",
    "        #for j in range(m):\n",
    "            # reshape to 2D array as rbf_kernel expects 2D array\n",
    "\n",
    "    K_m = k(subsample, subsample)\n",
    "    K_m_inv = la.pinv(K_m)\n",
    "    #breakpoint()\n",
    "    new_weights = .5 * K_m_inv @ K_z @ joined_weights\n",
    "    return merge_buckets_with_subsampling(\n",
    "        bucket_list[:-2]\n",
    "        + [\n",
    "            Bucket(\n",
    "                elements=subsample,\n",
    "                weights=new_weights,\n",
    "                capacity=m,\n",
    "                uncompressed_capacity=joined_uncompressed_capacity\n",
    "            )\n",
    "        ]\n",
    "    )\n",
    "\n",
    "\n",
    "    #print(f\"split: {split} start_uncompressed_capacity: {start_uncompressed_capacity} und end_uncompressed_capacity: {end_uncompressed_capacity}\")\n",
    "    \n"
   ]
  },
  {
   "cell_type": "code",
   "execution_count": 9,
   "metadata": {
    "ExecuteTime": {
     "end_time": "2023-08-19T22:32:49.212382575Z",
     "start_time": "2023-08-19T22:32:49.167673289Z"
    },
    "collapsed": false
   },
   "outputs": [],
   "source": [
    "np.random.seed(40)\n",
    "X = np.random.normal(0, 1, 128)\n",
    "Y = np.random.normal(1, 2, 128 )"
   ]
  },
  {
   "cell_type": "code",
   "execution_count": 10,
   "metadata": {
    "ExecuteTime": {
     "end_time": "2023-08-19T22:32:49.212529705Z",
     "start_time": "2023-08-19T22:32:49.167775639Z"
    },
    "collapsed": false
   },
   "outputs": [],
   "source": [
    "bs_1 = []\n",
    "bs_2 = []"
   ]
  },
  {
   "cell_type": "code",
   "execution_count": 11,
   "metadata": {
    "ExecuteTime": {
     "end_time": "2023-08-19T22:32:49.253377544Z",
     "start_time": "2023-08-19T22:32:49.167884029Z"
    },
    "collapsed": false
   },
   "outputs": [],
   "source": [
    "bs = []\n",
    "def insert_no_cut(buckets, element):\n",
    "    #breakpoint()\n",
    "    buckets += [\n",
    "        Bucket(\n",
    "            elements=np.array(element).reshape(1,-1),\n",
    "            weights=np.array(1).reshape(1,-1),\n",
    "            capacity=1,\n",
    "            uncompressed_capacity=1\n",
    "        )\n",
    "    ]\n",
    "    return merge(buckets)\n",
    "    \n",
    "    #breakpoint()\n",
    "    \n",
    "def merge(buckets):\n",
    "    if len(buckets) < 2:\n",
    "        return buckets\n",
    "    current = buckets[-1]\n",
    "    previous = buckets[-2]\n",
    "    if previous.uncompressed_capacity == current.uncompressed_capacity:\n",
    "        buckets = buckets[:-2] + [merge_buckets_with_subsampling(buckets[-2:])]\n",
    "        buckets = merge(buckets)\n",
    "    return buckets\n",
    "\n",
    "for i in range(0,128):\n",
    "    bs_1 = insert_no_cut(bs_1, X[i])\n",
    "for i in range(0,128):\n",
    "    bs_2 = insert_no_cut(bs_2, Y[i])\n",
    "bs = np.concatenate((bs_1,bs_2))\n"
   ]
  },
  {
   "cell_type": "code",
   "execution_count": 12,
   "metadata": {
    "ExecuteTime": {
     "end_time": "2023-08-19T22:33:30.651946775Z",
     "start_time": "2023-08-19T22:33:30.647122158Z"
    },
    "collapsed": false
   },
   "outputs": [
    {
     "name": "stdout",
     "output_type": "stream",
     "text": [
      "Elems:\t[[-0.75106871]\n",
      " [-2.26410598]\n",
      " [-0.62214682]\n",
      " [ 0.49188382]\n",
      " [ 0.14070345]\n",
      " [ 1.86689846]\n",
      " [ 0.96489515]\n",
      " [-0.03740283]\n",
      " [ 3.00111581]\n",
      " [ 4.52203497]\n",
      " [-1.25229966]]\n",
      "Weights:\t[[-0.0174136 ]\n",
      " [-0.0524935 ]\n",
      " [-0.01442453]\n",
      " [ 0.01140437]\n",
      " [ 0.00326222]\n",
      " [ 0.04328421]\n",
      " [ 0.02237118]\n",
      " [-0.00086719]\n",
      " [ 0.06958114]\n",
      " [ 0.10484379]\n",
      " [-0.02903468]]\n",
      "Uncomp_Cap:\t128\n"
     ]
    }
   ],
   "source": [
    "print(bs[1])"
   ]
  },
  {
   "cell_type": "code",
   "execution_count": 13,
   "metadata": {
    "ExecuteTime": {
     "end_time": "2023-08-19T22:33:30.975572380Z",
     "start_time": "2023-08-19T22:33:30.972017352Z"
    },
    "collapsed": false
   },
   "outputs": [
    {
     "data": {
      "text/plain": [
       "(1.1372843611701815, 128, 128)"
      ]
     },
     "execution_count": 13,
     "metadata": {},
     "output_type": "execute_result"
    }
   ],
   "source": [
    "mmd(1,bs)"
   ]
  },
  {
   "cell_type": "code",
   "execution_count": 14,
   "metadata": {
    "ExecuteTime": {
     "end_time": "2023-08-19T22:33:31.487569592Z",
     "start_time": "2023-08-19T22:33:31.481925705Z"
    },
    "collapsed": false
   },
   "outputs": [
    {
     "data": {
      "text/plain": [
       "0.16049514606104864"
      ]
     },
     "execution_count": 14,
     "metadata": {},
     "output_type": "execute_result"
    }
   ],
   "source": [
    "mymmd.mmd(X.reshape(-1,1),Y.reshape(-1,1))"
   ]
  },
  {
   "cell_type": "code",
   "execution_count": null,
   "metadata": {
    "ExecuteTime": {
     "end_time": "2023-08-19T22:32:49.273979738Z",
     "start_time": "2023-08-19T22:32:49.216003892Z"
    },
    "collapsed": false
   },
   "outputs": [],
   "source": []
  }
 ],
 "metadata": {
  "kernelspec": {
   "display_name": "Python 3",
   "language": "python",
   "name": "python3"
  },
  "language_info": {
   "codemirror_mode": {
    "name": "ipython",
    "version": 3
   },
   "file_extension": ".py",
   "mimetype": "text/x-python",
   "name": "python",
   "nbconvert_exporter": "python",
   "pygments_lexer": "ipython3",
   "version": "3.10.10"
  }
 },
 "nbformat": 4,
 "nbformat_minor": 0
}
