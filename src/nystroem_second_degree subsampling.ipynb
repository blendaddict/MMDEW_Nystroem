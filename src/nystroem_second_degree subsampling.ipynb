{
 "cells": [
  {
   "cell_type": "code",
   "execution_count": 30,
   "outputs": [
    {
     "name": "stdout",
     "output_type": "stream",
     "text": [
      "real mmd:0.7635437624508594\n",
      " nyström mmd: 0.7024237833737192\n"
     ]
    }
   ],
   "source": [
    "from mmdew.bucket_stream2 import BucketStream\n",
    "from mmdew.bucket_stream_old import BucketStream as OldBucketStream\n",
    "import numpy as np\n",
    "import pandas as pd\n",
    "from mmdew.mmd import MMD\n",
    "mymmd = MMD(biased=True, gamma=1)\n",
    "from sklearn import metrics\n",
    "\n",
    "X = np.random.normal(0, 1, 32)\n",
    "Y = np.random.normal(1, 2, 32)\n",
    "\n",
    "\n",
    "m_idx = np.random.default_rng().integers(32, size=5)\n",
    "subsample = X[m_idx]\n",
    "start_weights = (1/32) * metrics.pairwise.linear_kernel(subsample.reshape(-1,1),subsample.reshape(-1,1)) @ metrics.pairwise.linear_kernel(subsample.reshape(-1,1),X.reshape(-1,1)) @ np.ones(32)\n",
    "\n",
    "print(f\"real mmd:{mymmd.mmd(X.reshape(-1,1),Y.reshape(-1,1))}\")\n",
    "\n",
    "end_weights = np.ones(32)/32\n",
    "addend_1 = start_weights.T @ metrics.pairwise.linear_kernel(subsample.reshape(-1,1), subsample.reshape(-1,1)) @ start_weights\n",
    "addend_2 = end_weights.T @ metrics.pairwise.linear_kernel(Y.reshape(-1,1), Y.reshape(-1,1)) @ end_weights\n",
    "addend_3 = start_weights.T @ metrics.pairwise.linear_kernel(subsample.reshape(-1,1), Y.reshape(-1,1)) @ end_weights\n",
    "\n",
    "print(f\" nyström mmd: {(addend_1 + addend_2 - (2 * addend_3))}\")\n"
   ],
   "metadata": {
    "collapsed": false,
    "ExecuteTime": {
     "end_time": "2023-08-10T14:47:08.695384Z",
     "start_time": "2023-08-10T14:47:08.683872Z"
    }
   }
  },
  {
   "cell_type": "code",
   "execution_count": 12,
   "outputs": [
    {
     "data": {
      "text/plain": "array([[[1]]])"
     },
     "execution_count": 12,
     "metadata": {},
     "output_type": "execute_result"
    }
   ],
   "source": [
    "i = 0\n",
    "bs_ss.buckets[i].elements\n"
   ],
   "metadata": {
    "collapsed": false,
    "ExecuteTime": {
     "end_time": "2023-08-09T19:43:36.426569653Z",
     "start_time": "2023-08-09T19:43:36.400992711Z"
    }
   }
  },
  {
   "cell_type": "code",
   "execution_count": 13,
   "outputs": [
    {
     "data": {
      "text/plain": "1"
     },
     "execution_count": 13,
     "metadata": {},
     "output_type": "execute_result"
    }
   ],
   "source": [
    "bs_no_ss.buckets[i].capacity\n"
   ],
   "metadata": {
    "collapsed": false,
    "ExecuteTime": {
     "end_time": "2023-08-09T19:43:36.909906292Z",
     "start_time": "2023-08-09T19:43:36.892771947Z"
    }
   }
  },
  {
   "cell_type": "code",
   "execution_count": 14,
   "outputs": [
    {
     "data": {
      "text/plain": "1"
     },
     "execution_count": 14,
     "metadata": {},
     "output_type": "execute_result"
    }
   ],
   "source": [
    "bs_ss.buckets[i].uncompressed_capacity"
   ],
   "metadata": {
    "collapsed": false,
    "ExecuteTime": {
     "end_time": "2023-08-09T19:43:37.525834405Z",
     "start_time": "2023-08-09T19:43:37.514509831Z"
    }
   }
  },
  {
   "cell_type": "code",
   "execution_count": null,
   "outputs": [],
   "source": [],
   "metadata": {
    "collapsed": false
   }
  }
 ],
 "metadata": {
  "kernelspec": {
   "display_name": "Python 3",
   "language": "python",
   "name": "python3"
  },
  "language_info": {
   "codemirror_mode": {
    "name": "ipython",
    "version": 2
   },
   "file_extension": ".py",
   "mimetype": "text/x-python",
   "name": "python",
   "nbconvert_exporter": "python",
   "pygments_lexer": "ipython2",
   "version": "2.7.6"
  }
 },
 "nbformat": 4,
 "nbformat_minor": 0
}
