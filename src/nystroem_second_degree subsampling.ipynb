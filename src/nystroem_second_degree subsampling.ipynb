{
 "cells": [
  {
   "cell_type": "markdown",
   "source": [
    "## Let's try to compare the mmd of the 2 distributions to one nyström subsampled bucked for X and one not subsampled bucket for Y"
   ],
   "metadata": {
    "collapsed": false
   }
  },
  {
   "cell_type": "code",
   "execution_count": 26,
   "outputs": [
    {
     "name": "stdout",
     "output_type": "stream",
     "text": [
      "real mmd:0.6016100063216595\n",
      "nyström mmd: 0.6016100063216596\n"
     ]
    }
   ],
   "source": [
    "from mmdew.bucket_stream2 import BucketStream\n",
    "from mmdew.bucket_stream_old import BucketStream as OldBucketStream\n",
    "import numpy as np\n",
    "import pandas as pd\n",
    "from mmdew.mmd import MMD\n",
    "mymmd = MMD(biased=True, gamma=1)\n",
    "from sklearn import metrics\n",
    "import numpy.linalg as la\n",
    "np.random.seed(40)\n",
    "X = np.random.normal(0, 1, 32)\n",
    "Y = np.random.normal(1, 2, 32)\n",
    "\n",
    "\n",
    "m_idx = np.random.default_rng().integers(32, size=5)\n",
    "subsample = X[m_idx]\n",
    "start_weights = ((1/32) * la.pinv(metrics.pairwise.linear_kernel(subsample.reshape(-1,1),subsample.reshape(-1,1)))\n",
    "                 @ metrics.pairwise.linear_kernel(subsample.reshape(-1,1),X.reshape(-1,1)) @ np.ones(32))\n",
    "\n",
    "\n",
    "\n",
    "end_weights = np.ones((32,1))/32\n",
    "addend_1 = start_weights.T @ metrics.pairwise.linear_kernel(subsample.reshape(-1,1), subsample.reshape(-1,1)) @ start_weights\n",
    "addend_2 = end_weights.T @ metrics.pairwise.linear_kernel(Y.reshape(-1,1), Y.reshape(-1,1)) @ end_weights\n",
    "addend_3 = start_weights.T @ metrics.pairwise.linear_kernel(subsample.reshape(-1,1), Y.reshape(-1,1)) @ end_weights\n",
    "print(f\"real mmd:{mymmd.mmd(X.reshape(-1,1),Y.reshape(-1,1))}\")\n",
    "print(f\"nyström mmd: {(addend_1 + addend_2 - (2 * addend_3))[0][0]}\")\n",
    "\n"
   ],
   "metadata": {
    "collapsed": false,
    "ExecuteTime": {
     "end_time": "2023-08-10T21:36:44.381698832Z",
     "start_time": "2023-08-10T21:36:44.373350433Z"
    }
   }
  },
  {
   "cell_type": "markdown",
   "source": [
    "## MMD is identical\n",
    "now let's try to create 2 subsampled buckets from X, merge them into a third bucket with the elements: new_subsample and the weights: new_weights, then check MMD"
   ],
   "metadata": {
    "collapsed": false
   }
  },
  {
   "cell_type": "code",
   "execution_count": 27,
   "outputs": [
    {
     "name": "stdout",
     "output_type": "stream",
     "text": [
      "real mmd:2.3226094951499947\n",
      "nyström mmd of bucket, made of subsampled buckets: 2.322609495149995\n"
     ]
    }
   ],
   "source": [
    "import math\n",
    "\n",
    "X_1 = np.random.normal(0, 1, 32)\n",
    "X_2 = np.random.normal(0, 1, 32)\n",
    "Y = np.random.normal(1, 2, 64)\n",
    "\n",
    "\n",
    "m_idx1 = np.random.default_rng().integers(32, size=5)\n",
    "subsample1 = X_1[m_idx1]\n",
    "m_idx2 = np.random.default_rng().integers(32, size=5)\n",
    "subsample2 = X_2[m_idx1]\n",
    "bucket1_weights = ((1/32) * la.pinv(metrics.pairwise.linear_kernel(subsample1.reshape(-1,1),subsample1.reshape(-1,1)))\n",
    "                 @ metrics.pairwise.linear_kernel(subsample1.reshape(-1,1),X_1.reshape(-1,1)) @ np.ones(32))\n",
    "bucket2_weights = ((1/32) * la.pinv(metrics.pairwise.linear_kernel(subsample2.reshape(-1,1),subsample2.reshape(-1,1)))\n",
    "                 @ metrics.pairwise.linear_kernel(subsample2.reshape(-1,1),X_2.reshape(-1,1)) @ np.ones(32))\n",
    "\n",
    "#getting new elements\n",
    "joined_subsamples = np.concatenate((subsample1, subsample2))\n",
    "joined_uncompressed_capacity = 64\n",
    "m = round(math.sqrt(64))\n",
    "m_idx_new = np.random.default_rng().integers(len(joined_subsamples), size=m)\n",
    "new_subsample = joined_subsamples[m_idx_new]\n",
    "\n",
    "#getting new weights\n",
    "new_subsample = new_subsample.reshape(-1,1)\n",
    "joined_subsamples = joined_subsamples.reshape(-1,1)\n",
    "joined_weights = np.concatenate((bucket1_weights,bucket2_weights))\n",
    "K_z = metrics.pairwise.linear_kernel(new_subsample, joined_subsamples)\n",
    "K_m_inv = la.pinv(metrics.pairwise.linear_kernel(new_subsample, new_subsample))\n",
    "new_weights = .5 * K_m_inv @ K_z @ joined_weights\n",
    "\n",
    "#weights for Y\n",
    "end_weights = np.ones((64,1))/64\n",
    "\n",
    "addend_1 = new_weights.T @ metrics.pairwise.linear_kernel(new_subsample.reshape(-1,1), new_subsample.reshape(-1,1)) @ new_weights\n",
    "addend_2 = end_weights.T @ metrics.pairwise.linear_kernel(Y.reshape(-1,1), Y.reshape(-1,1)) @ end_weights\n",
    "addend_3 = new_weights.T @ metrics.pairwise.linear_kernel(new_subsample.reshape(-1,1), Y.reshape(-1,1)) @ end_weights\n",
    "\n",
    "print(f\"real mmd:{mymmd.mmd(np.concatenate((X_1,X_2)).reshape(-1,1),Y.reshape(-1,1))}\")\n",
    "print(f\"nyström mmd of bucket, made of subsampled buckets: {(addend_1 + addend_2 - (2 * addend_3))[0][0]}\")\n",
    "breakpoint()\n",
    "\n",
    "\n"
   ],
   "metadata": {
    "collapsed": false,
    "ExecuteTime": {
     "end_time": "2023-08-10T21:36:44.433724563Z",
     "start_time": "2023-08-10T21:36:44.421310445Z"
    }
   }
  },
  {
   "cell_type": "markdown",
   "source": [
    "## MMD is equal \n",
    "why does this not work in bucketstream2.py ? "
   ],
   "metadata": {
    "collapsed": false
   }
  },
  {
   "cell_type": "code",
   "execution_count": 28,
   "outputs": [
    {
     "name": "stdout",
     "output_type": "stream",
     "text": [
      "error for exponent 1 is 6.938893903907228e-16\n",
      "error for exponent 2 is 1.2212453270876722e-15\n",
      "error for exponent 3 is 1.2212453270876722e-15\n",
      "error for exponent 4 is 6.161737786669619e-16\n",
      "error for exponent 5 is 7.327471962526033e-16\n",
      "error for exponent 6 is 0.27322697803554885\n",
      "error for exponent 7 is 0.29218514919762295\n",
      "error for exponent 8 is 0.2324963532574406\n",
      "error for exponent 9 is 0.24656608561197074\n",
      "error for exponent 10 is 0.1989622980445256\n"
     ]
    }
   ],
   "source": [
    "from mmdew.bucket_stream2 import BucketStream\n",
    "from mmdew.bucket_stream_old import BucketStream as OldBucketStream\n",
    "import numpy as np\n",
    "import pandas as pd\n",
    "from mmdew.mmd import MMD\n",
    "mymmd = MMD(biased=True, gamma=1)\n",
    "if __name__ == \"__main__\":\n",
    "    bs_ss = BucketStream(gamma=1)\n",
    "    bs_no_ss = BucketStream(gamma=1, apply_subsampling=False)\n",
    "    bs_old = OldBucketStream(gamma=1)\n",
    "\n",
    "    errors = []\n",
    "\n",
    "    for exponent in range(1, 11):\n",
    "        iter_errors = []\n",
    "        for iteration in range(1,11):\n",
    "\n",
    "            bs_ss = BucketStream(gamma=1)\n",
    "            bs_no_ss = BucketStream(gamma=1, apply_subsampling=False)\n",
    "            bs_old = OldBucketStream(gamma=1)\n",
    "            limit = 2 ** exponent\n",
    "            X = np.random.normal(0, 1, limit)\n",
    "            Y = np.random.normal(1, 2, limit - 1)\n",
    "           \n",
    "            for i in range(0, limit):\n",
    "                bs_ss.insert_no_cut(X[i])\n",
    "             \n",
    "            for i in range(0, limit - 1):\n",
    "                bs_ss.insert_no_cut(Y[i])\n",
    "      \n",
    "            ss_mmd = bs_ss.mmd(1)[0]\n",
    "            real_mmd = mymmd.mmd(X.reshape(-1, 1),Y.reshape(-1, 1))\n",
    "            #print(f\"SS:    exponent: {exponent} bucket count: {len(bs_ss.buckets)} mmd value={ss_mmd}\")\n",
    "         \n",
    "            #print(f\"real MMD: {real_mmd}\")\n",
    "            iter_errors = np.concatenate(( iter_errors, [(abs(real_mmd - ss_mmd))]))\n",
    "            #if iteration == 1 and exponent == 5 :\n",
    "            #    breakpoint()\n",
    "        errors = np.concatenate((errors, [np.array(iter_errors).mean()] ))\n",
    "\n",
    "    for i in range(0,10):\n",
    "        print(f\"error for exponent {i+1} is {errors[i]}\")\n"
   ],
   "metadata": {
    "collapsed": false,
    "ExecuteTime": {
     "end_time": "2023-08-10T21:36:49.803123622Z",
     "start_time": "2023-08-10T21:36:44.421549675Z"
    }
   }
  },
  {
   "cell_type": "markdown",
   "source": [
    "# Exponent 6 is the first time that we subsample with depth > 1 \n",
    "But we just showed that this isn't the problem. Let's have a deeper look"
   ],
   "metadata": {
    "collapsed": false
   }
  },
  {
   "cell_type": "code",
   "execution_count": 47,
   "outputs": [
    {
     "name": "stdout",
     "output_type": "stream",
     "text": [
      "SS:    exponent: 6 bucket count: 7 mmd value=0.6252552407740909\n",
      "real MMD: 0.44729737365887745\n",
      "\n",
      "Element count: 8\n",
      "Elems:\t[[ 0.18417749]\n",
      " [ 0.18417749]\n",
      " [ 0.4931863 ]\n",
      " [ 0.06152661]\n",
      " [-1.47501882]\n",
      " [ 0.06152661]\n",
      " [ 0.18417749]\n",
      " [ 0.06152661]]\n",
      "Weights:\t[[ 0.00922894]\n",
      " [ 0.00922894]\n",
      " [ 0.02471303]\n",
      " [ 0.00308303]\n",
      " [-0.07391161]\n",
      " [ 0.00308303]\n",
      " [ 0.00922894]\n",
      " [ 0.00308303]]\n",
      "Uncomp_Cap:\t64\n",
      "\n",
      "\n",
      "Element count: 6\n",
      "Elems:\t[[ 1.08304634]\n",
      " [-1.48046468]\n",
      " [-2.17882162]\n",
      " [ 0.77960253]\n",
      " [-0.45225296]\n",
      " [-0.45225296]]\n",
      "Weights:\t[[ 0.07381375]\n",
      " [-0.10089933]\n",
      " [-0.14849502]\n",
      " [ 0.05313289]\n",
      " [-0.03082277]\n",
      " [-0.03082277]]\n",
      "Uncomp_Cap:\t32\n",
      "\n",
      "\n",
      "Element count: 16\n",
      "Elems:\t[[ 2.08629853]\n",
      " [ 2.44841171]\n",
      " [ 3.64384188]\n",
      " [-0.18678735]\n",
      " [-3.48382213]\n",
      " [ 0.0660403 ]\n",
      " [-1.05167316]\n",
      " [ 0.41578454]\n",
      " [-2.10610054]\n",
      " [ 2.44495657]\n",
      " [ 2.34850021]\n",
      " [ 1.99299365]\n",
      " [-0.08587857]\n",
      " [ 2.26389168]\n",
      " [ 2.44022949]\n",
      " [ 0.24652004]]\n",
      "Weights:\t[[ 0.02580577]\n",
      " [ 0.03028481]\n",
      " [ 0.04507128]\n",
      " [-0.0023104 ]\n",
      " [-0.04309197]\n",
      " [ 0.00081686]\n",
      " [-0.01300832]\n",
      " [ 0.00514291]\n",
      " [-0.02605071]\n",
      " [ 0.03024207]\n",
      " [ 0.02904899]\n",
      " [ 0.02465167]\n",
      " [-0.00106225]\n",
      " [ 0.02800245]\n",
      " [ 0.0301836 ]\n",
      " [ 0.00304925]]\n",
      "Uncomp_Cap:\t16\n",
      "\n",
      "\n",
      "Element count: 8\n",
      "Elems:\t[[ 2.73128047]\n",
      " [ 3.97273787]\n",
      " [-0.37387173]\n",
      " [ 1.36749943]\n",
      " [ 3.82909643]\n",
      " [-2.87985891]\n",
      " [-0.787344  ]\n",
      " [ 1.95909095]]\n",
      "Weights:\t[[ 0.06364991]\n",
      " [ 0.09258091]\n",
      " [-0.00871273]\n",
      " [ 0.03186828]\n",
      " [ 0.08923348]\n",
      " [-0.06711239]\n",
      " [-0.01834831]\n",
      " [ 0.04565476]]\n",
      "Uncomp_Cap:\t8\n",
      "\n",
      "\n",
      "Element count: 4\n",
      "Elems:\t[[4.22468021]\n",
      " [2.33257683]\n",
      " [1.30801269]\n",
      " [2.9502411 ]]\n",
      "Weights:\t[[0.3389252 ]\n",
      " [0.1871311 ]\n",
      " [0.10493539]\n",
      " [0.23668325]]\n",
      "Uncomp_Cap:\t4\n",
      "\n",
      "\n",
      "Element count: 2\n",
      "Elems:\t[[ 0.24191428]\n",
      " [-3.12465619]]\n",
      "Weights:\t[[-0.03550074]\n",
      " [ 0.45854095]]\n",
      "Uncomp_Cap:\t2\n",
      "\n",
      "\n",
      "Element count: 1\n",
      "Elems:\t[[-1.01610456]]\n",
      "Weights:\t[[1]]\n",
      "Uncomp_Cap:\t1\n"
     ]
    }
   ],
   "source": [
    "bs_ss = BucketStream(gamma=1)\n",
    "exponent = 6\n",
    "limit = 2 ** exponent\n",
    "X = np.random.normal(0, 1, limit)\n",
    "Y = np.random.normal(1, 2, limit - 1)\n",
    "\n",
    "for i in range(0, limit):\n",
    "    bs_ss.insert_no_cut(X[i])\n",
    " \n",
    "for i in range(0, limit - 1):\n",
    "    bs_ss.insert_no_cut(Y[i])\n",
    "\n",
    "ss_mmd = bs_ss.mmd(1)[0]\n",
    "real_mmd = mymmd.mmd(X.reshape(-1, 1),Y.reshape(-1, 1))\n",
    "print(f\"SS:    exponent: {exponent} bucket count: {len(bs_ss.buckets)} mmd value={ss_mmd}\")\n",
    "print(f\"real MMD: {real_mmd}\\n\")\n",
    "for bucket in bs_ss.buckets:\n",
    "    print(f\"Element count: {len(bucket.elements)}\" )\n",
    "    print(bucket)\n",
    "    print(\"\\n\")\n",
    "\n"
   ],
   "metadata": {
    "collapsed": false,
    "ExecuteTime": {
     "end_time": "2023-08-10T21:49:05.686036136Z",
     "start_time": "2023-08-10T21:49:05.662238147Z"
    }
   }
  },
  {
   "cell_type": "markdown",
   "source": [
    "## This does not look to bad. (Except for the mmd disparity of course)\n",
    "The amount of subsamples is right. the weight count matches...\n",
    "Let's try to reconstruct the mmd calc"
   ],
   "metadata": {
    "collapsed": false
   }
  },
  {
   "cell_type": "code",
   "execution_count": 48,
   "outputs": [
    {
     "name": "stdout",
     "output_type": "stream",
     "text": [
      "64\n",
      "8\n",
      "63\n",
      "37\n"
     ]
    }
   ],
   "source": [
    "start = bs_ss.buckets[:1]\n",
    "end = bs_ss.buckets[1:]\n",
    "start_elements = start[0].elements\n",
    "start_weights = start[0].weights * len(start[0].weights)\n",
    "end_elements = end[0].elements\n",
    "end_weights = end[0].weights * len(end[0].weights)\n",
    "start_uncompressed_capacity = start[0].uncompressed_capacity\n",
    "end_uncompressed_capacity = end[0].uncompressed_capacity\n",
    "for bucket in start[1:]:\n",
    "    #breakpoint()\n",
    "    start_elements = np.concatenate((start_elements, bucket.elements))\n",
    "    start_weights = np.concatenate((start_weights, bucket.weights * len(bucket.weights)))\n",
    "    start_uncompressed_capacity += bucket.uncompressed_capacity\n",
    "for bucket in end[1:]:\n",
    "    #breakpoint()\n",
    "    end_elements = np.concatenate((end_elements, bucket.elements))\n",
    "    #breakpoint()\n",
    "    end_weights = np.concatenate((end_weights, bucket.weights * len(bucket.weights)))\n",
    "    end_uncompressed_capacity += bucket.uncompressed_capacity\n",
    "start_capacity = len(start_elements)\n",
    "end_capacity = len(end_elements)\n",
    "print(start_uncompressed_capacity)\n",
    "print(start_capacity)\n",
    "print(end_uncompressed_capacity)\n",
    "print(end_capacity)"
   ],
   "metadata": {
    "collapsed": false,
    "ExecuteTime": {
     "end_time": "2023-08-10T21:49:06.256041053Z",
     "start_time": "2023-08-10T21:49:06.253584682Z"
    }
   }
  },
  {
   "cell_type": "markdown",
   "source": [
    "## Yes, everything seems to be alright\n",
    "37 is exactly the amount of samples that should be right of the split because of: 31 elements from the buckets without subsampling and 5 (+1 for bad rounding) from the subsampled u-cap 32 bucket\n",
    "## Let's look deeper..."
   ],
   "metadata": {
    "collapsed": false
   }
  },
  {
   "cell_type": "code",
   "execution_count": 49,
   "outputs": [
    {
     "name": "stdout",
     "output_type": "stream",
     "text": [
      "Start Weights\n",
      "[[ 0.00922894]\n",
      " [ 0.00922894]\n",
      " [ 0.02471303]\n",
      " [ 0.00308303]\n",
      " [-0.07391161]\n",
      " [ 0.00308303]\n",
      " [ 0.00922894]\n",
      " [ 0.00308303]]\n",
      "\n",
      "End Weights\n",
      "[[ 0.0119698 ]\n",
      " [-0.01636205]\n",
      " [-0.02408027]\n",
      " [ 0.00861614]\n",
      " [-0.00499829]\n",
      " [-0.00499829]\n",
      " [ 0.01115925]\n",
      " [ 0.01309613]\n",
      " [ 0.01949028]\n",
      " [-0.00099909]\n",
      " [-0.01863437]\n",
      " [ 0.00035324]\n",
      " [-0.00562522]\n",
      " [ 0.00222396]\n",
      " [-0.01126517]\n",
      " [ 0.01307765]\n",
      " [ 0.01256172]\n",
      " [ 0.01066018]\n",
      " [-0.00045935]\n",
      " [ 0.01210917]\n",
      " [ 0.01305237]\n",
      " [ 0.00131859]\n",
      " [ 0.01376214]\n",
      " [ 0.02001749]\n",
      " [-0.00188383]\n",
      " [ 0.00689044]\n",
      " [ 0.01929372]\n",
      " [-0.01451079]\n",
      " [-0.0039672 ]\n",
      " [ 0.0098713 ]\n",
      " [ 0.03664056]\n",
      " [ 0.02023039]\n",
      " [ 0.01134437]\n",
      " [ 0.02558738]\n",
      " [-0.00191896]\n",
      " [ 0.024786  ]\n",
      " [ 0.02702703]]\n"
     ]
    }
   ],
   "source": [
    "start_weights = start_weights * (1/start_capacity)\n",
    "end_weights = end_weights * (1/end_capacity)\n",
    "#breakpoint()\n",
    "print(\"Start Weights\")\n",
    "print(start_weights)\n",
    "print(\"\\nEnd Weights\")\n",
    "print(end_weights)"
   ],
   "metadata": {
    "collapsed": false,
    "ExecuteTime": {
     "end_time": "2023-08-10T21:49:07.064067354Z",
     "start_time": "2023-08-10T21:49:07.060590986Z"
    }
   }
  },
  {
   "cell_type": "code",
   "execution_count": 50,
   "outputs": [
    {
     "name": "stdout",
     "output_type": "stream",
     "text": [
      "[[0.0160979]]\n",
      "[[0.84200502]]\n",
      "[[0.11642384]]\n",
      "[[0.62525524]]\n"
     ]
    }
   ],
   "source": [
    "addend_1 = start_weights.T @ metrics.pairwise.linear_kernel(start_elements, start_elements) @ start_weights\n",
    "addend_2 = end_weights.T @ metrics.pairwise.linear_kernel(end_elements, end_elements) @ end_weights\n",
    "addend_3 = start_weights.T @ metrics.pairwise.linear_kernel(start_elements, end_elements) @ end_weights\n",
    "print(addend_1)\n",
    "print(addend_2)\n",
    "print(addend_3)\n",
    "print(addend_1+addend_2-(2*addend_3))"
   ],
   "metadata": {
    "collapsed": false,
    "ExecuteTime": {
     "end_time": "2023-08-10T21:49:07.416943538Z",
     "start_time": "2023-08-10T21:49:07.404501250Z"
    }
   }
  },
  {
   "cell_type": "markdown",
   "source": [],
   "metadata": {
    "collapsed": false
   }
  },
  {
   "cell_type": "code",
   "execution_count": null,
   "outputs": [],
   "source": [],
   "metadata": {
    "collapsed": false
   }
  }
 ],
 "metadata": {
  "kernelspec": {
   "display_name": "Python 3",
   "language": "python",
   "name": "python3"
  },
  "language_info": {
   "codemirror_mode": {
    "name": "ipython",
    "version": 2
   },
   "file_extension": ".py",
   "mimetype": "text/x-python",
   "name": "python",
   "nbconvert_exporter": "python",
   "pygments_lexer": "ipython2",
   "version": "2.7.6"
  }
 },
 "nbformat": 4,
 "nbformat_minor": 0
}
